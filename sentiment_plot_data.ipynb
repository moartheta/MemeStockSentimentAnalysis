{
 "cells": [
  {
   "cell_type": "code",
   "execution_count": null,
   "metadata": {},
   "outputs": [],
   "source": [
    "import pandas\n",
    "import numpy as np\n",
    "import pandas as pd\n",
    "\n",
    "import model_functions\n",
    "\n",
    "import panel as pn\n",
    "\n",
    "pn.extension('plotly')\n",
    "import matplotlib.pyplot as plt\n",
    "import holoviews as hv\n",
    "from holoviews import opts\n",
    "import plotly.express as px\n",
    "import plotly.graph_objects as go\n",
    "from panel.interact import interact\n",
    "from panel import widgets\n",
    "import hvplot.pandas"
   ]
  },
  {
   "cell_type": "code",
   "execution_count": 3,
   "metadata": {},
   "outputs": [],
   "source": [
    "tickers= ['gme', 'nio', 'pltr', 'plug', 'tsla']"
   ]
  },
  {
   "cell_type": "code",
   "execution_count": 5,
   "metadata": {},
   "outputs": [
    {
     "name": "stdout",
     "output_type": "stream",
     "text": [
      "gme saved to csv!\n",
      "nio saved to csv!\n",
      "pltr saved to csv!\n",
      "plug saved to csv!\n",
      "tsla saved to csv!\n"
     ]
    }
   ],
   "source": [
    "model_functions.twitter_sentiment_scores(tickers)"
   ]
  },
  {
   "cell_type": "code",
   "execution_count": null,
   "metadata": {},
   "outputs": [],
   "source": [
    "gme_df = pd.read_csv('Data/MasterSentiment/master_sentiment_gme.csv', index_col=\"Created\", infer_datetime_format=True, parse_dates=True)\n",
    "nio_df = pd.read_csv('Data/MasterSentiment/master_sentiment_nio.csv', index_col=\"Created\", infer_datetime_format=True, parse_dates=True)\n",
    "pltr_df = pd.read_csv('Data/MasterSentiment/master_sentiment_pltr.csv', index_col=\"Created\", infer_datetime_format=True, parse_dates=True)\n",
    "plug_df = pd.read_csv('Data/MasterSentiment/master_sentiment_plug.csv', index_col=\"Created\", infer_datetime_format=True, parse_dates=True)\n",
    "tsla_df = pd.read_csv('Data/MasterSentiment/master_sentiment_tsla.csv', index_col=\"Created\", infer_datetime_format=True, parse_dates=True)"
   ]
  },
  {
   "cell_type": "code",
   "execution_count": null,
   "metadata": {},
   "outputs": [],
   "source": [
    "gme_df[\"Stock\"] = \"GME\"\n",
    "nio_df[\"Stock\"] = \"NIO\"\n",
    "pltr_df[\"Stock\"] = \"PLTR\"\n",
    "plug_df[\"Stock\"] = \"PLUG\"\n",
    "tsla_df[\"Stock\"] = \"TSLA\""
   ]
  },
  {
   "cell_type": "code",
   "execution_count": null,
   "metadata": {},
   "outputs": [],
   "source": [
    "joined_df = pd.concat([gme_df, nio_df, pltr_df, plug_df, tsla_df], axis=0)"
   ]
  },
  {
   "cell_type": "code",
   "execution_count": null,
   "metadata": {},
   "outputs": [],
   "source": [
    "joined_df.to_csv('Data/MasterSentiment/master_sentiment_combined.csv', header=True, index=True)"
   ]
  },
  {
   "cell_type": "code",
   "execution_count": null,
   "metadata": {},
   "outputs": [],
   "source": [
    "df = pd.read_csv('Data/MasterSentiment/master_sentiment_combined.csv', index_col=\"Created\", infer_datetime_format=True, parse_dates=True)"
   ]
  },
  {
   "cell_type": "code",
   "execution_count": null,
   "metadata": {},
   "outputs": [],
   "source": [
    "gme_df['NLTK_Compound'] = gme_df['NLTK_Compound'] * (gme_df['Like Score'].mean())\n",
    "gme_df['Blob Score'] = gme_df['Blob Score'] * (gme_df['Like Score'].mean())\n",
    "nio_df['NLTK_Compound'] = nio_df['NLTK_Compound'] * (nio_df['Like Score'].mean())\n",
    "nio_df['Blob Score'] = nio_df['Blob Score'] * (nio_df['Like Score'].mean())\n",
    "pltr_df['NLTK_Compound'] = pltr_df['NLTK_Compound'] * (pltr_df['Like Score'].mean())\n",
    "pltr_df['Blob Score'] = pltr_df['Blob Score'] * (pltr_df['Like Score'].mean())\n",
    "plug_df['NLTK_Compound'] = plug_df['NLTK_Compound'] * (plug_df['Like Score'].mean())\n",
    "plug_df['Blob Score'] = plug_df['Blob Score'] * (plug_df['Like Score'].mean())\n",
    "tsla_df['NLTK_Compound'] = tsla_df['NLTK_Compound'] * (tsla_df['Like Score'].mean())\n",
    "tsla_df['Blob Score'] = tsla_df['Blob Score'] * (tsla_df['Like Score'].mean())"
   ]
  },
  {
   "cell_type": "code",
   "execution_count": null,
   "metadata": {},
   "outputs": [],
   "source": [
    "pltr_df"
   ]
  },
  {
   "cell_type": "code",
   "execution_count": null,
   "metadata": {},
   "outputs": [],
   "source": [
    "gme_fig = go.Figure()\n",
    "gme_fig.add_trace(go.Scatter(name = 'NLTK Score', x=gme_df.index, y = gme_df['NLTK_Compound']))\n",
    "gme_fig.add_trace(go.Scatter(name = 'Blob Score', x=gme_df.index, y = gme_df['Blob Score']))\n",
    "gme_fig.add_trace(go.Bar(name = 'Like Score', x=gme_df.index, y = gme_df['Like Score']))\n",
    "gme_fig.update_layout(title=\"GME Sentiment Analysis\")\n",
    "gme_fig.show()"
   ]
  },
  {
   "cell_type": "code",
   "execution_count": null,
   "metadata": {},
   "outputs": [],
   "source": [
    "nio_fig = go.Figure()\n",
    "nio_fig.add_trace(go.Scatter(name = 'NLTK Score', x=nio_df.index, y = nio_df['NLTK_Compound']))\n",
    "nio_fig.add_trace(go.Scatter(name = 'Blob Score', x=nio_df.index, y = nio_df['Blob Score']))\n",
    "nio_fig.add_trace(go.Bar(name = 'Like Score', x=nio_df.index, y = nio_df['Like Score']))\n",
    "nio_fig.update_layout(title=\"NIO Sentiment Analysis\")\n",
    "nio_fig.show()"
   ]
  },
  {
   "cell_type": "code",
   "execution_count": null,
   "metadata": {},
   "outputs": [],
   "source": [
    "pltr_fig = go.Figure()\n",
    "pltr_fig.add_trace(go.Scatter(name = 'NLTK Score', x=pltr_df.index, y = pltr_df['NLTK_Compound']))\n",
    "pltr_fig.add_trace(go.Scatter(name = 'Blob Score', x=pltr_df.index, y = pltr_df['Blob Score']))\n",
    "pltr_fig.add_trace(go.Bar(name = 'Like Score', x=pltr_df.index, y = pltr_df['Like Score']))\n",
    "pltr_fig.update_layout(title=\"PLTR Sentiment Analysis\")\n",
    "pltr_fig.show()"
   ]
  },
  {
   "cell_type": "code",
   "execution_count": null,
   "metadata": {},
   "outputs": [],
   "source": [
    "plug_fig = go.Figure()\n",
    "plug_fig.add_trace(go.Scatter(name = 'NLTK Score', x=plug_df.index, y = plug_df['NLTK_Compound']))\n",
    "plug_fig.add_trace(go.Scatter(name = 'Blob Score', x=plug_df.index, y = plug_df['Blob Score']))\n",
    "plug_fig.add_trace(go.Bar(name = 'Like Score', x=plug_df.index, y = plug_df['Like Score']))\n",
    "plug_fig.update_layout(title=\"PLUG Sentiment Analysis\")\n",
    "plug_fig.show()"
   ]
  },
  {
   "cell_type": "code",
   "execution_count": null,
   "metadata": {},
   "outputs": [],
   "source": [
    "tsla_fig = go.Figure()\n",
    "tsla_fig.add_trace(go.Scatter(name = 'NLTK Score', x=tsla_df.index, y = tsla_df['NLTK_Compound']))\n",
    "tsla_fig.add_trace(go.Scatter(name = 'Blob Score', x=tsla_df.index, y = tsla_df['Blob Score']))\n",
    "tsla_fig.add_trace(go.Bar(name = 'Like Score', x=tsla_df.index, y = tsla_df['Like Score']))\n",
    "tsla_fig.update_layout(title=\"TSLA Sentiment Analysis\")\n",
    "tsla_fig.show()"
   ]
  },
  {
   "cell_type": "code",
   "execution_count": null,
   "metadata": {},
   "outputs": [],
   "source": [
    "gme_tweets = pd.read_csv('Data/reddit_gme_sentiment.csv', index_col=\"Created\", infer_datetime_format=True, parse_dates=True)"
   ]
  },
  {
   "cell_type": "code",
   "execution_count": null,
   "metadata": {},
   "outputs": [],
   "source": [
    "gme_tweets.index = pd.to_datetime(gme_tweets.index, utc = True)\n",
    "gme_tweets.index = gme_tweets.index.date"
   ]
  },
  {
   "cell_type": "code",
   "execution_count": null,
   "metadata": {},
   "outputs": [],
   "source": [
    "gme_prices = pd.read_csv('Data/alpaca_data.csv', index_col=\"Created\", infer_datetime_format=True, parse_dates=True).sort_index()"
   ]
  },
  {
   "cell_type": "code",
   "execution_count": null,
   "metadata": {},
   "outputs": [],
   "source": [
    "gme_prices = gme_prices[['GME']]\n",
    "gme_prices.index = pd.to_datetime(gme_prices.index, utc = True)\n",
    "gme_prices.index = gme_prices.index.date"
   ]
  },
  {
   "cell_type": "code",
   "execution_count": null,
   "metadata": {},
   "outputs": [],
   "source": [
    "gme_combined = gme_tweets.merge(gme_prices, left_index=True, right_index=True).dropna()\n",
    "gme_combined['NLTK_Compound'] = (gme_combined['NLTK_Compound']) * (gme_combined['GME'].mean())\n",
    "gme_combined['Blob Score'] = (gme_combined['Blob Score']) * (gme_combined['GME'].mean())"
   ]
  },
  {
   "cell_type": "code",
   "execution_count": null,
   "metadata": {},
   "outputs": [],
   "source": [
    "gme_combined.head()"
   ]
  },
  {
   "cell_type": "code",
   "execution_count": null,
   "metadata": {},
   "outputs": [],
   "source": [
    "gme_combined.plot()"
   ]
  }
 ],
 "metadata": {
  "kernelspec": {
   "display_name": "Python [conda env:tensorflow]",
   "language": "python",
   "name": "conda-env-tensorflow-py"
  },
  "language_info": {
   "codemirror_mode": {
    "name": "ipython",
    "version": 3
   },
   "file_extension": ".py",
   "mimetype": "text/x-python",
   "name": "python",
   "nbconvert_exporter": "python",
   "pygments_lexer": "ipython3",
   "version": "3.7.9"
  }
 },
 "nbformat": 4,
 "nbformat_minor": 4
}
