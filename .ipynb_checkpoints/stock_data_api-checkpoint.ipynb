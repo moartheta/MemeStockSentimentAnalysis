{
 "cells": [
  {
   "cell_type": "code",
   "execution_count": 1,
   "metadata": {},
   "outputs": [],
   "source": [
    "#Initial Imports\n",
    "import os\n",
    "import json\n",
    "import pandas as pd\n",
    "from pathlib import Path\n",
    "\n",
    "from dotenv import load_dotenv\n",
    "load_dotenv()\n",
    "\n",
    "import quandl\n",
    "import alpaca_trade_api as tradeapi"
   ]
  },
  {
   "cell_type": "code",
   "execution_count": 2,
   "metadata": {},
   "outputs": [
    {
     "name": "stdout",
     "output_type": "stream",
     "text": [
      "Alpaca Key Loaded!\n",
      "Alpaca Secret Key Loaded!\n",
      "Alpaca API Successfully Initialized!\n"
     ]
    }
   ],
   "source": [
    "#Importing functions\n",
    "import api_access\n",
    "\n",
    "#Initialize alpaca api\n",
    "alpaca = api_access.OAuth('alpaca')"
   ]
  },
  {
   "cell_type": "code",
   "execution_count": 3,
   "metadata": {},
   "outputs": [],
   "source": [
    "# Set Alpaca Fetch Parameters\n",
    "#Dates\n",
    "alpca_start_date = \"01-16-2020\"\n",
    "alpca_end_date = \"03-16-2020\"\n",
    "\n",
    "#Frequency\n",
    "period = '1D'\n",
    "\n",
    "#Stock Tickers\n",
    "alpca_tickers = [\"PLTR\", \"NIO\", \"TSLA\", \"GME\"]"
   ]
  },
  {
   "cell_type": "code",
   "execution_count": 4,
   "metadata": {},
   "outputs": [
    {
     "data": {
      "text/html": [
       "<div>\n",
       "<style scoped>\n",
       "    .dataframe tbody tr th:only-of-type {\n",
       "        vertical-align: middle;\n",
       "    }\n",
       "\n",
       "    .dataframe tbody tr th {\n",
       "        vertical-align: top;\n",
       "    }\n",
       "\n",
       "    .dataframe thead tr th {\n",
       "        text-align: left;\n",
       "    }\n",
       "\n",
       "    .dataframe thead tr:last-of-type th {\n",
       "        text-align: right;\n",
       "    }\n",
       "</style>\n",
       "<table border=\"1\" class=\"dataframe\">\n",
       "  <thead>\n",
       "    <tr>\n",
       "      <th></th>\n",
       "      <th>GME</th>\n",
       "      <th>NIO</th>\n",
       "      <th>PLTR</th>\n",
       "      <th>TSLA</th>\n",
       "    </tr>\n",
       "    <tr>\n",
       "      <th></th>\n",
       "      <th>close</th>\n",
       "      <th>close</th>\n",
       "      <th>close</th>\n",
       "      <th>close</th>\n",
       "    </tr>\n",
       "    <tr>\n",
       "      <th>time</th>\n",
       "      <th></th>\n",
       "      <th></th>\n",
       "      <th></th>\n",
       "      <th></th>\n",
       "    </tr>\n",
       "  </thead>\n",
       "  <tbody>\n",
       "    <tr>\n",
       "      <th>2020-01-16 05:00:00+00:00</th>\n",
       "      <td>4.615</td>\n",
       "      <td>4.37</td>\n",
       "      <td>NaN</td>\n",
       "      <td>513.4900</td>\n",
       "    </tr>\n",
       "    <tr>\n",
       "      <th>2020-01-17 05:00:00+00:00</th>\n",
       "      <td>4.740</td>\n",
       "      <td>4.67</td>\n",
       "      <td>NaN</td>\n",
       "      <td>510.1900</td>\n",
       "    </tr>\n",
       "    <tr>\n",
       "      <th>2020-01-21 05:00:00+00:00</th>\n",
       "      <td>4.595</td>\n",
       "      <td>5.17</td>\n",
       "      <td>NaN</td>\n",
       "      <td>547.3007</td>\n",
       "    </tr>\n",
       "    <tr>\n",
       "      <th>2020-01-22 05:00:00+00:00</th>\n",
       "      <td>4.560</td>\n",
       "      <td>4.80</td>\n",
       "      <td>NaN</td>\n",
       "      <td>569.4300</td>\n",
       "    </tr>\n",
       "    <tr>\n",
       "      <th>2020-01-23 05:00:00+00:00</th>\n",
       "      <td>4.620</td>\n",
       "      <td>4.88</td>\n",
       "      <td>NaN</td>\n",
       "      <td>571.9422</td>\n",
       "    </tr>\n",
       "  </tbody>\n",
       "</table>\n",
       "</div>"
      ],
      "text/plain": [
       "                             GME   NIO  PLTR      TSLA\n",
       "                           close close close     close\n",
       "time                                                  \n",
       "2020-01-16 05:00:00+00:00  4.615  4.37   NaN  513.4900\n",
       "2020-01-17 05:00:00+00:00  4.740  4.67   NaN  510.1900\n",
       "2020-01-21 05:00:00+00:00  4.595  5.17   NaN  547.3007\n",
       "2020-01-22 05:00:00+00:00  4.560  4.80   NaN  569.4300\n",
       "2020-01-23 05:00:00+00:00  4.620  4.88   NaN  571.9422"
      ]
     },
     "execution_count": 4,
     "metadata": {},
     "output_type": "execute_result"
    }
   ],
   "source": [
    "#Fetch stock data: (api access, tickers, start, end, period)\n",
    "alpaca_df = api_access.fetch_alpaca(alpaca, alpca_tickers, alpca_start_date, \n",
    "                                     alpca_end_date, period)\n",
    "alpaca_df.head()"
   ]
  },
  {
   "cell_type": "code",
   "execution_count": 5,
   "metadata": {},
   "outputs": [
    {
     "name": "stdout",
     "output_type": "stream",
     "text": [
      "Quandl Key Loaded!\n"
     ]
    }
   ],
   "source": [
    "#Importing functions\n",
    "import api_access\n",
    "\n",
    "#Initialize quandl api\n",
    "quandl = api_access.OAuth('quandl')"
   ]
  },
  {
   "cell_type": "code",
   "execution_count": 6,
   "metadata": {},
   "outputs": [],
   "source": [
    "# Set Alpaca Fetch Parameters\n",
    "#Dates\n",
    "qndl_start_date = \"2020-01-02\"\n",
    "qndl_end_date = \"2021-01-04\"\n",
    "\n",
    "#Tickers\n",
    "qndl_tickers = [\"CHRIS/ICE_CT1\", \"CHRIS/ICE_SB1\"]"
   ]
  },
  {
   "cell_type": "code",
   "execution_count": 7,
   "metadata": {},
   "outputs": [
    {
     "data": {
      "text/html": [
       "<div>\n",
       "<style scoped>\n",
       "    .dataframe tbody tr th:only-of-type {\n",
       "        vertical-align: middle;\n",
       "    }\n",
       "\n",
       "    .dataframe tbody tr th {\n",
       "        vertical-align: top;\n",
       "    }\n",
       "\n",
       "    .dataframe thead th {\n",
       "        text-align: right;\n",
       "    }\n",
       "</style>\n",
       "<table border=\"1\" class=\"dataframe\">\n",
       "  <thead>\n",
       "    <tr style=\"text-align: right;\">\n",
       "      <th></th>\n",
       "      <th>CHRIS/ICE_CT1 - Settle</th>\n",
       "      <th>CHRIS/ICE_SB1 - Settle</th>\n",
       "    </tr>\n",
       "    <tr>\n",
       "      <th>Date</th>\n",
       "      <th></th>\n",
       "      <th></th>\n",
       "    </tr>\n",
       "  </thead>\n",
       "  <tbody>\n",
       "    <tr>\n",
       "      <th>2020-01-02</th>\n",
       "      <td>69.27</td>\n",
       "      <td>13.13</td>\n",
       "    </tr>\n",
       "    <tr>\n",
       "      <th>2020-01-03</th>\n",
       "      <td>69.20</td>\n",
       "      <td>13.31</td>\n",
       "    </tr>\n",
       "    <tr>\n",
       "      <th>2020-01-06</th>\n",
       "      <td>70.04</td>\n",
       "      <td>13.73</td>\n",
       "    </tr>\n",
       "    <tr>\n",
       "      <th>2020-01-07</th>\n",
       "      <td>69.83</td>\n",
       "      <td>13.59</td>\n",
       "    </tr>\n",
       "    <tr>\n",
       "      <th>2020-01-08</th>\n",
       "      <td>69.96</td>\n",
       "      <td>13.47</td>\n",
       "    </tr>\n",
       "  </tbody>\n",
       "</table>\n",
       "</div>"
      ],
      "text/plain": [
       "            CHRIS/ICE_CT1 - Settle  CHRIS/ICE_SB1 - Settle\n",
       "Date                                                      \n",
       "2020-01-02                   69.27                   13.13\n",
       "2020-01-03                   69.20                   13.31\n",
       "2020-01-06                   70.04                   13.73\n",
       "2020-01-07                   69.83                   13.59\n",
       "2020-01-08                   69.96                   13.47"
      ]
     },
     "execution_count": 7,
     "metadata": {},
     "output_type": "execute_result"
    }
   ],
   "source": [
    "#Fetch stock data: (api access, tickers, start, end)\n",
    "quandl_df = api_access.fetch_quandl(quandl, qndl_tickers, qndl_start_date, qndl_end_date)\n",
    "quandl_df.head()"
   ]
  }
 ],
 "metadata": {
  "kernelspec": {
   "display_name": "Python [conda env:pyvizenv] *",
   "language": "python",
   "name": "conda-env-pyvizenv-py"
  },
  "language_info": {
   "codemirror_mode": {
    "name": "ipython",
    "version": 3
   },
   "file_extension": ".py",
   "mimetype": "text/x-python",
   "name": "python",
   "nbconvert_exporter": "python",
   "pygments_lexer": "ipython3",
   "version": "3.7.7"
  }
 },
 "nbformat": 4,
 "nbformat_minor": 4
}
