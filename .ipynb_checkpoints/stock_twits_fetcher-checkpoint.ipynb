{
 "cells": [
  {
   "cell_type": "code",
   "execution_count": 1,
   "metadata": {},
   "outputs": [],
   "source": [
    "import json\n",
    "import requests\n",
    "import pandas as pd\n",
    "from collections import Counter"
   ]
  },
  {
   "cell_type": "code",
   "execution_count": 35,
   "metadata": {},
   "outputs": [],
   "source": [
    "id_list1 = []\n",
    "for i in range(274307863, 264307863, -1000000):\n",
    "    id_list1.append(i)"
   ]
  },
  {
   "cell_type": "code",
   "execution_count": 36,
   "metadata": {},
   "outputs": [],
   "source": [
    "id_list2 = []\n",
    "for i in range(264307863, 254307863, -1000000):\n",
    "    id_list2.append(i)"
   ]
  },
  {
   "cell_type": "code",
   "execution_count": 37,
   "metadata": {},
   "outputs": [],
   "source": [
    "id_list3 = []\n",
    "for i in range(254307863, 244307863, -1000000):\n",
    "    id_list3.append(i)"
   ]
  },
  {
   "cell_type": "code",
   "execution_count": 91,
   "metadata": {},
   "outputs": [],
   "source": [
    "def finding_posts(id_list, symbol):\n",
    "    \n",
    "    combined = []\n",
    "    \n",
    "    for ids in id_list:\n",
    "        \n",
    "        max = ids\n",
    "        symbol_id = symbol\n",
    "        url = \"https://api.stocktwits.com/api/2/\"\n",
    "        headers = {'Content-Type': 'application/json'}\n",
    "    \n",
    "        form_url = url + 'streams/symbol/' + symbol_id + '.json'\n",
    "        params = {'max': max}\n",
    "        r = requests.get(form_url, headers=headers, params=params)\n",
    "        raw_json = r.json()\n",
    "        tsla_tweets = raw_json['messages']\n",
    "        \n",
    "        for tweets in range(0,len(tsla_tweets)):\n",
    "            data = []\n",
    "            data.append(tsla_tweets[tweets]['body'])\n",
    "            data.append(tsla_tweets[tweets]['created_at'])\n",
    "            data.append(tsla_tweets[tweets]['user']['like_count'])\n",
    "            sentiment = tsla_tweets[tweets]['entities']\n",
    "            sentiment_check = sentiment.get('sentiment', 0)\n",
    "            data.append(sentiment_check)\n",
    "            \n",
    "            combined.append(data)\n",
    "    \n",
    "    return combined"
   ]
  },
  {
   "cell_type": "code",
   "execution_count": 125,
   "metadata": {},
   "outputs": [],
   "source": [
    "test = finding_posts(id_list1, \"PLUG\")"
   ]
  },
  {
   "cell_type": "code",
   "execution_count": null,
   "metadata": {},
   "outputs": [],
   "source": [
    "test2 = finding_posts(id_list2, \"PLUG\")"
   ]
  },
  {
   "cell_type": "code",
   "execution_count": null,
   "metadata": {},
   "outputs": [],
   "source": [
    "test3 = finding_posts(id_list3, \"PLUG\")"
   ]
  },
  {
   "cell_type": "code",
   "execution_count": 119,
   "metadata": {},
   "outputs": [],
   "source": [
    "st_posts_1 = pd.DataFrame(test, columns=['Text', 'Created', 'Likes', 'Sentiment'])"
   ]
  },
  {
   "cell_type": "code",
   "execution_count": 120,
   "metadata": {},
   "outputs": [],
   "source": [
    "st_posts_2 = pd.DataFrame(test2, columns=['Text', 'Created', 'Likes', 'Sentiment'])"
   ]
  },
  {
   "cell_type": "code",
   "execution_count": 121,
   "metadata": {},
   "outputs": [],
   "source": [
    "st_posts_2 = pd.DataFrame(test3, columns=['Text', 'Created', 'Likes', 'Sentiment'])"
   ]
  },
  {
   "cell_type": "code",
   "execution_count": 122,
   "metadata": {},
   "outputs": [],
   "source": [
    "st_joined = pd.concat([st_posts_1, st_posts_2, st_posts_3])"
   ]
  },
  {
   "cell_type": "code",
   "execution_count": null,
   "metadata": {},
   "outputs": [],
   "source": [
    "st_joined.head()"
   ]
  },
  {
   "cell_type": "code",
   "execution_count": 124,
   "metadata": {},
   "outputs": [],
   "source": [
    "st_joined.to_csv(r'Data/tsla_tweets.csv', header=True, index=False)"
   ]
  }
 ],
 "metadata": {
  "kernelspec": {
   "display_name": "Python [conda env:pyvizenv] *",
   "language": "python",
   "name": "conda-env-pyvizenv-py"
  },
  "language_info": {
   "codemirror_mode": {
    "name": "ipython",
    "version": 3
   },
   "file_extension": ".py",
   "mimetype": "text/x-python",
   "name": "python",
   "nbconvert_exporter": "python",
   "pygments_lexer": "ipython3",
   "version": "3.7.7"
  }
 },
 "nbformat": 4,
 "nbformat_minor": 4
}
