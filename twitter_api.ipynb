{
 "cells": [
  {
   "cell_type": "code",
   "execution_count": 19,
   "metadata": {},
   "outputs": [
    {
     "data": {
      "text/plain": [
       "True"
      ]
     },
     "execution_count": 19,
     "metadata": {},
     "output_type": "execute_result"
    }
   ],
   "source": [
    "# Import Python wrapper around Twitter API called tweepy\n",
    "import tweepy\n",
    "\n",
    "# Other Initial Imports\n",
    "import os\n",
    "import pandas as pd\n",
    "import numpy as np\n",
    "import json\n",
    "from dotenv import load_dotenv\n",
    "load_dotenv()"
   ]
  },
  {
   "cell_type": "code",
   "execution_count": 20,
   "metadata": {},
   "outputs": [
    {
     "name": "stdout",
     "output_type": "stream",
     "text": [
      "Twitter Conusmer Key Loaded!\n",
      "Twitter Consumer Secret Key Loaded!\n",
      "Twitter Access Key Loaded!\n",
      "Twitter Access Secret Key Loaded!\n"
     ]
    }
   ],
   "source": [
    "#Importing functions\n",
    "import api_access\n",
    "\n",
    "#Setting authorization\n",
    "twitter_access = api_access.OAuth(\"twitter\")"
   ]
  },
  {
   "cell_type": "code",
   "execution_count": 21,
   "metadata": {},
   "outputs": [
    {
     "data": {
      "text/plain": [
       "tweepy.api.API"
      ]
     },
     "execution_count": 21,
     "metadata": {},
     "output_type": "execute_result"
    }
   ],
   "source": [
    "# Connect to API\n",
    "auth = tweepy.OAuthHandler(consumer_key, consumer_secret)\n",
    "auth.set_access_token(access_key, access_secret)\n",
    "api = tweepy.API(auth)\n",
    "auth = tweepy.AppAuthHandler(consumer_key, consumer_secret)\n",
    "api = tweepy.API(auth, wait_on_rate_limit = True, wait_on_rate_limit_notify = True)\n",
    "type(api)\n",
    "#dir(api)"
   ]
  },
  {
   "cell_type": "code",
   "execution_count": 22,
   "metadata": {},
   "outputs": [],
   "source": [
    "# https://docs.tweepy.org/en/latest/api.html#search-methods\n",
    "# Datetime format must be UTC as follows - 'YYYYMMDDHHMM'\n",
    "tesla_tweets = api.search_full_archive(environment_name = 'stockresearch', query = \"TSLA stock buy\", fromDate = '202101170000', toDate = '202101171459')\n",
    "#tesla_tweets"
   ]
  },
  {
   "cell_type": "code",
   "execution_count": 23,
   "metadata": {},
   "outputs": [],
   "source": [
    "json_data = [t._json for t in tesla_tweets]\n",
    "tesla_df = pd.json_normalize(json_data)"
   ]
  },
  {
   "cell_type": "code",
   "execution_count": 24,
   "metadata": {},
   "outputs": [
    {
     "data": {
      "text/html": [
       "<div>\n",
       "<style scoped>\n",
       "    .dataframe tbody tr th:only-of-type {\n",
       "        vertical-align: middle;\n",
       "    }\n",
       "\n",
       "    .dataframe tbody tr th {\n",
       "        vertical-align: top;\n",
       "    }\n",
       "\n",
       "    .dataframe thead th {\n",
       "        text-align: right;\n",
       "    }\n",
       "</style>\n",
       "<table border=\"1\" class=\"dataframe\">\n",
       "  <thead>\n",
       "    <tr style=\"text-align: right;\">\n",
       "      <th></th>\n",
       "      <th>created_at</th>\n",
       "      <th>id</th>\n",
       "      <th>id_str</th>\n",
       "      <th>text</th>\n",
       "      <th>source</th>\n",
       "      <th>truncated</th>\n",
       "      <th>in_reply_to_status_id</th>\n",
       "      <th>in_reply_to_status_id_str</th>\n",
       "      <th>in_reply_to_user_id</th>\n",
       "      <th>in_reply_to_user_id_str</th>\n",
       "      <th>...</th>\n",
       "      <th>quoted_status.entities.symbols</th>\n",
       "      <th>quoted_status.favorited</th>\n",
       "      <th>quoted_status.retweeted</th>\n",
       "      <th>quoted_status.filter_level</th>\n",
       "      <th>quoted_status.lang</th>\n",
       "      <th>quoted_status_permalink.url</th>\n",
       "      <th>quoted_status_permalink.expanded</th>\n",
       "      <th>quoted_status_permalink.display</th>\n",
       "      <th>extended_tweet.entities.media</th>\n",
       "      <th>extended_tweet.extended_entities.media</th>\n",
       "    </tr>\n",
       "  </thead>\n",
       "  <tbody>\n",
       "    <tr>\n",
       "      <th>0</th>\n",
       "      <td>Sun Jan 17 14:56:56 +0000 2021</td>\n",
       "      <td>1350819400295845888</td>\n",
       "      <td>1350819400295845888</td>\n",
       "      <td>RT @9to5investing: Lucid Motors Stock- The Nex...</td>\n",
       "      <td>&lt;a href=\"https://mobile.twitter.com\" rel=\"nofo...</td>\n",
       "      <td>False</td>\n",
       "      <td>NaN</td>\n",
       "      <td>None</td>\n",
       "      <td>NaN</td>\n",
       "      <td>None</td>\n",
       "      <td>...</td>\n",
       "      <td>NaN</td>\n",
       "      <td>NaN</td>\n",
       "      <td>NaN</td>\n",
       "      <td>NaN</td>\n",
       "      <td>NaN</td>\n",
       "      <td>NaN</td>\n",
       "      <td>NaN</td>\n",
       "      <td>NaN</td>\n",
       "      <td>NaN</td>\n",
       "      <td>NaN</td>\n",
       "    </tr>\n",
       "    <tr>\n",
       "      <th>1</th>\n",
       "      <td>Sun Jan 17 14:54:03 +0000 2021</td>\n",
       "      <td>1350818673502679040</td>\n",
       "      <td>1350818673502679040</td>\n",
       "      <td>Twitter is a glorious place for shils and thei...</td>\n",
       "      <td>&lt;a href=\"http://twitter.com/download/android\" ...</td>\n",
       "      <td>True</td>\n",
       "      <td>NaN</td>\n",
       "      <td>None</td>\n",
       "      <td>NaN</td>\n",
       "      <td>None</td>\n",
       "      <td>...</td>\n",
       "      <td>NaN</td>\n",
       "      <td>NaN</td>\n",
       "      <td>NaN</td>\n",
       "      <td>NaN</td>\n",
       "      <td>NaN</td>\n",
       "      <td>NaN</td>\n",
       "      <td>NaN</td>\n",
       "      <td>NaN</td>\n",
       "      <td>NaN</td>\n",
       "      <td>NaN</td>\n",
       "    </tr>\n",
       "    <tr>\n",
       "      <th>2</th>\n",
       "      <td>Sun Jan 17 14:46:58 +0000 2021</td>\n",
       "      <td>1350816892961755141</td>\n",
       "      <td>1350816892961755141</td>\n",
       "      <td>RT @9to5investing: Lucid Motors Stock- The Nex...</td>\n",
       "      <td>&lt;a href=\"https://mobile.twitter.com\" rel=\"nofo...</td>\n",
       "      <td>False</td>\n",
       "      <td>NaN</td>\n",
       "      <td>None</td>\n",
       "      <td>NaN</td>\n",
       "      <td>None</td>\n",
       "      <td>...</td>\n",
       "      <td>NaN</td>\n",
       "      <td>NaN</td>\n",
       "      <td>NaN</td>\n",
       "      <td>NaN</td>\n",
       "      <td>NaN</td>\n",
       "      <td>NaN</td>\n",
       "      <td>NaN</td>\n",
       "      <td>NaN</td>\n",
       "      <td>NaN</td>\n",
       "      <td>NaN</td>\n",
       "    </tr>\n",
       "    <tr>\n",
       "      <th>3</th>\n",
       "      <td>Sun Jan 17 14:42:52 +0000 2021</td>\n",
       "      <td>1350815858197753864</td>\n",
       "      <td>1350815858197753864</td>\n",
       "      <td>RT @9to5investing: Lucid Motors Stock- The Nex...</td>\n",
       "      <td>&lt;a href=\"https://mobile.twitter.com\" rel=\"nofo...</td>\n",
       "      <td>False</td>\n",
       "      <td>NaN</td>\n",
       "      <td>None</td>\n",
       "      <td>NaN</td>\n",
       "      <td>None</td>\n",
       "      <td>...</td>\n",
       "      <td>NaN</td>\n",
       "      <td>NaN</td>\n",
       "      <td>NaN</td>\n",
       "      <td>NaN</td>\n",
       "      <td>NaN</td>\n",
       "      <td>NaN</td>\n",
       "      <td>NaN</td>\n",
       "      <td>NaN</td>\n",
       "      <td>NaN</td>\n",
       "      <td>NaN</td>\n",
       "    </tr>\n",
       "    <tr>\n",
       "      <th>4</th>\n",
       "      <td>Sun Jan 17 14:41:29 +0000 2021</td>\n",
       "      <td>1350815511110684673</td>\n",
       "      <td>1350815511110684673</td>\n",
       "      <td>RT @9to5investing: Lucid Motors Stock- The Nex...</td>\n",
       "      <td>&lt;a href=\"https://mobile.twitter.com\" rel=\"nofo...</td>\n",
       "      <td>False</td>\n",
       "      <td>NaN</td>\n",
       "      <td>None</td>\n",
       "      <td>NaN</td>\n",
       "      <td>None</td>\n",
       "      <td>...</td>\n",
       "      <td>NaN</td>\n",
       "      <td>NaN</td>\n",
       "      <td>NaN</td>\n",
       "      <td>NaN</td>\n",
       "      <td>NaN</td>\n",
       "      <td>NaN</td>\n",
       "      <td>NaN</td>\n",
       "      <td>NaN</td>\n",
       "      <td>NaN</td>\n",
       "      <td>NaN</td>\n",
       "    </tr>\n",
       "  </tbody>\n",
       "</table>\n",
       "<p>5 rows × 238 columns</p>\n",
       "</div>"
      ],
      "text/plain": [
       "                       created_at                   id               id_str  \\\n",
       "0  Sun Jan 17 14:56:56 +0000 2021  1350819400295845888  1350819400295845888   \n",
       "1  Sun Jan 17 14:54:03 +0000 2021  1350818673502679040  1350818673502679040   \n",
       "2  Sun Jan 17 14:46:58 +0000 2021  1350816892961755141  1350816892961755141   \n",
       "3  Sun Jan 17 14:42:52 +0000 2021  1350815858197753864  1350815858197753864   \n",
       "4  Sun Jan 17 14:41:29 +0000 2021  1350815511110684673  1350815511110684673   \n",
       "\n",
       "                                                text  \\\n",
       "0  RT @9to5investing: Lucid Motors Stock- The Nex...   \n",
       "1  Twitter is a glorious place for shils and thei...   \n",
       "2  RT @9to5investing: Lucid Motors Stock- The Nex...   \n",
       "3  RT @9to5investing: Lucid Motors Stock- The Nex...   \n",
       "4  RT @9to5investing: Lucid Motors Stock- The Nex...   \n",
       "\n",
       "                                              source  truncated  \\\n",
       "0  <a href=\"https://mobile.twitter.com\" rel=\"nofo...      False   \n",
       "1  <a href=\"http://twitter.com/download/android\" ...       True   \n",
       "2  <a href=\"https://mobile.twitter.com\" rel=\"nofo...      False   \n",
       "3  <a href=\"https://mobile.twitter.com\" rel=\"nofo...      False   \n",
       "4  <a href=\"https://mobile.twitter.com\" rel=\"nofo...      False   \n",
       "\n",
       "   in_reply_to_status_id in_reply_to_status_id_str  in_reply_to_user_id  \\\n",
       "0                    NaN                      None                  NaN   \n",
       "1                    NaN                      None                  NaN   \n",
       "2                    NaN                      None                  NaN   \n",
       "3                    NaN                      None                  NaN   \n",
       "4                    NaN                      None                  NaN   \n",
       "\n",
       "  in_reply_to_user_id_str  ... quoted_status.entities.symbols  \\\n",
       "0                    None  ...                            NaN   \n",
       "1                    None  ...                            NaN   \n",
       "2                    None  ...                            NaN   \n",
       "3                    None  ...                            NaN   \n",
       "4                    None  ...                            NaN   \n",
       "\n",
       "  quoted_status.favorited quoted_status.retweeted  quoted_status.filter_level  \\\n",
       "0                     NaN                     NaN                         NaN   \n",
       "1                     NaN                     NaN                         NaN   \n",
       "2                     NaN                     NaN                         NaN   \n",
       "3                     NaN                     NaN                         NaN   \n",
       "4                     NaN                     NaN                         NaN   \n",
       "\n",
       "  quoted_status.lang  quoted_status_permalink.url  \\\n",
       "0                NaN                          NaN   \n",
       "1                NaN                          NaN   \n",
       "2                NaN                          NaN   \n",
       "3                NaN                          NaN   \n",
       "4                NaN                          NaN   \n",
       "\n",
       "   quoted_status_permalink.expanded  quoted_status_permalink.display  \\\n",
       "0                               NaN                              NaN   \n",
       "1                               NaN                              NaN   \n",
       "2                               NaN                              NaN   \n",
       "3                               NaN                              NaN   \n",
       "4                               NaN                              NaN   \n",
       "\n",
       "   extended_tweet.entities.media  extended_tweet.extended_entities.media  \n",
       "0                            NaN                                     NaN  \n",
       "1                            NaN                                     NaN  \n",
       "2                            NaN                                     NaN  \n",
       "3                            NaN                                     NaN  \n",
       "4                            NaN                                     NaN  \n",
       "\n",
       "[5 rows x 238 columns]"
      ]
     },
     "execution_count": 24,
     "metadata": {},
     "output_type": "execute_result"
    }
   ],
   "source": [
    "#tesla_df.info()\n",
    "tesla_df.head()"
   ]
  },
  {
   "cell_type": "code",
   "execution_count": 25,
   "metadata": {},
   "outputs": [
    {
     "data": {
      "text/plain": [
       "created_at    datetime64[ns, UTC]\n",
       "text                       object\n",
       "dtype: object"
      ]
     },
     "execution_count": 25,
     "metadata": {},
     "output_type": "execute_result"
    }
   ],
   "source": [
    "columns = ['created_at', 'text']\n",
    "tesla_stock_df = pd.DataFrame(tesla_df, columns = columns)\n",
    "tesla_stock_df['created_at'] = pd.to_datetime(tesla_stock_df['created_at'])\n",
    "tesla_stock_df.dtypes"
   ]
  },
  {
   "cell_type": "code",
   "execution_count": 26,
   "metadata": {},
   "outputs": [
    {
     "name": "stdout",
     "output_type": "stream",
     "text": [
      "<class 'pandas.core.frame.DataFrame'>\n",
      "RangeIndex: 98 entries, 0 to 97\n",
      "Data columns (total 2 columns):\n",
      " #   Column      Non-Null Count  Dtype              \n",
      "---  ------      --------------  -----              \n",
      " 0   created_at  98 non-null     datetime64[ns, UTC]\n",
      " 1   text        98 non-null     object             \n",
      "dtypes: datetime64[ns, UTC](1), object(1)\n",
      "memory usage: 1.7+ KB\n"
     ]
    }
   ],
   "source": [
    "tesla_stock_df.info()"
   ]
  },
  {
   "cell_type": "code",
   "execution_count": 27,
   "metadata": {},
   "outputs": [],
   "source": [
    "tesla_stock_df.to_csv('tesla.csv')"
   ]
  },
  {
   "cell_type": "code",
   "execution_count": null,
   "metadata": {},
   "outputs": [],
   "source": []
  }
 ],
 "metadata": {
  "kernelspec": {
   "display_name": "Python 3",
   "language": "python",
   "name": "python3"
  },
  "language_info": {
   "codemirror_mode": {
    "name": "ipython",
    "version": 3
   },
   "file_extension": ".py",
   "mimetype": "text/x-python",
   "name": "python",
   "nbconvert_exporter": "python",
   "pygments_lexer": "ipython3",
   "version": "3.8.3"
  }
 },
 "nbformat": 4,
 "nbformat_minor": 4
}
