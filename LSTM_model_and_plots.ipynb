{
 "cells": [
  {
   "cell_type": "code",
   "execution_count": null,
   "metadata": {},
   "outputs": [],
   "source": [
    "#Initial Imports\n",
    "import pandas\n",
    "import numpy as np\n",
    "import pandas as pd\n",
    "\n",
    "import model_functions\n",
    "\n",
    "import panel as pn\n",
    "\n",
    "pn.extension('plotly')\n",
    "import matplotlib.pyplot as plt\n",
    "import holoviews as hv\n",
    "from holoviews import opts\n",
    "import plotly.express as px\n",
    "from panel.interact import interact\n",
    "from panel import widgets\n",
    "import hvplot.pandas\n",
    "\n",
    "from sklearn.preprocessing import MinMaxScaler\n",
    "from tensorflow.keras.models import Sequential\n",
    "from tensorflow.keras.layers import LSTM, Dense, Dropout"
   ]
  },
  {
   "cell_type": "code",
   "execution_count": null,
   "metadata": {},
   "outputs": [],
   "source": [
    "#Setting variables for LSTM Model\n",
    "num_units = 5\n",
    "dropout = 0.2\n",
    "epochs = 30\n",
    "batch_size = 3\n",
    "window_size = 5\n",
    "train_size = 0.7\n",
    "target_col_number = 0\n",
    "feature_col_number = 0"
   ]
  },
  {
   "cell_type": "code",
   "execution_count": null,
   "metadata": {},
   "outputs": [],
   "source": [
    "#Running TSLA three-feature model\n",
    "tsla_df, tsla_mse = model_functions.get_mse('TSLA', num_units, dropout, epochs, batch_size, window_size, train_size, target_col_number)"
   ]
  },
  {
   "cell_type": "code",
   "execution_count": null,
   "metadata": {},
   "outputs": [],
   "source": [
    "#Running TSLA one-feature model\n",
    "tsla_df_one, tsla_mse_one = model_functions.get_one_feature_model('TSLA', num_units, dropout, epochs, batch_size, window_size, train_size, target_col_number, feature_col_number)"
   ]
  },
  {
   "cell_type": "code",
   "execution_count": null,
   "metadata": {},
   "outputs": [],
   "source": [
    "#Running GME three-feature model\n",
    "gme_df, gme_mse = model_functions.get_mse('GME', num_units, dropout, epochs, batch_size, window_size, train_size, target_col_number)"
   ]
  },
  {
   "cell_type": "code",
   "execution_count": null,
   "metadata": {},
   "outputs": [],
   "source": [
    "#Running GME one-feature model\n",
    "gme_df_one, gme_mse_one = model_functions.get_one_feature_model('GME', num_units, dropout, epochs, batch_size, window_size, train_size, target_col_number, feature_col_number)"
   ]
  },
  {
   "cell_type": "code",
   "execution_count": null,
   "metadata": {},
   "outputs": [],
   "source": [
    "#Running NIO three-feature model\n",
    "nio_df, nio_mse = model_functions.get_mse('NIO', num_units, dropout, epochs, batch_size, window_size, train_size, target_col_number)"
   ]
  },
  {
   "cell_type": "code",
   "execution_count": null,
   "metadata": {},
   "outputs": [],
   "source": [
    "#Running NIO one-feature model\n",
    "nio_df_one, nio_mse_one = model_functions.get_one_feature_model('NIO', num_units, dropout, epochs, batch_size, window_size, train_size, target_col_number, feature_col_number)"
   ]
  },
  {
   "cell_type": "code",
   "execution_count": null,
   "metadata": {},
   "outputs": [],
   "source": [
    "#Running PLTR three-feature model\n",
    "pltr_df, pltr_mse = model_functions.get_mse('PLTR', num_units, dropout, epochs, batch_size, window_size, train_size, target_col_number)"
   ]
  },
  {
   "cell_type": "code",
   "execution_count": null,
   "metadata": {},
   "outputs": [],
   "source": [
    "#Running PLTR one-feature model\n",
    "pltr_df_one, pltr_mse_one = model_functions.get_one_feature_model('PLTR', num_units, dropout, epochs, batch_size, window_size, train_size, target_col_number, feature_col_number)"
   ]
  },
  {
   "cell_type": "code",
   "execution_count": null,
   "metadata": {},
   "outputs": [],
   "source": [
    "#Running PLUG three-feature model\n",
    "plug_df, plug_mse = model_functions.get_mse('PLUG', num_units, dropout, epochs, batch_size, window_size, train_size, target_col_number)"
   ]
  },
  {
   "cell_type": "code",
   "execution_count": null,
   "metadata": {},
   "outputs": [],
   "source": [
    "#Running PLUG one-feature model\n",
    "plug_df_one, plug_mse_one = model_functions.get_one_feature_model('PLUG', num_units, dropout, epochs, batch_size, window_size, train_size, target_col_number, feature_col_number)"
   ]
  },
  {
   "cell_type": "code",
   "execution_count": null,
   "metadata": {},
   "outputs": [],
   "source": [
    "#Creating mean-squared error list for three-feature model\n",
    "mse_list = []\n",
    "mse_list.append(gme_mse)\n",
    "mse_list.append(nio_mse)\n",
    "mse_list.append(pltr_mse)\n",
    "mse_list.append(plug_mse)\n",
    "mse_list.append(tsla_mse)"
   ]
  },
  {
   "cell_type": "code",
   "execution_count": null,
   "metadata": {},
   "outputs": [],
   "source": [
    "#Converting MSE list to df\n",
    "mse_df = pd.DataFrame(mse_list, columns=([\"Stock\", \"MSE\"]))\n",
    "mse_df.rename(columns = {'MSE':'MSE (Three-Feature Model)'}, inplace = True)\n",
    "mse_df.rename(columns = {'Stock':'Symbol'}, inplace = True)\n",
    "mse_df"
   ]
  },
  {
   "cell_type": "code",
   "execution_count": null,
   "metadata": {},
   "outputs": [],
   "source": [
    "#Saving MSE df to csv\n",
    "mse_df.to_csv('Data/Master/master_mse.csv', header=True, index=False)"
   ]
  },
  {
   "cell_type": "code",
   "execution_count": null,
   "metadata": {},
   "outputs": [],
   "source": [
    "#Creating mean-squared error list for one-feature model\n",
    "mse_one_list = []\n",
    "mse_one_list.append(gme_mse_one)\n",
    "mse_one_list.append(nio_mse_one)\n",
    "mse_one_list.append(pltr_mse_one)\n",
    "mse_one_list.append(plug_mse_one)\n",
    "mse_one_list.append(tsla_mse_one)"
   ]
  },
  {
   "cell_type": "code",
   "execution_count": null,
   "metadata": {},
   "outputs": [],
   "source": [
    "#Converting MSE list to df\n",
    "mse_one_df = pd.DataFrame(mse_one_list, columns=([\"Stock\", \"MSE\"]))\n",
    "mse_one_df.rename(columns = {'MSE':'MSE (One-Feature Model)'}, inplace = True)\n",
    "mse_one_df"
   ]
  },
  {
   "cell_type": "code",
   "execution_count": null,
   "metadata": {},
   "outputs": [],
   "source": [
    "#Saving MSE df to csv\n",
    "mse_one_df.to_csv('Data/Master/master_one_mse.csv', header=True, index=False)"
   ]
  },
  {
   "cell_type": "code",
   "execution_count": null,
   "metadata": {},
   "outputs": [],
   "source": [
    "#Joining both one and three feature MSE dfs\n",
    "mse_joined = pd.concat([mse_df, mse_one_df], axis=1)\n",
    "mse_joined = mse_joined.drop('Stock', 1)\n",
    "mse_joined"
   ]
  },
  {
   "cell_type": "code",
   "execution_count": null,
   "metadata": {},
   "outputs": [],
   "source": [
    "#Saving joint MSE df as csv\n",
    "mse_joined.to_csv('Data/Master/joined_mse.csv', header=True, index=False)"
   ]
  },
  {
   "cell_type": "code",
   "execution_count": null,
   "metadata": {},
   "outputs": [],
   "source": [
    "#Generating symbol column name for groupby visualization purposes\n",
    "gme_df[\"Stock\"] = \"GME\"\n",
    "nio_df[\"Stock\"] = \"NIO\"\n",
    "pltr_df[\"Stock\"] = \"PLTR\"\n",
    "plug_df[\"Stock\"] = \"PLUG\"\n",
    "tsla_df[\"Stock\"] = \"TSLA\"\n",
    "\n",
    "gme_df_one[\"Stock\"] = \"GME\"\n",
    "nio_df_one[\"Stock\"] = \"NIO\"\n",
    "pltr_df_one[\"Stock\"] = \"PLTR\"\n",
    "plug_df_one[\"Stock\"] = \"PLUG\"\n",
    "tsla_df_one[\"Stock\"] = \"TSLA\""
   ]
  },
  {
   "cell_type": "code",
   "execution_count": null,
   "metadata": {},
   "outputs": [],
   "source": [
    "#Joining three-feature model dataframe together\n",
    "joined_df = pd.concat([gme_df, nio_df, pltr_df, plug_df, tsla_df], axis=0)"
   ]
  },
  {
   "cell_type": "code",
   "execution_count": null,
   "metadata": {},
   "outputs": [],
   "source": [
    "#Joining one-feature model dataframe together\n",
    "joined_df_one = pd.concat([gme_df_one, nio_df_one, pltr_df_one, plug_df_one, tsla_df_one], axis=0)"
   ]
  },
  {
   "cell_type": "code",
   "execution_count": null,
   "metadata": {},
   "outputs": [],
   "source": [
    "#Saving three-feature model data to csv\n",
    "joined_df.to_csv('Data/Master/master_model_predictions.csv', header=True, index=True)"
   ]
  },
  {
   "cell_type": "code",
   "execution_count": null,
   "metadata": {},
   "outputs": [],
   "source": [
    "#Saving one-feature model data to csv\n",
    "joined_df_one.to_csv('Data/Master/master_model_one_predictions.csv', header=True, index=True)"
   ]
  },
  {
   "cell_type": "code",
   "execution_count": null,
   "metadata": {},
   "outputs": [],
   "source": [
    "#Reading in both model master files\n",
    "df = pd.read_csv('Data/Master/master_model_predictions.csv', index_col=\"Created\", infer_datetime_format=True, parse_dates=True)\n",
    "df_one = pd.read_csv('Data/Master/master_model_one_predictions.csv', index_col=\"Created\", infer_datetime_format=True, parse_dates=True)"
   ]
  },
  {
   "cell_type": "code",
   "execution_count": null,
   "metadata": {},
   "outputs": [],
   "source": [
    "#Plotting MSE table (3-feature)\n",
    "mse_df.hvplot.table(columns=['Stock', 'MSE'], sortable=True, selectable=True)"
   ]
  },
  {
   "cell_type": "code",
   "execution_count": null,
   "metadata": {},
   "outputs": [],
   "source": [
    "#Plotting model predictions vs actual (3-feature)\n",
    "df.hvplot.line(groupby='Stock', widget_location='left_top', width = 900, height = 400)"
   ]
  },
  {
   "cell_type": "code",
   "execution_count": null,
   "metadata": {},
   "outputs": [],
   "source": [
    "#Plotting MSE table (1-feature)\n",
    "mse_one_df.hvplot.table(columns=['Stock', 'MSE'], sortable=True, selectable=True)"
   ]
  },
  {
   "cell_type": "code",
   "execution_count": null,
   "metadata": {},
   "outputs": [],
   "source": [
    "#Plotting model predictions vs actual (1-feature)\n",
    "df_one.hvplot.line(groupby='Stock', widget_location='left_top', width = 900, height = 400)"
   ]
  },
  {
   "cell_type": "code",
   "execution_count": null,
   "metadata": {},
   "outputs": [],
   "source": [
    "#Creating a df with the difference in models for PLTR\n",
    "pltr_df[\"Three Difference\"] = pltr_df['Real'] - pltr_df['Predicted']\n",
    "pltr_df_one[\"One Difference\"] = pltr_df_one['Real'] - pltr_df_one['Predicted']\n",
    "pltr_diff_three = pltr_df[['Three Difference']]\n",
    "pltr_diff_one = pltr_df_one[['One Difference']]\n",
    "pltr_diff_combined = pltr_diff_three.merge(pltr_diff_one, left_index=True, right_index=True)\n",
    "pltr_diff_combined[\"Stock\"] = \"PLTR\""
   ]
  },
  {
   "cell_type": "code",
   "execution_count": null,
   "metadata": {},
   "outputs": [],
   "source": [
    "#Saving df to a csv\n",
    "pltr_diff_combined.to_csv('Data/Master/ModelDifference/pltr_diff.csv', header=True, index=True)"
   ]
  },
  {
   "cell_type": "code",
   "execution_count": null,
   "metadata": {},
   "outputs": [],
   "source": [
    "#Creating a df with the difference in models for GME\n",
    "gme_df[\"Three Difference\"] = gme_df['Real'] - gme_df['Predicted']\n",
    "gme_df_one[\"One Difference\"] = gme_df_one['Real'] - gme_df_one['Predicted']\n",
    "gme_diff_three = gme_df[['Three Difference']]\n",
    "gme_diff_one = gme_df_one[['One Difference']]\n",
    "gme_diff_combined = gme_diff_three.merge(gme_diff_one, left_index=True, right_index=True)\n",
    "gme_diff_combined[\"Stock\"] = \"GME\""
   ]
  },
  {
   "cell_type": "code",
   "execution_count": null,
   "metadata": {},
   "outputs": [],
   "source": [
    "#Saving df to a csv\n",
    "gme_diff_combined.to_csv('Data/Master/ModelDifference/gme_diff.csv', header=True, index=True)"
   ]
  },
  {
   "cell_type": "code",
   "execution_count": null,
   "metadata": {},
   "outputs": [],
   "source": [
    "#Creating a df with the difference in models for NIO\n",
    "nio_df[\"Three Difference\"] = nio_df['Real'] - nio_df['Predicted']\n",
    "nio_df_one[\"One Difference\"] = nio_df_one['Real'] - nio_df_one['Predicted']\n",
    "nio_diff_three = nio_df[['Three Difference']]\n",
    "nio_diff_one = nio_df_one[['One Difference']]\n",
    "nio_diff_combined = nio_diff_three.merge(nio_diff_one, left_index=True, right_index=True)\n",
    "nio_diff_combined[\"Stock\"] = \"NIO\""
   ]
  },
  {
   "cell_type": "code",
   "execution_count": null,
   "metadata": {},
   "outputs": [],
   "source": [
    "#Saving df to a csv\n",
    "nio_diff_combined.to_csv('Data/Master/ModelDifference/nio_diff.csv', header=True, index=True)"
   ]
  },
  {
   "cell_type": "code",
   "execution_count": null,
   "metadata": {},
   "outputs": [],
   "source": [
    "#Creating a df with the difference in models for TSLA\n",
    "tsla_df[\"Three Difference\"] = tsla_df['Real'] - tsla_df['Predicted']\n",
    "tsla_df_one[\"One Difference\"] = tsla_df_one['Real'] - tsla_df_one['Predicted']\n",
    "tsla_diff_three = tsla_df[['Three Difference']]\n",
    "tsla_diff_one = tsla_df_one[['One Difference']]\n",
    "tsla_diff_combined = tsla_diff_three.merge(tsla_diff_one, left_index=True, right_index=True)\n",
    "tsla_diff_combined[\"Stock\"] = \"TSLA\""
   ]
  },
  {
   "cell_type": "code",
   "execution_count": null,
   "metadata": {},
   "outputs": [],
   "source": [
    "#Saving df to a csv\n",
    "tsla_diff_combined.to_csv('Data/Master/ModelDifference/tsla_diff.csv', header=True, index=True)"
   ]
  },
  {
   "cell_type": "code",
   "execution_count": null,
   "metadata": {},
   "outputs": [],
   "source": [
    "#Creating a df with the difference in models for PLUG\n",
    "plug_df[\"Three Difference\"] = plug_df['Real'] - plug_df['Predicted']\n",
    "plug_df_one[\"One Difference\"] = plug_df_one['Real'] - plug_df_one['Predicted']\n",
    "plug_diff_three = plug_df[['Three Difference']]\n",
    "plug_diff_one = plug_df_one[['One Difference']]\n",
    "plug_diff_combined = plug_diff_three.merge(plug_diff_one, left_index=True, right_index=True)\n",
    "plug_diff_combined[\"Stock\"] = \"PLUG\""
   ]
  },
  {
   "cell_type": "code",
   "execution_count": null,
   "metadata": {},
   "outputs": [],
   "source": [
    "#Saving df to a csv\n",
    "plug_diff_combined.to_csv('Data/Master/ModelDifference/plug_diff.csv', header=True, index=True)"
   ]
  },
  {
   "cell_type": "code",
   "execution_count": null,
   "metadata": {},
   "outputs": [],
   "source": [
    "#Reading in all those saved CSVs\n",
    "pltr = pd.read_csv('Data/Master/ModelDifference/pltr_diff.csv', index_col=\"Created\", infer_datetime_format=True, parse_dates=True)\n",
    "gme = pd.read_csv('Data/Master/ModelDifference/gme_diff.csv', index_col=\"Created\", infer_datetime_format=True, parse_dates=True)\n",
    "nio = pd.read_csv('Data/Master/ModelDifference/nio_diff.csv', index_col=\"Created\", infer_datetime_format=True, parse_dates=True)\n",
    "plug = pd.read_csv('Data/Master/ModelDifference/plug_diff.csv', index_col=\"Created\", infer_datetime_format=True, parse_dates=True)\n",
    "tsla = pd.read_csv('Data/Master/ModelDifference/tsla_diff.csv', index_col=\"Created\", infer_datetime_format=True, parse_dates=True)"
   ]
  },
  {
   "cell_type": "code",
   "execution_count": null,
   "metadata": {},
   "outputs": [],
   "source": [
    "#Joining all the individual difference dfs together\n",
    "joined_diff = pd.concat([pltr, gme, nio, plug, tsla], axis=0)"
   ]
  },
  {
   "cell_type": "code",
   "execution_count": null,
   "metadata": {},
   "outputs": [],
   "source": [
    "#Saving the combined df to a master file\n",
    "joined_diff.to_csv('Data/Master/ModelDifference/combined_diff.csv', header=True, index=True)"
   ]
  },
  {
   "cell_type": "code",
   "execution_count": null,
   "metadata": {},
   "outputs": [],
   "source": [
    "#Reading in that saved file\n",
    "difference = pd.read_csv('Data/Master/ModelDifference/combined_diff.csv', index_col=\"Created\", infer_datetime_format=True, parse_dates=True)"
   ]
  },
  {
   "cell_type": "code",
   "execution_count": null,
   "metadata": {},
   "outputs": [],
   "source": [
    "#Plotting the master model difference \n",
    "difference.hvplot.line(groupby='Stock', widget_location='left_top', width = 900, height = 400)"
   ]
  }
 ],
 "metadata": {
  "kernelspec": {
   "display_name": "Python [conda env:root]",
   "language": "python",
   "name": "conda-root-py"
  },
  "language_info": {
   "codemirror_mode": {
    "name": "ipython",
    "version": 3
   },
   "file_extension": ".py",
   "mimetype": "text/x-python",
   "name": "python",
   "nbconvert_exporter": "python",
   "pygments_lexer": "ipython3",
   "version": "3.8.3"
  }
 },
 "nbformat": 4,
 "nbformat_minor": 4
}
