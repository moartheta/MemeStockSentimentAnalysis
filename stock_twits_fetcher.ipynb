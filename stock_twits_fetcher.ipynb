{
 "cells": [
  {
   "cell_type": "code",
   "execution_count": 1,
   "metadata": {},
   "outputs": [],
   "source": [
    "#Initial Imports\n",
    "import json\n",
    "import requests\n",
    "import pandas as pd\n",
    "from collections import Counter"
   ]
  },
  {
   "cell_type": "code",
   "execution_count": 35,
   "metadata": {},
   "outputs": [],
   "source": [
    "#Setting batch 1 post range\n",
    "id_list1 = []\n",
    "for i in range(274307863, 264307863, -1000000):\n",
    "    id_list1.append(i)"
   ]
  },
  {
   "cell_type": "code",
   "execution_count": 36,
   "metadata": {},
   "outputs": [],
   "source": [
    "#Setting batch 2 post range\n",
    "id_list2 = []\n",
    "for i in range(264307863, 254307863, -1000000):\n",
    "    id_list2.append(i)"
   ]
  },
  {
   "cell_type": "code",
   "execution_count": 37,
   "metadata": {},
   "outputs": [],
   "source": [
    "#Setting batch 3 post range\n",
    "id_list3 = []\n",
    "for i in range(254307863, 244307863, -1000000):\n",
    "    id_list3.append(i)"
   ]
  },
  {
   "cell_type": "code",
   "execution_count": 91,
   "metadata": {},
   "outputs": [],
   "source": [
    "#Function to grab posts from stocktwits API\n",
    "def finding_posts(id_list, symbol):\n",
    "    \n",
    "    combined = []\n",
    "    \n",
    "    for ids in id_list:\n",
    "        \n",
    "        max = ids\n",
    "        symbol_id = symbol\n",
    "        url = \"https://api.stocktwits.com/api/2/\"\n",
    "        headers = {'Content-Type': 'application/json'}\n",
    "    \n",
    "        form_url = url + 'streams/symbol/' + symbol_id + '.json'\n",
    "        params = {'max': max}\n",
    "        r = requests.get(form_url, headers=headers, params=params)\n",
    "        raw_json = r.json()\n",
    "        tsla_tweets = raw_json['messages']\n",
    "        \n",
    "        for tweets in range(0,len(tsla_tweets)):\n",
    "            data = []\n",
    "            data.append(tsla_tweets[tweets]['body'])\n",
    "            data.append(tsla_tweets[tweets]['created_at'])\n",
    "            data.append(tsla_tweets[tweets]['user']['like_count'])\n",
    "            sentiment = tsla_tweets[tweets]['entities']\n",
    "            sentiment_check = sentiment.get('sentiment', 0)\n",
    "            data.append(sentiment_check)\n",
    "            \n",
    "            combined.append(data)\n",
    "    \n",
    "    return combined"
   ]
  },
  {
   "cell_type": "code",
   "execution_count": 125,
   "metadata": {},
   "outputs": [],
   "source": [
    "#Getting stocktwits tweets\n",
    "st_batch_1 = finding_posts(id_list1, \"PLUG\")\n",
    "st_batch_2 = finding_posts(id_list2, \"PLUG\")\n",
    "st_batch_3 = finding_posts(id_list3, \"PLUG\")"
   ]
  },
  {
   "cell_type": "code",
   "execution_count": 136,
   "metadata": {},
   "outputs": [],
   "source": [
    "#Saving tweets to a df\n",
    "st_posts_1 = pd.DataFrame(st_batch_1, columns=['Text', 'Created', 'Likes', 'Sentiment'])\n",
    "st_posts_2 = pd.DataFrame(st_batch_2, columns=['Text', 'Created', 'Likes', 'Sentiment'])\n",
    "st_posts_3 = pd.DataFrame(st_batch_3, columns=['Text', 'Created', 'Likes', 'Sentiment'])"
   ]
  },
  {
   "cell_type": "code",
   "execution_count": 182,
   "metadata": {},
   "outputs": [],
   "source": [
    "#Joining batches together into master df\n",
    "st_joined = pd.concat([st_posts_1, st_posts_2, st_posts_3])\n",
    "st_joined.head()"
   ]
  },
  {
   "cell_type": "code",
   "execution_count": 173,
   "metadata": {},
   "outputs": [],
   "source": [
    "#Formatting 'Sentiment' column\n",
    "st_joined.Sentiment = st_joined.Sentiment.astype(str) \n",
    "st_joined['Sentiment'] = st_joined['Sentiment'].astype(str).replace(\"b\", \"\")\n",
    "\n",
    "st_joined['Sentiment'] = st_joined['Sentiment'].str.replace('{','')\n",
    "st_joined['Sentiment'] = st_joined['Sentiment'].str.replace('}','')\n",
    "st_joined['Sentiment'] = st_joined['Sentiment'].str.replace(\"'\",'')\n",
    "st_joined['Sentiment'] = st_joined['Sentiment'].str.replace(\"basic\",'')\n",
    "st_joined['Sentiment'] = st_joined['Sentiment'].str.replace(\": \",'')"
   ]
  },
  {
   "cell_type": "code",
   "execution_count": 201,
   "metadata": {},
   "outputs": [],
   "source": [
    "#Removing timestamp from 'Created' column\n",
    "st_joined['Created'] = pd.to_datetime(st_joined['Created'])\n",
    "st_joined['Created'] = st_joined['Created'].dt.date"
   ]
  },
  {
   "cell_type": "code",
   "execution_count": 141,
   "metadata": {},
   "outputs": [],
   "source": [
    "#Saving df as CSV\n",
    "st_joined.to_csv(r'Data/tsla_tweets.csv', header=True, index=False)"
   ]
  }
 ],
 "metadata": {
  "kernelspec": {
   "display_name": "Python [conda env:pyvizenv] *",
   "language": "python",
   "name": "conda-env-pyvizenv-py"
  },
  "language_info": {
   "codemirror_mode": {
    "name": "ipython",
    "version": 3
   },
   "file_extension": ".py",
   "mimetype": "text/x-python",
   "name": "python",
   "nbconvert_exporter": "python",
   "pygments_lexer": "ipython3",
   "version": "3.7.7"
  }
 },
 "nbformat": 4,
 "nbformat_minor": 4
}
