{
 "cells": [
  {
   "cell_type": "code",
   "execution_count": 1,
   "metadata": {},
   "outputs": [
    {
     "data": {
      "text/plain": [
       "True"
      ]
     },
     "execution_count": 1,
     "metadata": {},
     "output_type": "execute_result"
    }
   ],
   "source": [
    "#Initial Imports\n",
    "import os\n",
    "\n",
    "import json\n",
    "import praw\n",
    "from psaw import PushshiftAPI\n",
    "import requests\n",
    "import pandas as pd\n",
    "\n",
    "from dotenv import load_dotenv\n",
    "load_dotenv()"
   ]
  },
  {
   "cell_type": "code",
   "execution_count": 2,
   "metadata": {},
   "outputs": [
    {
     "name": "stdout",
     "output_type": "stream",
     "text": [
      "Reddit Key Loaded!\n",
      "Reddit Secret Key Loaded!\n",
      "Reddit Username Loaded!\n",
      "Authorization Successful.  Connected to Reddit API.\n"
     ]
    }
   ],
   "source": [
    "#Importing functions\n",
    "import api_access\n",
    "\n",
    "#Setting authorization\n",
    "reddit_access = api_access.OAuth(\"reddit\")"
   ]
  },
  {
   "cell_type": "code",
   "execution_count": 3,
   "metadata": {},
   "outputs": [],
   "source": [
    "#Initializing Pushshift API\n",
    "api = PushshiftAPI(reddit_access)"
   ]
  },
  {
   "cell_type": "code",
   "execution_count": 4,
   "metadata": {},
   "outputs": [],
   "source": [
    "#Setting Parameters\n",
    "subreddit = \"WallStreetBets\"\n",
    "stock = \"FCEL\"\n",
    "max_response = 15000"
   ]
  },
  {
   "cell_type": "code",
   "execution_count": 5,
   "metadata": {},
   "outputs": [
    {
     "name": "stdout",
     "output_type": "stream",
     "text": [
      "Your request returned 275 results.\n"
     ]
    }
   ],
   "source": [
    "#Fetching Reddit Posts\n",
    "reddit_posts = api_access.fetch_reddit_comments(api, stock, subreddit, max_response)"
   ]
  },
  {
   "cell_type": "code",
   "execution_count": 6,
   "metadata": {},
   "outputs": [
    {
     "data": {
      "text/html": [
       "<div>\n",
       "<style scoped>\n",
       "    .dataframe tbody tr th:only-of-type {\n",
       "        vertical-align: middle;\n",
       "    }\n",
       "\n",
       "    .dataframe tbody tr th {\n",
       "        vertical-align: top;\n",
       "    }\n",
       "\n",
       "    .dataframe thead th {\n",
       "        text-align: right;\n",
       "    }\n",
       "</style>\n",
       "<table border=\"1\" class=\"dataframe\">\n",
       "  <thead>\n",
       "    <tr style=\"text-align: right;\">\n",
       "      <th></th>\n",
       "      <th>Title</th>\n",
       "      <th>Upvote Ratio</th>\n",
       "      <th>Text</th>\n",
       "      <th>Date</th>\n",
       "    </tr>\n",
       "  </thead>\n",
       "  <tbody>\n",
       "    <tr>\n",
       "      <th>1</th>\n",
       "      <td>FCEL To the Moon</td>\n",
       "      <td>1.00</td>\n",
       "      <td></td>\n",
       "      <td>2021-01-23 02:26:51</td>\n",
       "    </tr>\n",
       "    <tr>\n",
       "      <th>4</th>\n",
       "      <td>The ultimate meme stock, $WOOF! WSB Idiot DD</td>\n",
       "      <td>0.80</td>\n",
       "      <td>$WOOF!\\n\\nIt's more than just a funny ticker n...</td>\n",
       "      <td>2021-01-22 13:36:45</td>\n",
       "    </tr>\n",
       "    <tr>\n",
       "      <th>5</th>\n",
       "      <td>Low IV Plays: In the Wake of a Rocket</td>\n",
       "      <td>0.78</td>\n",
       "      <td>eh fuck this, I'm not posting all the charts a...</td>\n",
       "      <td>2021-01-22 07:16:20</td>\n",
       "    </tr>\n",
       "    <tr>\n",
       "      <th>6</th>\n",
       "      <td>ENG might be Daddy Elon's next pump</td>\n",
       "      <td>0.92</td>\n",
       "      <td>Obligatory  🚀🚀🚀🚀🚀🚀🚀🚀 something something GME B...</td>\n",
       "      <td>2021-01-22 06:54:42</td>\n",
       "    </tr>\n",
       "    <tr>\n",
       "      <th>10</th>\n",
       "      <td>Sold off the rest of my portfolio, including T...</td>\n",
       "      <td>0.94</td>\n",
       "      <td></td>\n",
       "      <td>2021-01-21 18:52:23</td>\n",
       "    </tr>\n",
       "  </tbody>\n",
       "</table>\n",
       "</div>"
      ],
      "text/plain": [
       "                                                Title  Upvote Ratio  \\\n",
       "1                                    FCEL To the Moon          1.00   \n",
       "4        The ultimate meme stock, $WOOF! WSB Idiot DD          0.80   \n",
       "5               Low IV Plays: In the Wake of a Rocket          0.78   \n",
       "6                 ENG might be Daddy Elon's next pump          0.92   \n",
       "10  Sold off the rest of my portfolio, including T...          0.94   \n",
       "\n",
       "                                                 Text                Date  \n",
       "1                                                     2021-01-23 02:26:51  \n",
       "4   $WOOF!\\n\\nIt's more than just a funny ticker n... 2021-01-22 13:36:45  \n",
       "5   eh fuck this, I'm not posting all the charts a... 2021-01-22 07:16:20  \n",
       "6   Obligatory  🚀🚀🚀🚀🚀🚀🚀🚀 something something GME B... 2021-01-22 06:54:42  \n",
       "10                                                    2021-01-21 18:52:23  "
      ]
     },
     "execution_count": 6,
     "metadata": {},
     "output_type": "execute_result"
    }
   ],
   "source": [
    "#Displaying dataframe\n",
    "reddit_posts.head()"
   ]
  },
  {
   "cell_type": "code",
   "execution_count": 21,
   "metadata": {},
   "outputs": [],
   "source": [
    "#Saving df as CSV\n",
    "filename = 'Data/reddit_{}.csv'.format(stock)\n",
    "reddit_posts.to_csv(filename, header=True, index=False)"
   ]
  }
 ],
 "metadata": {
  "kernelspec": {
   "display_name": "Python [conda env:pyvizenv] *",
   "language": "python",
   "name": "conda-env-pyvizenv-py"
  },
  "language_info": {
   "codemirror_mode": {
    "name": "ipython",
    "version": 3
   },
   "file_extension": ".py",
   "mimetype": "text/x-python",
   "name": "python",
   "nbconvert_exporter": "python",
   "pygments_lexer": "ipython3",
   "version": "3.7.7"
  }
 },
 "nbformat": 4,
 "nbformat_minor": 4
}
