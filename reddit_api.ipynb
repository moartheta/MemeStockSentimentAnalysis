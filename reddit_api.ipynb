{
 "cells": [
  {
   "cell_type": "code",
   "execution_count": 1,
   "metadata": {},
   "outputs": [
    {
     "data": {
      "text/plain": [
       "True"
      ]
     },
     "execution_count": 1,
     "metadata": {},
     "output_type": "execute_result"
    }
   ],
   "source": [
    "import os\n",
    "\n",
    "import json\n",
    "import praw\n",
    "import requests\n",
    "import pandas as pd\n",
    "\n",
    "from dotenv import load_dotenv\n",
    "load_dotenv()"
   ]
  },
  {
   "cell_type": "code",
   "execution_count": 2,
   "metadata": {},
   "outputs": [
    {
     "name": "stdout",
     "output_type": "stream",
     "text": [
      "Reddit Key Loaded!\n",
      "Reddit Secret Key Loaded!\n",
      "Reddit Username Loaded!\n",
      "Authorization Successful.  Connected to Reddit API.\n"
     ]
    }
   ],
   "source": [
    "import reddit_api_access\n",
    "\n",
    "reddit_access = reddit_api_access.reddit_OAuth()"
   ]
  },
  {
   "cell_type": "code",
   "execution_count": 3,
   "metadata": {},
   "outputs": [
    {
     "name": "stdout",
     "output_type": "stream",
     "text": [
      "You have chosen r/wallstreetbets as your subreddit.  May god have mercy on your soul.\n"
     ]
    }
   ],
   "source": [
    "# Setting the specific Subreddit (as a string, with quotes)\n",
    "subreddit = reddit_api_access.fetch_subreddit(reddit_access, \"WallStreetBets\")"
   ]
  },
  {
   "cell_type": "code",
   "execution_count": 4,
   "metadata": {},
   "outputs": [],
   "source": [
    "#How many comments do you want to fetch\n",
    "comment_limit = 5"
   ]
  },
  {
   "cell_type": "code",
   "execution_count": 5,
   "metadata": {},
   "outputs": [
    {
     "data": {
      "text/html": [
       "<div>\n",
       "<style scoped>\n",
       "    .dataframe tbody tr th:only-of-type {\n",
       "        vertical-align: middle;\n",
       "    }\n",
       "\n",
       "    .dataframe tbody tr th {\n",
       "        vertical-align: top;\n",
       "    }\n",
       "\n",
       "    .dataframe thead th {\n",
       "        text-align: right;\n",
       "    }\n",
       "</style>\n",
       "<table border=\"1\" class=\"dataframe\">\n",
       "  <thead>\n",
       "    <tr style=\"text-align: right;\">\n",
       "      <th></th>\n",
       "      <th>Title</th>\n",
       "      <th>Upvote Ratio</th>\n",
       "      <th>Text</th>\n",
       "      <th>Date</th>\n",
       "    </tr>\n",
       "  </thead>\n",
       "  <tbody>\n",
       "    <tr>\n",
       "      <th>0</th>\n",
       "      <td>Elon has transcended time, space, and county r...</td>\n",
       "      <td>0.90</td>\n",
       "      <td></td>\n",
       "      <td>2020-05-11 20:41:17</td>\n",
       "    </tr>\n",
       "    <tr>\n",
       "      <th>1</th>\n",
       "      <td>BREAKING: CNBC Officially Gives Up, Stocks Ent...</td>\n",
       "      <td>0.96</td>\n",
       "      <td></td>\n",
       "      <td>2020-06-12 22:00:23</td>\n",
       "    </tr>\n",
       "    <tr>\n",
       "      <th>2</th>\n",
       "      <td>How to get oil back up</td>\n",
       "      <td>0.97</td>\n",
       "      <td></td>\n",
       "      <td>2020-04-21 01:18:21</td>\n",
       "    </tr>\n",
       "    <tr>\n",
       "      <th>3</th>\n",
       "      <td>I guess they didn’t like my “printer goes brrr...</td>\n",
       "      <td>0.95</td>\n",
       "      <td></td>\n",
       "      <td>2020-06-12 12:05:08</td>\n",
       "    </tr>\n",
       "    <tr>\n",
       "      <th>4</th>\n",
       "      <td>100% Accurate</td>\n",
       "      <td>0.96</td>\n",
       "      <td></td>\n",
       "      <td>2020-08-06 09:53:52</td>\n",
       "    </tr>\n",
       "  </tbody>\n",
       "</table>\n",
       "</div>"
      ],
      "text/plain": [
       "                                               Title  Upvote Ratio Text  \\\n",
       "0  Elon has transcended time, space, and county r...          0.90        \n",
       "1  BREAKING: CNBC Officially Gives Up, Stocks Ent...          0.96        \n",
       "2                             How to get oil back up          0.97        \n",
       "3  I guess they didn’t like my “printer goes brrr...          0.95        \n",
       "4                                      100% Accurate          0.96        \n",
       "\n",
       "                 Date  \n",
       "0 2020-05-11 20:41:17  \n",
       "1 2020-06-12 22:00:23  \n",
       "2 2020-04-21 01:18:21  \n",
       "3 2020-06-12 12:05:08  \n",
       "4 2020-08-06 09:53:52  "
      ]
     },
     "execution_count": 5,
     "metadata": {},
     "output_type": "execute_result"
    }
   ],
   "source": [
    "#Fetching Combined Comments\n",
    "comments_df = reddit_api_access.fetch_reddit_comments(subreddit, comment_limit)\n",
    "comments_df.head()"
   ]
  },
  {
   "cell_type": "code",
   "execution_count": null,
   "metadata": {},
   "outputs": [],
   "source": [
    "#Writing DataFrame to CSV file\n",
    "reddit_posts.to_csv(r'Data/reddit_posts.csv', header=True, index=False)"
   ]
  }
 ],
 "metadata": {
  "kernelspec": {
   "display_name": "Python [conda env:pyvizenv] *",
   "language": "python",
   "name": "conda-env-pyvizenv-py"
  },
  "language_info": {
   "codemirror_mode": {
    "name": "ipython",
    "version": 3
   },
   "file_extension": ".py",
   "mimetype": "text/x-python",
   "name": "python",
   "nbconvert_exporter": "python",
   "pygments_lexer": "ipython3",
   "version": "3.7.7"
  }
 },
 "nbformat": 4,
 "nbformat_minor": 4
}
