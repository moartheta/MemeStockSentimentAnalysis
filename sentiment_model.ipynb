{
 "cells": [
  {
   "cell_type": "code",
   "execution_count": 1,
   "metadata": {},
   "outputs": [],
   "source": [
    "#Initial Imports\n",
    "from pathlib import Path\n",
    "import pandas as pd\n",
    "import numpy as np\n",
    "\n",
    "import nlp"
   ]
  },
  {
   "cell_type": "code",
   "execution_count": 2,
   "metadata": {},
   "outputs": [],
   "source": [
    "stock = 'tsla'"
   ]
  },
  {
   "cell_type": "code",
   "execution_count": 9,
   "metadata": {},
   "outputs": [],
   "source": [
    "#Reading in StockTwits data\n",
    "tweets = pd.read_csv(f'Data/{stock}_tweets.csv', infer_datetime_format=True, parse_dates=True)"
   ]
  },
  {
   "cell_type": "code",
   "execution_count": 10,
   "metadata": {},
   "outputs": [],
   "source": [
    "#Reading in Reddit data\n",
    "reddit = pd.read_csv(f'Data/reddit_{stock}.csv', infer_datetime_format=True, parse_dates=True)"
   ]
  },
  {
   "cell_type": "code",
   "execution_count": 11,
   "metadata": {},
   "outputs": [
    {
     "data": {
      "text/html": [
       "<div>\n",
       "<style scoped>\n",
       "    .dataframe tbody tr th:only-of-type {\n",
       "        vertical-align: middle;\n",
       "    }\n",
       "\n",
       "    .dataframe tbody tr th {\n",
       "        vertical-align: top;\n",
       "    }\n",
       "\n",
       "    .dataframe thead th {\n",
       "        text-align: right;\n",
       "    }\n",
       "</style>\n",
       "<table border=\"1\" class=\"dataframe\">\n",
       "  <thead>\n",
       "    <tr style=\"text-align: right;\">\n",
       "      <th></th>\n",
       "      <th>Created</th>\n",
       "      <th>Likes</th>\n",
       "      <th>NLTK_Compound</th>\n",
       "      <th>NLTK_Neg</th>\n",
       "      <th>NLTK_Neu</th>\n",
       "      <th>NLTK_Pos</th>\n",
       "      <th>Sentiment</th>\n",
       "      <th>Text</th>\n",
       "    </tr>\n",
       "  </thead>\n",
       "  <tbody>\n",
       "    <tr>\n",
       "      <th>0</th>\n",
       "      <td>2021-01-16</td>\n",
       "      <td>150</td>\n",
       "      <td>0.6486</td>\n",
       "      <td>0.0</td>\n",
       "      <td>0.868</td>\n",
       "      <td>0.132</td>\n",
       "      <td>Bullish</td>\n",
       "      <td>SmartOptions® Unusual Activity Alert\\n(Delayed...</td>\n",
       "    </tr>\n",
       "    <tr>\n",
       "      <th>1</th>\n",
       "      <td>2021-01-16</td>\n",
       "      <td>805</td>\n",
       "      <td>0.0000</td>\n",
       "      <td>0.0</td>\n",
       "      <td>1.000</td>\n",
       "      <td>0.000</td>\n",
       "      <td>Bullish</td>\n",
       "      <td>$CLF $X $TSLA $NIO $VALE</td>\n",
       "    </tr>\n",
       "  </tbody>\n",
       "</table>\n",
       "</div>"
      ],
      "text/plain": [
       "      Created  Likes  NLTK_Compound  NLTK_Neg  NLTK_Neu  NLTK_Pos Sentiment  \\\n",
       "0  2021-01-16    150         0.6486       0.0     0.868     0.132   Bullish   \n",
       "1  2021-01-16    805         0.0000       0.0     1.000     0.000   Bullish   \n",
       "\n",
       "                                                Text  \n",
       "0  SmartOptions® Unusual Activity Alert\\n(Delayed...  \n",
       "1                           $CLF $X $TSLA $NIO $VALE  "
      ]
     },
     "execution_count": 11,
     "metadata": {},
     "output_type": "execute_result"
    }
   ],
   "source": [
    "#Calling function to make NLTK Sentiment score from StockTwits\n",
    "n = nlp.NLT()\n",
    "nltk_df = n.make_sentiment_df(tweets,\"twits\")\n",
    "nltk_df.head(2)"
   ]
  },
  {
   "cell_type": "code",
   "execution_count": 12,
   "metadata": {},
   "outputs": [
    {
     "data": {
      "text/html": [
       "<div>\n",
       "<style scoped>\n",
       "    .dataframe tbody tr th:only-of-type {\n",
       "        vertical-align: middle;\n",
       "    }\n",
       "\n",
       "    .dataframe tbody tr th {\n",
       "        vertical-align: top;\n",
       "    }\n",
       "\n",
       "    .dataframe thead th {\n",
       "        text-align: right;\n",
       "    }\n",
       "</style>\n",
       "<table border=\"1\" class=\"dataframe\">\n",
       "  <thead>\n",
       "    <tr style=\"text-align: right;\">\n",
       "      <th></th>\n",
       "      <th>Created</th>\n",
       "      <th>Likes</th>\n",
       "      <th>NLTK_Compound</th>\n",
       "      <th>NLTK_Neg</th>\n",
       "      <th>NLTK_Neu</th>\n",
       "      <th>NLTK_Pos</th>\n",
       "      <th>Sentiment</th>\n",
       "      <th>Text</th>\n",
       "      <th>Blob Class</th>\n",
       "      <th>Blob Pos</th>\n",
       "      <th>Blob Neg</th>\n",
       "    </tr>\n",
       "  </thead>\n",
       "  <tbody>\n",
       "    <tr>\n",
       "      <th>0</th>\n",
       "      <td>2021-01-16</td>\n",
       "      <td>150</td>\n",
       "      <td>0.6486</td>\n",
       "      <td>0.0</td>\n",
       "      <td>0.868</td>\n",
       "      <td>0.132</td>\n",
       "      <td>Bullish</td>\n",
       "      <td>SmartOptions® Unusual Activity Alert\\n(Delayed...</td>\n",
       "      <td>pos</td>\n",
       "      <td>0.894859</td>\n",
       "      <td>0.105141</td>\n",
       "    </tr>\n",
       "    <tr>\n",
       "      <th>1</th>\n",
       "      <td>2021-01-16</td>\n",
       "      <td>805</td>\n",
       "      <td>0.0000</td>\n",
       "      <td>0.0</td>\n",
       "      <td>1.000</td>\n",
       "      <td>0.000</td>\n",
       "      <td>Bullish</td>\n",
       "      <td>$CLF $X $TSLA $NIO $VALE</td>\n",
       "      <td>pos</td>\n",
       "      <td>0.500000</td>\n",
       "      <td>0.500000</td>\n",
       "    </tr>\n",
       "  </tbody>\n",
       "</table>\n",
       "</div>"
      ],
      "text/plain": [
       "      Created  Likes  NLTK_Compound  NLTK_Neg  NLTK_Neu  NLTK_Pos Sentiment  \\\n",
       "0  2021-01-16    150         0.6486       0.0     0.868     0.132   Bullish   \n",
       "1  2021-01-16    805         0.0000       0.0     1.000     0.000   Bullish   \n",
       "\n",
       "                                                Text Blob Class  Blob Pos  \\\n",
       "0  SmartOptions® Unusual Activity Alert\\n(Delayed...        pos  0.894859   \n",
       "1                           $CLF $X $TSLA $NIO $VALE        pos  0.500000   \n",
       "\n",
       "   Blob Neg  \n",
       "0  0.105141  \n",
       "1  0.500000  "
      ]
     },
     "execution_count": 12,
     "metadata": {},
     "output_type": "execute_result"
    }
   ],
   "source": [
    "#Adding TextBlob score to that dataframe\n",
    "b = nlp.Blobby()\n",
    "\n",
    "nltk_blob_df = b.add_blob(nltk_df, \"Text\")\n",
    "nltk_blob_df.head(2)"
   ]
  },
  {
   "cell_type": "code",
   "execution_count": null,
   "metadata": {},
   "outputs": [],
   "source": [
    "#Making some additional modifications to the dataframe\n",
    "df_final = nltk_blob_df[[\"Created\", \"NLTK_Compound\",\"Blob Pos\", \"Blob Neg\"]]\n",
    "df_final[\"Blob Score\"] = np.where(df_final[\"Blob Pos\"] >0.5, df_final[\"Blob Pos\"], df_final[\"Blob Neg\"])\n",
    "df_final = df_final[[\"Created\", \"NLTK_Compound\", \"Blob Score\"]]\n",
    "\n",
    "df_final.sort_index(inplace = True)\n",
    "df_final = df_final.groupby([\"Created\"]).mean()\n",
    "df_final.round({\"NLTK_Compound\": 4,\n",
    "                \"Blob Score\" : 4\n",
    "               })\n",
    "df_final.head(2)"
   ]
  },
  {
   "cell_type": "code",
   "execution_count": 33,
   "metadata": {},
   "outputs": [],
   "source": [
    "#Saving StockTwits sentiment to CSV\n",
    "df_final.to_csv(f'Data/tweets_{stock}_sentiment.csv', header = True, index = True)"
   ]
  },
  {
   "cell_type": "code",
   "execution_count": 16,
   "metadata": {},
   "outputs": [],
   "source": [
    "#Calling function to make reddit sentiment\n",
    "sent_df = n.make_sentiment_df(reddit, \"Reddit\")"
   ]
  },
  {
   "cell_type": "code",
   "execution_count": 17,
   "metadata": {},
   "outputs": [
    {
     "data": {
      "text/html": [
       "<div>\n",
       "<style scoped>\n",
       "    .dataframe tbody tr th:only-of-type {\n",
       "        vertical-align: middle;\n",
       "    }\n",
       "\n",
       "    .dataframe tbody tr th {\n",
       "        vertical-align: top;\n",
       "    }\n",
       "\n",
       "    .dataframe thead th {\n",
       "        text-align: right;\n",
       "    }\n",
       "</style>\n",
       "<table border=\"1\" class=\"dataframe\">\n",
       "  <thead>\n",
       "    <tr style=\"text-align: right;\">\n",
       "      <th></th>\n",
       "      <th>Created</th>\n",
       "      <th>NLTK_Compound</th>\n",
       "      <th>NLTK_Negative</th>\n",
       "      <th>NLTK_Neutral</th>\n",
       "      <th>NLTK_Positive</th>\n",
       "      <th>Text</th>\n",
       "      <th>Upvote_Ratio</th>\n",
       "      <th>Blob Class</th>\n",
       "      <th>Blob Pos</th>\n",
       "      <th>Blob Neg</th>\n",
       "    </tr>\n",
       "  </thead>\n",
       "  <tbody>\n",
       "    <tr>\n",
       "      <th>0</th>\n",
       "      <td>2021-01-23</td>\n",
       "      <td>-0.4767</td>\n",
       "      <td>0.383</td>\n",
       "      <td>0.617</td>\n",
       "      <td>0.000</td>\n",
       "      <td>$BB: Why the shills are wrong</td>\n",
       "      <td>0.56</td>\n",
       "      <td>neg</td>\n",
       "      <td>0.356476</td>\n",
       "      <td>0.643524</td>\n",
       "    </tr>\n",
       "    <tr>\n",
       "      <th>1</th>\n",
       "      <td>2021-01-23</td>\n",
       "      <td>0.0772</td>\n",
       "      <td>0.099</td>\n",
       "      <td>0.785</td>\n",
       "      <td>0.115</td>\n",
       "      <td>Ultimate DD on $BB🚀🚀🪐 Join now so you can wipe...</td>\n",
       "      <td>0.90</td>\n",
       "      <td>pos</td>\n",
       "      <td>0.860210</td>\n",
       "      <td>0.139790</td>\n",
       "    </tr>\n",
       "  </tbody>\n",
       "</table>\n",
       "</div>"
      ],
      "text/plain": [
       "      Created  NLTK_Compound  NLTK_Negative  NLTK_Neutral  NLTK_Positive  \\\n",
       "0  2021-01-23        -0.4767          0.383         0.617          0.000   \n",
       "1  2021-01-23         0.0772          0.099         0.785          0.115   \n",
       "\n",
       "                                                Text  Upvote_Ratio Blob Class  \\\n",
       "0                      $BB: Why the shills are wrong          0.56        neg   \n",
       "1  Ultimate DD on $BB🚀🚀🪐 Join now so you can wipe...          0.90        pos   \n",
       "\n",
       "   Blob Pos  Blob Neg  \n",
       "0  0.356476  0.643524  \n",
       "1  0.860210  0.139790  "
      ]
     },
     "execution_count": 17,
     "metadata": {},
     "output_type": "execute_result"
    }
   ],
   "source": [
    "#Adding TextBlob score to that dataframe\n",
    "b = nlp.Blobby()\n",
    "\n",
    "nltk_blob_df = b.add_blob(sent_df, \"Text\")\n",
    "nltk_blob_df.head(2)"
   ]
  },
  {
   "cell_type": "code",
   "execution_count": null,
   "metadata": {},
   "outputs": [],
   "source": [
    "#Making some additional modifications to the dataframe\n",
    "df_final = nltk_blob_df[[\"Created\", \"NLTK_Compound\",\"Blob Pos\", \"Blob Neg\"]]\n",
    "df_final[\"Blob Score\"] = np.where(df_final[\"Blob Pos\"] >0.5, df_final[\"Blob Pos\"], df_final[\"Blob Neg\"])\n",
    "df_final = df_final[[\"Created\", \"NLTK_Compound\", \"Blob Score\"]]\n",
    "\n",
    "df_final.sort_index(inplace = True)\n",
    "df_final = df_final.groupby([\"Created\"]).mean()\n",
    "df_final.round({\"NLTK_Compound\": 4,\n",
    "                \"Blob Score\" : 4\n",
    "               })\n",
    "df_final.head(2)"
   ]
  },
  {
   "cell_type": "code",
   "execution_count": 33,
   "metadata": {},
   "outputs": [],
   "source": [
    "#Saving Reddit sentiment to CSV\n",
    "df_final.to_csv(f'Data/reddit_{stock}_sentiment.csv', header = True, index = True)"
   ]
  },
  {
   "cell_type": "code",
   "execution_count": 20,
   "metadata": {},
   "outputs": [
    {
     "data": {
      "text/html": [
       "<div>\n",
       "<style scoped>\n",
       "    .dataframe tbody tr th:only-of-type {\n",
       "        vertical-align: middle;\n",
       "    }\n",
       "\n",
       "    .dataframe tbody tr th {\n",
       "        vertical-align: top;\n",
       "    }\n",
       "\n",
       "    .dataframe thead th {\n",
       "        text-align: right;\n",
       "    }\n",
       "</style>\n",
       "<table border=\"1\" class=\"dataframe\">\n",
       "  <thead>\n",
       "    <tr style=\"text-align: right;\">\n",
       "      <th></th>\n",
       "      <th>GME</th>\n",
       "      <th>NIO</th>\n",
       "      <th>PLTR</th>\n",
       "      <th>PLUG</th>\n",
       "      <th>TSLA</th>\n",
       "    </tr>\n",
       "    <tr>\n",
       "      <th>Created</th>\n",
       "      <th></th>\n",
       "      <th></th>\n",
       "      <th></th>\n",
       "      <th></th>\n",
       "      <th></th>\n",
       "    </tr>\n",
       "  </thead>\n",
       "  <tbody>\n",
       "    <tr>\n",
       "      <th>2020-01-02</th>\n",
       "      <td>6.31</td>\n",
       "      <td>3.72</td>\n",
       "      <td>NaN</td>\n",
       "      <td>3.250</td>\n",
       "      <td>430.24</td>\n",
       "    </tr>\n",
       "    <tr>\n",
       "      <th>2020-01-03</th>\n",
       "      <td>5.89</td>\n",
       "      <td>3.83</td>\n",
       "      <td>NaN</td>\n",
       "      <td>3.225</td>\n",
       "      <td>442.75</td>\n",
       "    </tr>\n",
       "  </tbody>\n",
       "</table>\n",
       "</div>"
      ],
      "text/plain": [
       "             GME   NIO  PLTR   PLUG    TSLA\n",
       "Created                                    \n",
       "2020-01-02  6.31  3.72   NaN  3.250  430.24\n",
       "2020-01-03  5.89  3.83   NaN  3.225  442.75"
      ]
     },
     "execution_count": 20,
     "metadata": {},
     "output_type": "execute_result"
    }
   ],
   "source": [
    "#Reading in stock data\n",
    "f = Path(\"Data/alpaca_data.csv\")\n",
    "df = pd.read_csv(f, parse_dates = True, infer_datetime_format = True)\n",
    "#Running function to fix date\n",
    "df = nlp.fix_date(df)\n",
    "df.set_index(\"Created\", inplace = True)\n",
    "df.index = pd.to_datetime(df.index)\n",
    "df.head(2)"
   ]
  },
  {
   "cell_type": "code",
   "execution_count": 21,
   "metadata": {},
   "outputs": [
    {
     "data": {
      "text/html": [
       "<div>\n",
       "<style scoped>\n",
       "    .dataframe tbody tr th:only-of-type {\n",
       "        vertical-align: middle;\n",
       "    }\n",
       "\n",
       "    .dataframe tbody tr th {\n",
       "        vertical-align: top;\n",
       "    }\n",
       "\n",
       "    .dataframe thead th {\n",
       "        text-align: right;\n",
       "    }\n",
       "</style>\n",
       "<table border=\"1\" class=\"dataframe\">\n",
       "  <thead>\n",
       "    <tr style=\"text-align: right;\">\n",
       "      <th></th>\n",
       "      <th>NLTK_Compound</th>\n",
       "      <th>Blob Score</th>\n",
       "    </tr>\n",
       "    <tr>\n",
       "      <th>Created</th>\n",
       "      <th></th>\n",
       "      <th></th>\n",
       "    </tr>\n",
       "  </thead>\n",
       "  <tbody>\n",
       "    <tr>\n",
       "      <th>2018-05-07</th>\n",
       "      <td>0.397000</td>\n",
       "      <td>0.629887</td>\n",
       "    </tr>\n",
       "    <tr>\n",
       "      <th>2018-05-08</th>\n",
       "      <td>0.158075</td>\n",
       "      <td>0.669236</td>\n",
       "    </tr>\n",
       "    <tr>\n",
       "      <th>2018-05-09</th>\n",
       "      <td>0.427800</td>\n",
       "      <td>0.503559</td>\n",
       "    </tr>\n",
       "    <tr>\n",
       "      <th>2018-05-10</th>\n",
       "      <td>0.095600</td>\n",
       "      <td>0.637904</td>\n",
       "    </tr>\n",
       "    <tr>\n",
       "      <th>2018-05-11</th>\n",
       "      <td>0.071833</td>\n",
       "      <td>0.641239</td>\n",
       "    </tr>\n",
       "  </tbody>\n",
       "</table>\n",
       "</div>"
      ],
      "text/plain": [
       "            NLTK_Compound  Blob Score\n",
       "Created                              \n",
       "2018-05-07       0.397000    0.629887\n",
       "2018-05-08       0.158075    0.669236\n",
       "2018-05-09       0.427800    0.503559\n",
       "2018-05-10       0.095600    0.637904\n",
       "2018-05-11       0.071833    0.641239"
      ]
     },
     "execution_count": 21,
     "metadata": {},
     "output_type": "execute_result"
    }
   ],
   "source": [
    "#Running function that combines sentiment from twitter and reddit\n",
    "dfs = nlp.combine(\"Data/reddit_tsla_sentiment.csv\", \"Data/tweets_tsla_sentiment.csv\")\n",
    "dfs.index = pd.to_datetime(dfs.index)\n",
    "dfs.head()"
   ]
  },
  {
   "cell_type": "code",
   "execution_count": 22,
   "metadata": {},
   "outputs": [],
   "source": [
    "#Merging price data with combined sentiment data\n",
    "upper_stock = stock.upper()\n",
    "df = df[[upper_stock]]\n",
    "df_combined = df.merge(dfs, left_index = True, right_index = True)"
   ]
  },
  {
   "cell_type": "code",
   "execution_count": 25,
   "metadata": {},
   "outputs": [],
   "source": [
    "#Saving file (This is the file fed into the LSTM model)\n",
    "df_combined.to_csv(f'Data/Master/{upper_stock}.csv\", header = True, index = True)"
   ]
  }
 ],
 "metadata": {
  "kernelspec": {
   "display_name": "Python [conda env:tensorflow]",
   "language": "python",
   "name": "conda-env-tensorflow-py"
  },
  "language_info": {
   "codemirror_mode": {
    "name": "ipython",
    "version": 3
   },
   "file_extension": ".py",
   "mimetype": "text/x-python",
   "name": "python",
   "nbconvert_exporter": "python",
   "pygments_lexer": "ipython3",
   "version": "3.7.9"
  }
 },
 "nbformat": 4,
 "nbformat_minor": 4
}
