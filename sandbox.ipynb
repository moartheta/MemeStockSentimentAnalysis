{
 "cells": [
  {
   "cell_type": "code",
   "execution_count": 28,
   "metadata": {},
   "outputs": [],
   "source": [
    "from pathlib import Path\n",
    "import pandas as pd\n",
    "import numpy as np\n",
    "from sklearn.preprocessing import MinMaxScaler\n",
    "from tensorflow.keras.models import Sequential\n",
    "from tensorflow.keras.layers import LSTM, Dense, Dropout\n",
    "import nlp"
   ]
  },
  {
   "cell_type": "code",
   "execution_count": 29,
   "metadata": {},
   "outputs": [
    {
     "data": {
      "text/html": [
       "<div>\n",
       "<style scoped>\n",
       "    .dataframe tbody tr th:only-of-type {\n",
       "        vertical-align: middle;\n",
       "    }\n",
       "\n",
       "    .dataframe tbody tr th {\n",
       "        vertical-align: top;\n",
       "    }\n",
       "\n",
       "    .dataframe thead th {\n",
       "        text-align: right;\n",
       "    }\n",
       "</style>\n",
       "<table border=\"1\" class=\"dataframe\">\n",
       "  <thead>\n",
       "    <tr style=\"text-align: right;\">\n",
       "      <th></th>\n",
       "      <th>Text</th>\n",
       "      <th>Created</th>\n",
       "      <th>Likes</th>\n",
       "      <th>Sentiment</th>\n",
       "    </tr>\n",
       "  </thead>\n",
       "  <tbody>\n",
       "    <tr>\n",
       "      <th>0</th>\n",
       "      <td>$CLF $X $TSLA $NIO $VALE</td>\n",
       "      <td>2021-01-16T17:55:13Z</td>\n",
       "      <td>805</td>\n",
       "      <td>{'basic': 'Bullish'}</td>\n",
       "    </tr>\n",
       "    <tr>\n",
       "      <th>1</th>\n",
       "      <td>$XPEV $NIO $LI  Hands down XPEV.\\nBest bang pe...</td>\n",
       "      <td>2021-01-16T17:53:37Z</td>\n",
       "      <td>300</td>\n",
       "      <td>NaN</td>\n",
       "    </tr>\n",
       "  </tbody>\n",
       "</table>\n",
       "</div>"
      ],
      "text/plain": [
       "                                                Text               Created  \\\n",
       "0                           $CLF $X $TSLA $NIO $VALE  2021-01-16T17:55:13Z   \n",
       "1  $XPEV $NIO $LI  Hands down XPEV.\\nBest bang pe...  2021-01-16T17:53:37Z   \n",
       "\n",
       "   Likes             Sentiment  \n",
       "0    805  {'basic': 'Bullish'}  \n",
       "1    300                   NaN  "
      ]
     },
     "execution_count": 29,
     "metadata": {},
     "output_type": "execute_result"
    }
   ],
   "source": [
    "f = Path(\"Data/nio_tweets.csv\")\n",
    "df = pd.read_csv(f, parse_dates = True, infer_datetime_format = True)\n",
    "df.head(2)\n"
   ]
  },
  {
   "cell_type": "code",
   "execution_count": null,
   "metadata": {},
   "outputs": [],
   "source": []
  },
  {
   "cell_type": "code",
   "execution_count": 30,
   "metadata": {},
   "outputs": [
    {
     "data": {
      "text/html": [
       "<div>\n",
       "<style scoped>\n",
       "    .dataframe tbody tr th:only-of-type {\n",
       "        vertical-align: middle;\n",
       "    }\n",
       "\n",
       "    .dataframe tbody tr th {\n",
       "        vertical-align: top;\n",
       "    }\n",
       "\n",
       "    .dataframe thead th {\n",
       "        text-align: right;\n",
       "    }\n",
       "</style>\n",
       "<table border=\"1\" class=\"dataframe\">\n",
       "  <thead>\n",
       "    <tr style=\"text-align: right;\">\n",
       "      <th></th>\n",
       "      <th>Created</th>\n",
       "      <th>Likes</th>\n",
       "      <th>NLTK_Compound</th>\n",
       "      <th>NLTK_Neg</th>\n",
       "      <th>NLTK_Neu</th>\n",
       "      <th>NLTK_Pos</th>\n",
       "      <th>Sentiment</th>\n",
       "      <th>Text</th>\n",
       "    </tr>\n",
       "  </thead>\n",
       "  <tbody>\n",
       "    <tr>\n",
       "      <th>0</th>\n",
       "      <td>2021-01-16</td>\n",
       "      <td>805</td>\n",
       "      <td>0.0000</td>\n",
       "      <td>0.0</td>\n",
       "      <td>1.000</td>\n",
       "      <td>0.000</td>\n",
       "      <td>Bullish</td>\n",
       "      <td>$CLF $X $TSLA $NIO $VALE</td>\n",
       "    </tr>\n",
       "    <tr>\n",
       "      <th>1</th>\n",
       "      <td>2021-01-16</td>\n",
       "      <td>300</td>\n",
       "      <td>0.8519</td>\n",
       "      <td>0.0</td>\n",
       "      <td>0.751</td>\n",
       "      <td>0.249</td>\n",
       "      <td>NaN</td>\n",
       "      <td>$XPEV $NIO $LI  Hands down XPEV.\\nBest bang pe...</td>\n",
       "    </tr>\n",
       "  </tbody>\n",
       "</table>\n",
       "</div>"
      ],
      "text/plain": [
       "      Created  Likes  NLTK_Compound  NLTK_Neg  NLTK_Neu  NLTK_Pos Sentiment  \\\n",
       "0  2021-01-16    805         0.0000       0.0     1.000     0.000   Bullish   \n",
       "1  2021-01-16    300         0.8519       0.0     0.751     0.249       NaN   \n",
       "\n",
       "                                                Text  \n",
       "0                           $CLF $X $TSLA $NIO $VALE  \n",
       "1  $XPEV $NIO $LI  Hands down XPEV.\\nBest bang pe...  "
      ]
     },
     "execution_count": 30,
     "metadata": {},
     "output_type": "execute_result"
    }
   ],
   "source": [
    "n = nlp.NLT()\n",
    "nltk_df = n.make_sentiment_df(df,\"twits\")\n",
    "nltk_df.head(2)"
   ]
  },
  {
   "cell_type": "code",
   "execution_count": 31,
   "metadata": {},
   "outputs": [
    {
     "data": {
      "text/html": [
       "<div>\n",
       "<style scoped>\n",
       "    .dataframe tbody tr th:only-of-type {\n",
       "        vertical-align: middle;\n",
       "    }\n",
       "\n",
       "    .dataframe tbody tr th {\n",
       "        vertical-align: top;\n",
       "    }\n",
       "\n",
       "    .dataframe thead th {\n",
       "        text-align: right;\n",
       "    }\n",
       "</style>\n",
       "<table border=\"1\" class=\"dataframe\">\n",
       "  <thead>\n",
       "    <tr style=\"text-align: right;\">\n",
       "      <th></th>\n",
       "      <th>Created</th>\n",
       "      <th>Likes</th>\n",
       "      <th>NLTK_Compound</th>\n",
       "      <th>NLTK_Neg</th>\n",
       "      <th>NLTK_Neu</th>\n",
       "      <th>NLTK_Pos</th>\n",
       "      <th>Sentiment</th>\n",
       "      <th>Text</th>\n",
       "      <th>Blob Class</th>\n",
       "      <th>Blob Pos</th>\n",
       "      <th>Blob Neg</th>\n",
       "    </tr>\n",
       "  </thead>\n",
       "  <tbody>\n",
       "    <tr>\n",
       "      <th>0</th>\n",
       "      <td>2021-01-16</td>\n",
       "      <td>805</td>\n",
       "      <td>0.0000</td>\n",
       "      <td>0.0</td>\n",
       "      <td>1.000</td>\n",
       "      <td>0.000</td>\n",
       "      <td>Bullish</td>\n",
       "      <td>$CLF $X $TSLA $NIO $VALE</td>\n",
       "      <td>pos</td>\n",
       "      <td>0.500000</td>\n",
       "      <td>0.500000</td>\n",
       "    </tr>\n",
       "    <tr>\n",
       "      <th>1</th>\n",
       "      <td>2021-01-16</td>\n",
       "      <td>300</td>\n",
       "      <td>0.8519</td>\n",
       "      <td>0.0</td>\n",
       "      <td>0.751</td>\n",
       "      <td>0.249</td>\n",
       "      <td>NaN</td>\n",
       "      <td>$XPEV $NIO $LI  Hands down XPEV.\\nBest bang pe...</td>\n",
       "      <td>pos</td>\n",
       "      <td>0.682225</td>\n",
       "      <td>0.317775</td>\n",
       "    </tr>\n",
       "  </tbody>\n",
       "</table>\n",
       "</div>"
      ],
      "text/plain": [
       "      Created  Likes  NLTK_Compound  NLTK_Neg  NLTK_Neu  NLTK_Pos Sentiment  \\\n",
       "0  2021-01-16    805         0.0000       0.0     1.000     0.000   Bullish   \n",
       "1  2021-01-16    300         0.8519       0.0     0.751     0.249       NaN   \n",
       "\n",
       "                                                Text Blob Class  Blob Pos  \\\n",
       "0                           $CLF $X $TSLA $NIO $VALE        pos  0.500000   \n",
       "1  $XPEV $NIO $LI  Hands down XPEV.\\nBest bang pe...        pos  0.682225   \n",
       "\n",
       "   Blob Neg  \n",
       "0  0.500000  \n",
       "1  0.317775  "
      ]
     },
     "execution_count": 31,
     "metadata": {},
     "output_type": "execute_result"
    }
   ],
   "source": [
    "b = nlp.Blobby()\n",
    "\n",
    "nltk_blob_df = b.add_blob(nltk_df, \"Text\")\n",
    "nltk_blob_df.head(2)"
   ]
  },
  {
   "cell_type": "code",
   "execution_count": 32,
   "metadata": {},
   "outputs": [
    {
     "name": "stderr",
     "output_type": "stream",
     "text": [
      "C:\\Users\\todds\\anaconda3\\envs\\dev\\lib\\site-packages\\ipykernel_launcher.py:2: SettingWithCopyWarning: \n",
      "A value is trying to be set on a copy of a slice from a DataFrame.\n",
      "Try using .loc[row_indexer,col_indexer] = value instead\n",
      "\n",
      "See the caveats in the documentation: http://pandas.pydata.org/pandas-docs/stable/indexing.html#indexing-view-versus-copy\n",
      "  \n"
     ]
    },
    {
     "data": {
      "text/html": [
       "<div>\n",
       "<style scoped>\n",
       "    .dataframe tbody tr th:only-of-type {\n",
       "        vertical-align: middle;\n",
       "    }\n",
       "\n",
       "    .dataframe tbody tr th {\n",
       "        vertical-align: top;\n",
       "    }\n",
       "\n",
       "    .dataframe thead th {\n",
       "        text-align: right;\n",
       "    }\n",
       "</style>\n",
       "<table border=\"1\" class=\"dataframe\">\n",
       "  <thead>\n",
       "    <tr style=\"text-align: right;\">\n",
       "      <th></th>\n",
       "      <th>NLTK_Compound</th>\n",
       "      <th>Blob Score</th>\n",
       "    </tr>\n",
       "    <tr>\n",
       "      <th>Created</th>\n",
       "      <th></th>\n",
       "      <th></th>\n",
       "    </tr>\n",
       "  </thead>\n",
       "  <tbody>\n",
       "    <tr>\n",
       "      <th>2020-09-21</th>\n",
       "      <td>-0.012772</td>\n",
       "      <td>0.745363</td>\n",
       "    </tr>\n",
       "    <tr>\n",
       "      <th>2020-09-22</th>\n",
       "      <td>-0.045475</td>\n",
       "      <td>0.704881</td>\n",
       "    </tr>\n",
       "  </tbody>\n",
       "</table>\n",
       "</div>"
      ],
      "text/plain": [
       "            NLTK_Compound  Blob Score\n",
       "Created                              \n",
       "2020-09-21      -0.012772    0.745363\n",
       "2020-09-22      -0.045475    0.704881"
      ]
     },
     "execution_count": 32,
     "metadata": {},
     "output_type": "execute_result"
    }
   ],
   "source": [
    "df_final = nltk_blob_df[[\"Created\", \"NLTK_Compound\",\"Blob Pos\", \"Blob Neg\"]]\n",
    "df_final[\"Blob Score\"] = np.where(df_final[\"Blob Pos\"] >0.5, df_final[\"Blob Pos\"], df_final[\"Blob Neg\"])\n",
    "df_final = df_final[[\"Created\", \"NLTK_Compound\", \"Blob Score\"]]\n",
    "\n",
    "df_final.sort_index(inplace = True)\n",
    "df_final = df_final.groupby([\"Created\"]).mean()\n",
    "df_final.round({\"NLTK_Compound\": 4,\n",
    "                \"Blob Score\" : 4\n",
    "               })\n",
    "df_final.head(2)"
   ]
  },
  {
   "cell_type": "code",
   "execution_count": 33,
   "metadata": {},
   "outputs": [],
   "source": [
    "df_final.to_csv(\"Data/tweets_nio_sentiment.csv\", header = True, index = True)\n"
   ]
  },
  {
   "cell_type": "code",
   "execution_count": null,
   "metadata": {},
   "outputs": [],
   "source": []
  },
  {
   "cell_type": "code",
   "execution_count": null,
   "metadata": {},
   "outputs": [],
   "source": []
  },
  {
   "cell_type": "code",
   "execution_count": null,
   "metadata": {},
   "outputs": [],
   "source": []
  },
  {
   "cell_type": "code",
   "execution_count": null,
   "metadata": {},
   "outputs": [],
   "source": [
    "# l = ml.LSTM()\n",
    "\n",
    "# l.num_units\n",
    "# plot_df = new_new_df[[\"Text_Compound\",\"Text_Neg\", \"Text_Pos\"]]\n",
    "# l.plot_me(plot_df)"
   ]
  },
  {
   "cell_type": "code",
   "execution_count": null,
   "metadata": {},
   "outputs": [],
   "source": []
  },
  {
   "cell_type": "code",
   "execution_count": null,
   "metadata": {},
   "outputs": [],
   "source": [
    "sent_df = nlp.make_sentiment_df(df, \"Reddit\")"
   ]
  },
  {
   "cell_type": "code",
   "execution_count": null,
   "metadata": {},
   "outputs": [],
   "source": [
    "sent_df.head()"
   ]
  },
  {
   "cell_type": "code",
   "execution_count": null,
   "metadata": {},
   "outputs": [],
   "source": [
    "nlp.show_stats(sent_df)"
   ]
  },
  {
   "cell_type": "code",
   "execution_count": null,
   "metadata": {},
   "outputs": [],
   "source": [
    "def window_data(df, window, feature_col_number, target_col_number):\n",
    "    \"\"\"\n",
    "    This function accepts the column number for the features (X) and the target (y).\n",
    "    It chunks the data up with a rolling window of Xt - window to predict Xt.\n",
    "    It returns two numpy arrays of X and y.\n",
    "    \"\"\"\n",
    "    X = []\n",
    "    y = []\n",
    "    for i in range(len(df) - window):\n",
    "        features = df.iloc[i : (i + window), feature_col_number]\n",
    "        target = df.iloc[(i + window), target_col_number]\n",
    "        X.append(features)\n",
    "        y.append(target)\n",
    "    return np.array(X), np.array(y).reshape(-1, 1)"
   ]
  },
  {
   "cell_type": "code",
   "execution_count": null,
   "metadata": {},
   "outputs": [],
   "source": [
    "        X, y = window_data(df, 2,1, 1)\n",
    "        \n",
    "        split = int(0.7 * len(X))\n",
    "        X_train = X[: split -1]\n",
    "        X_test = X[split:]\n",
    "        y_train = y[: split -1]\n",
    "        y_test = y[split:]\n",
    "        \n",
    "        scaler = MinMaxScaler().fit(X_train)\n",
    "        X_train = scaler.transform(X_train)\n",
    "        X_test = scaler.transform(X_test)\n",
    "       # scaler.fit(y_train)\n",
    "       # y_train = scaler.transform(y_train)\n",
    "       # y_test = scaler.transform(y_test)\n",
    "\n",
    "        X_train = X_train.reshape((X_train.shape[0], X_train.shape[1], 1))\n",
    "        X_test = X_test.reshape((X_test.shape[0], X_test.shape[1],1))\n",
    "        \n",
    "        \n",
    "        #Might be tricky to separate this out right now due to coding for layers\n",
    "        model = Sequential()\n",
    "        number_units = 10\n",
    "        dropout_fraction = 0.2\n",
    "\n",
    "        #Layer1\n",
    "        model.add(LSTM(\n",
    "        units = number_units,\n",
    "        return_sequences = True,\n",
    "        input_shape = (X_train.shape[1], 1))\n",
    "        )\n",
    "\n",
    "        model.add(Dropout(dropout_fraction))\n",
    "        #Layer2\n",
    "        model.add(LSTM(units = number_units, return_sequences = True))\n",
    "        model.add(Dropout(dropout_fraction))\n",
    "        #Layer3\n",
    "        model.add(LSTM(units=number_units))\n",
    "        model.add(Dropout(dropout_fraction))\n",
    "        #Output\n",
    "        model.add(Dense(1))\n",
    "\n",
    "        model.compile(optimizer = \"adam\", loss = \"mean_squared_error\")\n",
    "\n",
    "        model.fit(\n",
    "            X_train, y_train,\n",
    "            epochs = 20,\n",
    "            shuffle = False,\n",
    "            batch_size = 2,\n",
    "            verbose = 1\n",
    "        )\n",
    "\n",
    "        predicted = model.predict(X_test)\n",
    "        scaler = MinMaxScaler().fit(y_train)\n",
    "        predicted_prices = scaler.inverse_transform(predicted)\n",
    "        real_prices = scaler.inverse_transform(y_test.reshape(-1, 1))\n",
    "\n",
    "        stocks = pd.DataFrame({\n",
    "            \"Real\": real_prices.ravel(),\n",
    "            \"Predicted\": predicted_prices.ravel()\n",
    "            }, index = df.index[-len(real_prices): ]) \n",
    "\n"
   ]
  },
  {
   "cell_type": "code",
   "execution_count": null,
   "metadata": {},
   "outputs": [],
   "source": [
    "stocks.tail()"
   ]
  },
  {
   "cell_type": "code",
   "execution_count": null,
   "metadata": {},
   "outputs": [],
   "source": []
  },
  {
   "cell_type": "code",
   "execution_count": null,
   "metadata": {},
   "outputs": [],
   "source": []
  },
  {
   "cell_type": "code",
   "execution_count": null,
   "metadata": {},
   "outputs": [],
   "source": []
  }
 ],
 "metadata": {
  "kernelspec": {
   "display_name": "Python [conda env:dev] *",
   "language": "python",
   "name": "conda-env-dev-py"
  },
  "language_info": {
   "codemirror_mode": {
    "name": "ipython",
    "version": 3
   },
   "file_extension": ".py",
   "mimetype": "text/x-python",
   "name": "python",
   "nbconvert_exporter": "python",
   "pygments_lexer": "ipython3",
   "version": "3.7.7"
  }
 },
 "nbformat": 4,
 "nbformat_minor": 4
}
