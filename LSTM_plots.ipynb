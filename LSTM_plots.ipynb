{
 "cells": [
  {
   "cell_type": "code",
   "execution_count": null,
   "metadata": {},
   "outputs": [],
   "source": [
    "#Initial Imports\n",
    "import pandas\n",
    "import numpy as np\n",
    "import pandas as pd\n",
    "\n",
    "import model_functions\n",
    "\n",
    "import panel as pn\n",
    "\n",
    "pn.extension('plotly')\n",
    "import matplotlib.pyplot as plt\n",
    "import holoviews as hv\n",
    "from holoviews import opts\n",
    "import plotly.express as px\n",
    "from panel.interact import interact\n",
    "from panel import widgets\n",
    "import hvplot.pandas"
   ]
  },
  {
   "cell_type": "code",
   "execution_count": 21,
   "metadata": {},
   "outputs": [],
   "source": [
    "#Reading in files for plotting\n",
    "df = pd.read_csv('Data/Master/master_model_predictions.csv', index_col=\"Created\", infer_datetime_format=True, parse_dates=True)\n",
    "df_one = pd.read_csv('Data/Master/master_model_one_predictions.csv', index_col=\"Created\", infer_datetime_format=True, parse_dates=True)\n",
    "mse_df = pd.read_csv('Data/Master/master_mse.csv', infer_datetime_format=True, parse_dates=True)\n",
    "mse_one_df = pd.read_csv('Data/Master/master_one_mse.csv', infer_datetime_format=True, parse_dates=True)\n",
    "difference = pd.read_csv('Data/Master/ModelDifference/combined_diff.csv', index_col=\"Created\", infer_datetime_format=True, parse_dates=True)\n",
    "mse_diff = pd.read_csv('Data/Master/ModelDifference/joined_mse.csv', infer_datetime_format=True, parse_dates=True)"
   ]
  },
  {
   "cell_type": "code",
   "execution_count": 13,
   "metadata": {},
   "outputs": [
    {
     "data": {
      "application/vnd.holoviews_exec.v0+json": "",
      "text/html": [
       "<div id='1571'>\n",
       "\n",
       "\n",
       "\n",
       "\n",
       "\n",
       "  <div class=\"bk-root\" id=\"f3d3bb8f-21c7-4a26-adef-8a0a7c7da49c\" data-root-id=\"1571\"></div>\n",
       "</div>\n",
       "<script type=\"application/javascript\">(function(root) {\n",
       "  function embed_document(root) {\n",
       "    var docs_json = {\"046866cb-460c-4b52-8e5f-e73b4e133243\":{\"roots\":{\"references\":[{\"attributes\":{\"editor\":{\"id\":\"1581\"},\"field\":\"MSE_left_parenthesis_Three_hyphen_minus_Feature_Model_right_parenthesis\",\"formatter\":{\"id\":\"1580\"},\"title\":\"MSE (Three-Feature Model)\"},\"id\":\"1582\",\"type\":\"TableColumn\"},{\"attributes\":{\"data\":{\"MSE_left_parenthesis_Three_hyphen_minus_Feature_Model_right_parenthesis\":{\"__ndarray__\":\"AAAAoIii4z8AAACAinezPwAAAODjVIA/AAAAgFEo7T8AAADAnIFqPw==\",\"dtype\":\"float64\",\"order\":\"little\",\"shape\":[5]},\"Symbol\":[\"GME\",\"NIO\",\"PLTR\",\"PLUG\",\"TSLA\"]},\"selected\":{\"id\":\"1574\"},\"selection_policy\":{\"id\":\"1587\"}},\"id\":\"1573\",\"type\":\"ColumnDataSource\"},{\"attributes\":{},\"id\":\"1575\",\"type\":\"StringFormatter\"},{\"attributes\":{\"margin\":[5,5,5,5],\"name\":\"HSpacer02357\",\"sizing_mode\":\"stretch_width\"},\"id\":\"1572\",\"type\":\"Spacer\"},{\"attributes\":{},\"id\":\"1587\",\"type\":\"UnionRenderers\"},{\"attributes\":{},\"id\":\"1576\",\"type\":\"StringEditor\"},{\"attributes\":{\"margin\":[5,5,5,5],\"name\":\"HSpacer02358\",\"sizing_mode\":\"stretch_width\"},\"id\":\"1591\",\"type\":\"Spacer\"},{\"attributes\":{\"children\":[{\"id\":\"1572\"},{\"id\":\"1585\"},{\"id\":\"1591\"}],\"margin\":[0,0,0,0],\"name\":\"Row02353\",\"tags\":[\"embedded\"]},\"id\":\"1571\",\"type\":\"Row\"},{\"attributes\":{\"source\":{\"id\":\"1573\"}},\"id\":\"1586\",\"type\":\"CDSView\"},{\"attributes\":{\"editor\":{\"id\":\"1576\"},\"field\":\"Symbol\",\"formatter\":{\"id\":\"1575\"},\"title\":\"Symbol\"},\"id\":\"1577\",\"type\":\"TableColumn\"},{\"attributes\":{},\"id\":\"1574\",\"type\":\"Selection\"},{\"attributes\":{},\"id\":\"1581\",\"type\":\"NumberEditor\"},{\"attributes\":{\"format\":\"0,0.0[00000]\"},\"id\":\"1580\",\"type\":\"NumberFormatter\"},{\"attributes\":{\"columns\":[{\"id\":\"1577\"},{\"id\":\"1582\"}],\"height\":300,\"reorderable\":false,\"source\":{\"id\":\"1573\"},\"view\":{\"id\":\"1586\"},\"width\":700},\"id\":\"1585\",\"type\":\"DataTable\"}],\"root_ids\":[\"1571\"]},\"title\":\"Bokeh Application\",\"version\":\"2.2.3\"}};\n",
       "    var render_items = [{\"docid\":\"046866cb-460c-4b52-8e5f-e73b4e133243\",\"root_ids\":[\"1571\"],\"roots\":{\"1571\":\"f3d3bb8f-21c7-4a26-adef-8a0a7c7da49c\"}}];\n",
       "    root.Bokeh.embed.embed_items_notebook(docs_json, render_items);\n",
       "  }\n",
       "  if (root.Bokeh !== undefined && root.Bokeh.Panel !== undefined) {\n",
       "    embed_document(root);\n",
       "  } else {\n",
       "    var attempts = 0;\n",
       "    var timer = setInterval(function(root) {\n",
       "      if (root.Bokeh !== undefined && root.Bokeh.Panel !== undefined) {\n",
       "        clearInterval(timer);\n",
       "        embed_document(root);\n",
       "      } else if (document.readyState == \"complete\") {\n",
       "        attempts++;\n",
       "        if (attempts > 100) {\n",
       "          clearInterval(timer);\n",
       "          console.log(\"Bokeh: ERROR: Unable to run BokehJS code because BokehJS library is missing\");\n",
       "        }\n",
       "      }\n",
       "    }, 10, root)\n",
       "  }\n",
       "})(window);</script>"
      ],
      "text/plain": [
       ":Table   [Symbol,MSE (Three-Feature Model)]"
      ]
     },
     "execution_count": 13,
     "metadata": {
      "application/vnd.holoviews_exec.v0+json": {
       "id": "1571"
      }
     },
     "output_type": "execute_result"
    }
   ],
   "source": [
    "#Plotting MSE table (3-feature)\n",
    "mse_df.hvplot.table(columns=['Symbol', 'MSE (Three-Feature Model)'], sortable=True, selectable=True)"
   ]
  },
  {
   "cell_type": "code",
   "execution_count": 14,
   "metadata": {},
   "outputs": [
    {
     "data": {
      "application/vnd.holoviews_exec.v0+json": "",
      "text/html": [
       "<div id='1603'>\n",
       "\n",
       "\n",
       "\n",
       "\n",
       "\n",
       "  <div class=\"bk-root\" id=\"99d296c9-2ebe-4ea4-9d34-6746492ff6b1\" data-root-id=\"1603\"></div>\n",
       "</div>\n",
       "<script type=\"application/javascript\">(function(root) {\n",
       "  function embed_document(root) {\n",
       "    var docs_json = {\"d96e4fd9-0d13-42fc-8df9-ad8691f6e95c\":{\"roots\":{\"references\":[{\"attributes\":{\"num_minor_ticks\":5,\"tickers\":[{\"id\":\"1661\"},{\"id\":\"1662\"},{\"id\":\"1663\"},{\"id\":\"1664\"},{\"id\":\"1665\"},{\"id\":\"1666\"},{\"id\":\"1667\"},{\"id\":\"1668\"},{\"id\":\"1669\"},{\"id\":\"1670\"},{\"id\":\"1671\"},{\"id\":\"1672\"}]},\"id\":\"1622\",\"type\":\"DatetimeTicker\"},{\"attributes\":{\"click_policy\":\"mute\",\"items\":[{\"id\":\"1675\"},{\"id\":\"1706\"}],\"location\":[0,0],\"title\":\"Variable\"},\"id\":\"1674\",\"type\":\"Legend\"},{\"attributes\":{\"axis\":{\"id\":\"1625\"},\"dimension\":1,\"grid_line_color\":null,\"ticker\":null},\"id\":\"1628\",\"type\":\"Grid\"},{\"attributes\":{\"axis\":{\"id\":\"1621\"},\"grid_line_color\":null,\"ticker\":null},\"id\":\"1624\",\"type\":\"Grid\"},{\"attributes\":{},\"id\":\"1643\",\"type\":\"DatetimeTickFormatter\"},{\"attributes\":{\"callback\":null,\"formatters\":{\"@{Created}\":\"datetime\"},\"renderers\":[{\"id\":\"1652\"},{\"id\":\"1682\"}],\"tags\":[\"hv_created\"],\"tooltips\":[[\"Variable\",\"@{Variable}\"],[\"Created\",\"@{Created}\"],[\"value\",\"@{value}\"]]},\"id\":\"1610\",\"type\":\"HoverTool\"},{\"attributes\":{},\"id\":\"1691\",\"type\":\"UnionRenderers\"},{\"attributes\":{\"base\":24,\"mantissas\":[1,2,4,6,8,12],\"max_interval\":43200000.0,\"min_interval\":3600000.0,\"num_minor_ticks\":0},\"id\":\"1663\",\"type\":\"AdaptiveTicker\"},{\"attributes\":{\"days\":[1,15]},\"id\":\"1667\",\"type\":\"DaysTicker\"},{\"attributes\":{},\"id\":\"1626\",\"type\":\"BasicTicker\"},{\"attributes\":{\"days\":[1,2,3,4,5,6,7,8,9,10,11,12,13,14,15,16,17,18,19,20,21,22,23,24,25,26,27,28,29,30,31]},\"id\":\"1664\",\"type\":\"DaysTicker\"},{\"attributes\":{\"days\":[1,8,15,22]},\"id\":\"1666\",\"type\":\"DaysTicker\"},{\"attributes\":{\"months\":[0,6]},\"id\":\"1671\",\"type\":\"MonthsTicker\"},{\"attributes\":{\"end\":1611273600000.0,\"reset_end\":1611273600000.0,\"reset_start\":1606176000000.0,\"start\":1606176000000.0,\"tags\":[[[\"Created\",\"Created\",null]]]},\"id\":\"1608\",\"type\":\"Range1d\"},{\"attributes\":{\"axis_label\":\"\",\"bounds\":\"auto\",\"formatter\":{\"id\":\"1645\"},\"major_label_orientation\":\"horizontal\",\"ticker\":{\"id\":\"1626\"}},\"id\":\"1625\",\"type\":\"LinearAxis\"},{\"attributes\":{\"days\":[1,4,7,10,13,16,19,22,25,28]},\"id\":\"1665\",\"type\":\"DaysTicker\"},{\"attributes\":{\"bottom_units\":\"screen\",\"fill_alpha\":0.5,\"fill_color\":\"lightgrey\",\"left_units\":\"screen\",\"level\":\"overlay\",\"line_alpha\":1.0,\"line_color\":\"black\",\"line_dash\":[4,4],\"line_width\":2,\"right_units\":\"screen\",\"top_units\":\"screen\"},\"id\":\"1634\",\"type\":\"BoxAnnotation\"},{\"attributes\":{\"data\":{\"Created\":{\"__ndarray__\":\"AACAzHhfd0IAAEAyy193QgAAwP1vYHdCAAAAL2dhd0IAAMCUuWF3QgAAgPoLYndCAABAYF5id0IAAADGsGJ3QgAAQPenY3dCAAAAXfpjd0IAAMDCTGR3QgAAgCifZHdCAABAjvFkd0IAAIC/6GV3QgAAQCU7ZndCAAAAi41md0IAAMDw32Z3QgAAgFYyZ3dCAADAhylod0IAAIDte2h3QgAAQFPOaHdCAAAAuSBpd0IAAABQamp3QgAAwLW8andCAACAGw9rd0IAAECBYWt3QgAAQBirbHdCAAAAfv1sd0IAAMDjT213QgAAgEmibXdCAABAr/Rtd0IAAIDg6253QgAAQEY+b3dCAAAArJBvd0IAAMAR4293QgAAgHc1cHdCAACADn9xd0IAAEB00XF3QgAAANojcndCAADAP3Zyd0I=\",\"dtype\":\"float64\",\"order\":\"little\",\"shape\":[40]},\"Variable\":[\"Predicted\",\"Predicted\",\"Predicted\",\"Predicted\",\"Predicted\",\"Predicted\",\"Predicted\",\"Predicted\",\"Predicted\",\"Predicted\",\"Predicted\",\"Predicted\",\"Predicted\",\"Predicted\",\"Predicted\",\"Predicted\",\"Predicted\",\"Predicted\",\"Predicted\",\"Predicted\",\"Predicted\",\"Predicted\",\"Predicted\",\"Predicted\",\"Predicted\",\"Predicted\",\"Predicted\",\"Predicted\",\"Predicted\",\"Predicted\",\"Predicted\",\"Predicted\",\"Predicted\",\"Predicted\",\"Predicted\",\"Predicted\",\"Predicted\",\"Predicted\",\"Predicted\",\"Predicted\"],\"value\":{\"__ndarray__\":\"Wd/A5EbpJ0DQRxlxAbAnQAWoqWVrhShAaM76lGOCKEDsv85Nm4EpQCOfVzz1iCpAVTVB1H0QK0CHqwMg7rorQGGkF7X7TSxAgo/BilN9LEClGvZ7YpUsQM2Tawpk1ixAUqG6ufiTLECsN2qF6ZMsQCmQ2Vn0BixA9DEfEOg0K0D+n8N8ecEpQFeUEoJVtSlAs2Dij6K2KUBrfvylRdUpQGtDxTh/mypA8z/5u3fcKkC+vAD76HwrQNOcvMgEbCxA0GOUZ16OLUB5dCMsKpouQFlKlpNQ0i5ATx+BP/zgLkDPtpp1xscuQKqezD/6Li5A8djPYikCLkDoMcozL48tQC4cCMkCNi1ADCO9qN1vLUDGUbmJWrotQEbku5S6BC5AXeDyWDNiLkCKcmn8wnMvQK58lufBKTBAPBbbpKLdMEA=\",\"dtype\":\"float64\",\"order\":\"little\",\"shape\":[40]}},\"selected\":{\"id\":\"1677\"},\"selection_policy\":{\"id\":\"1691\"}},\"id\":\"1676\",\"type\":\"ColumnDataSource\"},{\"attributes\":{\"base\":60,\"mantissas\":[1,2,5,10,15,20,30],\"max_interval\":1800000.0,\"min_interval\":1000.0,\"num_minor_ticks\":0},\"id\":\"1662\",\"type\":\"AdaptiveTicker\"},{\"attributes\":{\"months\":[0,1,2,3,4,5,6,7,8,9,10,11]},\"id\":\"1668\",\"type\":\"MonthsTicker\"},{\"attributes\":{\"end\":46.1376239,\"reset_end\":46.1376239,\"reset_start\":8.7261371,\"start\":8.7261371,\"tags\":[[[\"value\",\"value\",null]]]},\"id\":\"1609\",\"type\":\"Range1d\"},{\"attributes\":{\"below\":[{\"id\":\"1621\"}],\"center\":[{\"id\":\"1624\"},{\"id\":\"1628\"}],\"left\":[{\"id\":\"1625\"}],\"margin\":[5,5,5,5],\"min_border_bottom\":10,\"min_border_left\":10,\"min_border_right\":10,\"min_border_top\":10,\"plot_height\":400,\"plot_width\":900,\"renderers\":[{\"id\":\"1652\"},{\"id\":\"1682\"}],\"right\":[{\"id\":\"1674\"}],\"sizing_mode\":\"fixed\",\"title\":{\"id\":\"1613\"},\"toolbar\":{\"id\":\"1635\"},\"x_range\":{\"id\":\"1608\"},\"x_scale\":{\"id\":\"1617\"},\"y_range\":{\"id\":\"1609\"},\"y_scale\":{\"id\":\"1619\"}},\"id\":\"1612\",\"subtype\":\"Figure\",\"type\":\"Plot\"},{\"attributes\":{\"active_drag\":\"auto\",\"active_inspect\":\"auto\",\"active_multi\":null,\"active_scroll\":\"auto\",\"active_tap\":\"auto\",\"tools\":[{\"id\":\"1610\"},{\"id\":\"1629\"},{\"id\":\"1630\"},{\"id\":\"1631\"},{\"id\":\"1632\"},{\"id\":\"1633\"}]},\"id\":\"1635\",\"type\":\"Toolbar\"},{\"attributes\":{\"line_color\":\"#1f77b3\",\"line_width\":2,\"x\":{\"field\":\"Created\"},\"y\":{\"field\":\"value\"}},\"id\":\"1649\",\"type\":\"Line\"},{\"attributes\":{\"months\":[0,4,8]},\"id\":\"1670\",\"type\":\"MonthsTicker\"},{\"attributes\":{\"line_alpha\":0.1,\"line_color\":\"#1f77b3\",\"line_width\":2,\"x\":{\"field\":\"Created\"},\"y\":{\"field\":\"value\"}},\"id\":\"1650\",\"type\":\"Line\"},{\"attributes\":{\"line_alpha\":0.1,\"line_color\":\"#ff7e0e\",\"line_width\":2,\"x\":{\"field\":\"Created\"},\"y\":{\"field\":\"value\"}},\"id\":\"1680\",\"type\":\"Line\"},{\"attributes\":{},\"id\":\"1647\",\"type\":\"Selection\"},{\"attributes\":{\"children\":[{\"id\":\"1604\"},{\"id\":\"1612\"}],\"margin\":[0,0,0,0],\"name\":\"Row02416\"},\"id\":\"1603\",\"type\":\"Row\"},{\"attributes\":{\"data_source\":{\"id\":\"1676\"},\"glyph\":{\"id\":\"1679\"},\"hover_glyph\":null,\"muted_glyph\":{\"id\":\"1681\"},\"nonselection_glyph\":{\"id\":\"1680\"},\"selection_glyph\":null,\"view\":{\"id\":\"1683\"}},\"id\":\"1682\",\"type\":\"GlyphRenderer\"},{\"attributes\":{\"line_alpha\":0.2,\"line_color\":\"#1f77b3\",\"line_width\":2,\"x\":{\"field\":\"Created\"},\"y\":{\"field\":\"value\"}},\"id\":\"1651\",\"type\":\"Line\"},{\"attributes\":{\"months\":[0,2,4,6,8,10]},\"id\":\"1669\",\"type\":\"MonthsTicker\"},{\"attributes\":{\"label\":{\"value\":\"Real\"},\"renderers\":[{\"id\":\"1652\"}]},\"id\":\"1675\",\"type\":\"LegendItem\"},{\"attributes\":{\"source\":{\"id\":\"1676\"}},\"id\":\"1683\",\"type\":\"CDSView\"},{\"attributes\":{},\"id\":\"1629\",\"type\":\"SaveTool\"},{\"attributes\":{\"data_source\":{\"id\":\"1646\"},\"glyph\":{\"id\":\"1649\"},\"hover_glyph\":null,\"muted_glyph\":{\"id\":\"1651\"},\"nonselection_glyph\":{\"id\":\"1650\"},\"selection_glyph\":null,\"view\":{\"id\":\"1653\"}},\"id\":\"1652\",\"type\":\"GlyphRenderer\"},{\"attributes\":{},\"id\":\"1630\",\"type\":\"PanTool\"},{\"attributes\":{},\"id\":\"1659\",\"type\":\"UnionRenderers\"},{\"attributes\":{\"label\":{\"value\":\"Predicted\"},\"renderers\":[{\"id\":\"1682\"}]},\"id\":\"1706\",\"type\":\"LegendItem\"},{\"attributes\":{},\"id\":\"1633\",\"type\":\"ResetTool\"},{\"attributes\":{\"client_comm_id\":\"9d04432b6ad24394848a3bbf6ad67996\",\"comm_id\":\"9e0d7ab8caee45b8b2fbb2cf012cea3f\",\"plot_id\":\"1603\"},\"id\":\"1975\",\"type\":\"panel.models.comm_manager.CommManager\"},{\"attributes\":{\"children\":[{\"id\":\"1606\"}],\"css_classes\":[\"panel-widget-box\"],\"margin\":[5,5,5,5],\"name\":\"WidgetBox02417\"},\"id\":\"1605\",\"type\":\"Column\"},{\"attributes\":{\"source\":{\"id\":\"1646\"}},\"id\":\"1653\",\"type\":\"CDSView\"},{\"attributes\":{},\"id\":\"1631\",\"type\":\"WheelZoomTool\"},{\"attributes\":{},\"id\":\"1677\",\"type\":\"Selection\"},{\"attributes\":{\"children\":[{\"id\":\"1605\"},{\"id\":\"1607\"}],\"margin\":[0,0,0,0],\"name\":\"Column02423\"},\"id\":\"1604\",\"type\":\"Column\"},{\"attributes\":{\"line_color\":\"#ff7e0e\",\"line_width\":2,\"x\":{\"field\":\"Created\"},\"y\":{\"field\":\"value\"}},\"id\":\"1679\",\"type\":\"Line\"},{\"attributes\":{\"axis_label\":\"Created\",\"bounds\":\"auto\",\"formatter\":{\"id\":\"1643\"},\"major_label_orientation\":\"horizontal\",\"ticker\":{\"id\":\"1622\"}},\"id\":\"1621\",\"type\":\"DatetimeAxis\"},{\"attributes\":{\"overlay\":{\"id\":\"1634\"}},\"id\":\"1632\",\"type\":\"BoxZoomTool\"},{\"attributes\":{\"margin\":[20,20,20,20],\"min_width\":250,\"options\":[\"GME\",\"NIO\",\"PLTR\",\"PLUG\",\"TSLA\"],\"title\":\"Stock\",\"value\":\"GME\",\"width\":250},\"id\":\"1606\",\"type\":\"Select\"},{\"attributes\":{\"data\":{\"Created\":{\"__ndarray__\":\"AACAzHhfd0IAAEAyy193QgAAwP1vYHdCAAAAL2dhd0IAAMCUuWF3QgAAgPoLYndCAABAYF5id0IAAADGsGJ3QgAAQPenY3dCAAAAXfpjd0IAAMDCTGR3QgAAgCifZHdCAABAjvFkd0IAAIC/6GV3QgAAQCU7ZndCAAAAi41md0IAAMDw32Z3QgAAgFYyZ3dCAADAhylod0IAAIDte2h3QgAAQFPOaHdCAAAAuSBpd0IAAABQamp3QgAAwLW8andCAACAGw9rd0IAAECBYWt3QgAAQBirbHdCAAAAfv1sd0IAAMDjT213QgAAgEmibXdCAABAr/Rtd0IAAIDg6253QgAAQEY+b3dCAAAArJBvd0IAAMAR4293QgAAgHc1cHdCAACADn9xd0IAAEB00XF3QgAAANojcndCAADAP3Zyd0I=\",\"dtype\":\"float64\",\"order\":\"little\",\"shape\":[40]},\"Variable\":[\"Real\",\"Real\",\"Real\",\"Real\",\"Real\",\"Real\",\"Real\",\"Real\",\"Real\",\"Real\",\"Real\",\"Real\",\"Real\",\"Real\",\"Real\",\"Real\",\"Real\",\"Real\",\"Real\",\"Real\",\"Real\",\"Real\",\"Real\",\"Real\",\"Real\",\"Real\",\"Real\",\"Real\",\"Real\",\"Real\",\"Real\",\"Real\",\"Real\",\"Real\",\"Real\",\"Real\",\"Real\",\"Real\",\"Real\",\"Real\"],\"value\":{\"__ndarray__\":\"zszMzMzMK0Bcj8L1KFwrQAAAAAAAgC1AzczMzMwMMEA2qz5XW5EwQB+F61G4ni9A16NwPQqXMEAfhetRuB4wQClcj8L16DBAUrgehetRMEDsUbgeheswQP+ye/KwUCtAPQrXo3A9LEAghetRuJ4qQHE9CtejcClAPQrXo3C9K0AzMzMzM7MrQChcj8L1qC1Aw/UoXI9CL0AnwoanVwovQK5H4XoUbjNAFK5H4XqUNEAzMzMzMzM0QHsUrkfh+jRAH4XrUbheM0DD9Shcj0IzQI/C9ShczzJAPQrXo3A9MUBcj8L1KFwxQKRwPQrXYzJAH4XrUbgeMkCqglFJnbAxQK5H4XoU7jNAcT0K16PwM0BxPQrXo3A/QL1SliGO9UNAH4XrUbi+QUDhehSuR8FDQI/C9Shcj0NAw/UoXI+CRUA=\",\"dtype\":\"float64\",\"order\":\"little\",\"shape\":[40]}},\"selected\":{\"id\":\"1647\"},\"selection_policy\":{\"id\":\"1659\"}},\"id\":\"1646\",\"type\":\"ColumnDataSource\"},{\"attributes\":{},\"id\":\"1645\",\"type\":\"BasicTickFormatter\"},{\"attributes\":{\"margin\":[5,5,5,5],\"name\":\"VSpacer02422\",\"sizing_mode\":\"stretch_height\"},\"id\":\"1607\",\"type\":\"Spacer\"},{\"attributes\":{\"line_alpha\":0.2,\"line_color\":\"#ff7e0e\",\"line_width\":2,\"x\":{\"field\":\"Created\"},\"y\":{\"field\":\"value\"}},\"id\":\"1681\",\"type\":\"Line\"},{\"attributes\":{\"text\":\"Stock: GME\",\"text_color\":{\"value\":\"black\"},\"text_font_size\":{\"value\":\"12pt\"}},\"id\":\"1613\",\"type\":\"Title\"},{\"attributes\":{},\"id\":\"1672\",\"type\":\"YearsTicker\"},{\"attributes\":{},\"id\":\"1617\",\"type\":\"LinearScale\"},{\"attributes\":{\"mantissas\":[1,2,5],\"max_interval\":500.0,\"num_minor_ticks\":0},\"id\":\"1661\",\"type\":\"AdaptiveTicker\"},{\"attributes\":{},\"id\":\"1619\",\"type\":\"LinearScale\"}],\"root_ids\":[\"1603\",\"1975\"]},\"title\":\"Bokeh Application\",\"version\":\"2.2.3\"}};\n",
       "    var render_items = [{\"docid\":\"d96e4fd9-0d13-42fc-8df9-ad8691f6e95c\",\"root_ids\":[\"1603\"],\"roots\":{\"1603\":\"99d296c9-2ebe-4ea4-9d34-6746492ff6b1\"}}];\n",
       "    root.Bokeh.embed.embed_items_notebook(docs_json, render_items);\n",
       "  }\n",
       "  if (root.Bokeh !== undefined && root.Bokeh.Panel !== undefined) {\n",
       "    embed_document(root);\n",
       "  } else {\n",
       "    var attempts = 0;\n",
       "    var timer = setInterval(function(root) {\n",
       "      if (root.Bokeh !== undefined && root.Bokeh.Panel !== undefined) {\n",
       "        clearInterval(timer);\n",
       "        embed_document(root);\n",
       "      } else if (document.readyState == \"complete\") {\n",
       "        attempts++;\n",
       "        if (attempts > 100) {\n",
       "          clearInterval(timer);\n",
       "          console.log(\"Bokeh: ERROR: Unable to run BokehJS code because BokehJS library is missing\");\n",
       "        }\n",
       "      }\n",
       "    }, 10, root)\n",
       "  }\n",
       "})(window);</script>"
      ],
      "text/plain": [
       "Row\n",
       "    [0] Column\n",
       "        [0] WidgetBox\n",
       "            [0] Select(margin=(20, 20, 20, 20), name='Stock', options=['GME', 'NIO', ...], value='GME', width=250)\n",
       "        [1] VSpacer()\n",
       "    [1] HoloViews(DynamicMap, widget_location='left_top')"
      ]
     },
     "execution_count": 14,
     "metadata": {
      "application/vnd.holoviews_exec.v0+json": {
       "id": "1603"
      }
     },
     "output_type": "execute_result"
    }
   ],
   "source": [
    "#Plotting model predictions vs actual (3-feature)\n",
    "df.hvplot.line(groupby='Stock', widget_location='left_top', width = 900, height = 400)"
   ]
  },
  {
   "cell_type": "code",
   "execution_count": 16,
   "metadata": {},
   "outputs": [
    {
     "data": {
      "application/vnd.holoviews_exec.v0+json": "",
      "text/html": [
       "<div id='2086'>\n",
       "\n",
       "\n",
       "\n",
       "\n",
       "\n",
       "  <div class=\"bk-root\" id=\"1490dd28-70a6-4245-a1f0-bd4d91f915f0\" data-root-id=\"2086\"></div>\n",
       "</div>\n",
       "<script type=\"application/javascript\">(function(root) {\n",
       "  function embed_document(root) {\n",
       "    var docs_json = {\"9c7dcd89-d934-4a44-99ef-d75ab20b6805\":{\"roots\":{\"references\":[{\"attributes\":{\"children\":[{\"id\":\"2087\"},{\"id\":\"2100\"},{\"id\":\"2106\"}],\"margin\":[0,0,0,0],\"name\":\"Row03098\",\"tags\":[\"embedded\"]},\"id\":\"2086\",\"type\":\"Row\"},{\"attributes\":{},\"id\":\"2091\",\"type\":\"StringEditor\"},{\"attributes\":{},\"id\":\"2096\",\"type\":\"NumberEditor\"},{\"attributes\":{},\"id\":\"2102\",\"type\":\"UnionRenderers\"},{\"attributes\":{\"format\":\"0,0.0[00000]\"},\"id\":\"2095\",\"type\":\"NumberFormatter\"},{\"attributes\":{\"data\":{\"MSE_left_parenthesis_One_hyphen_minus_Feature_Model_right_parenthesis\":{\"__ndarray__\":\"AAAAIL9npz8AAACAIfaBPwAAAKDGTIc/AQAAgPypjT////8f3cVYPw==\",\"dtype\":\"float64\",\"order\":\"little\",\"shape\":[5]},\"Stock\":[\"GME\",\"NIO\",\"PLTR\",\"PLUG\",\"TSLA\"]},\"selected\":{\"id\":\"2089\"},\"selection_policy\":{\"id\":\"2102\"}},\"id\":\"2088\",\"type\":\"ColumnDataSource\"},{\"attributes\":{\"editor\":{\"id\":\"2096\"},\"field\":\"MSE_left_parenthesis_One_hyphen_minus_Feature_Model_right_parenthesis\",\"formatter\":{\"id\":\"2095\"},\"title\":\"MSE (One-Feature Model)\"},\"id\":\"2097\",\"type\":\"TableColumn\"},{\"attributes\":{\"margin\":[5,5,5,5],\"name\":\"HSpacer03102\",\"sizing_mode\":\"stretch_width\"},\"id\":\"2087\",\"type\":\"Spacer\"},{\"attributes\":{\"margin\":[5,5,5,5],\"name\":\"HSpacer03103\",\"sizing_mode\":\"stretch_width\"},\"id\":\"2106\",\"type\":\"Spacer\"},{\"attributes\":{\"editor\":{\"id\":\"2091\"},\"field\":\"Stock\",\"formatter\":{\"id\":\"2090\"},\"title\":\"Stock\"},\"id\":\"2092\",\"type\":\"TableColumn\"},{\"attributes\":{},\"id\":\"2090\",\"type\":\"StringFormatter\"},{\"attributes\":{},\"id\":\"2089\",\"type\":\"Selection\"},{\"attributes\":{\"columns\":[{\"id\":\"2092\"},{\"id\":\"2097\"}],\"height\":300,\"reorderable\":false,\"source\":{\"id\":\"2088\"},\"view\":{\"id\":\"2101\"},\"width\":700},\"id\":\"2100\",\"type\":\"DataTable\"},{\"attributes\":{\"source\":{\"id\":\"2088\"}},\"id\":\"2101\",\"type\":\"CDSView\"}],\"root_ids\":[\"2086\"]},\"title\":\"Bokeh Application\",\"version\":\"2.2.3\"}};\n",
       "    var render_items = [{\"docid\":\"9c7dcd89-d934-4a44-99ef-d75ab20b6805\",\"root_ids\":[\"2086\"],\"roots\":{\"2086\":\"1490dd28-70a6-4245-a1f0-bd4d91f915f0\"}}];\n",
       "    root.Bokeh.embed.embed_items_notebook(docs_json, render_items);\n",
       "  }\n",
       "  if (root.Bokeh !== undefined && root.Bokeh.Panel !== undefined) {\n",
       "    embed_document(root);\n",
       "  } else {\n",
       "    var attempts = 0;\n",
       "    var timer = setInterval(function(root) {\n",
       "      if (root.Bokeh !== undefined && root.Bokeh.Panel !== undefined) {\n",
       "        clearInterval(timer);\n",
       "        embed_document(root);\n",
       "      } else if (document.readyState == \"complete\") {\n",
       "        attempts++;\n",
       "        if (attempts > 100) {\n",
       "          clearInterval(timer);\n",
       "          console.log(\"Bokeh: ERROR: Unable to run BokehJS code because BokehJS library is missing\");\n",
       "        }\n",
       "      }\n",
       "    }, 10, root)\n",
       "  }\n",
       "})(window);</script>"
      ],
      "text/plain": [
       ":Table   [Stock,MSE (One-Feature Model)]"
      ]
     },
     "execution_count": 16,
     "metadata": {
      "application/vnd.holoviews_exec.v0+json": {
       "id": "2086"
      }
     },
     "output_type": "execute_result"
    }
   ],
   "source": [
    "#Plotting MSE table (1-feature)\n",
    "mse_one_df.hvplot.table(columns=['Stock', 'MSE (One-Feature Model)'], sortable=True, selectable=True)"
   ]
  },
  {
   "cell_type": "code",
   "execution_count": 17,
   "metadata": {},
   "outputs": [
    {
     "data": {
      "application/vnd.holoviews_exec.v0+json": "",
      "text/html": [
       "<div id='2118'>\n",
       "\n",
       "\n",
       "\n",
       "\n",
       "\n",
       "  <div class=\"bk-root\" id=\"3a761bc7-56fd-4462-b4d2-a89c6c58bd6c\" data-root-id=\"2118\"></div>\n",
       "</div>\n",
       "<script type=\"application/javascript\">(function(root) {\n",
       "  function embed_document(root) {\n",
       "    var docs_json = {\"a992d029-3627-4ddf-95d6-7b276b9f2f09\":{\"roots\":{\"references\":[{\"attributes\":{\"children\":[{\"id\":\"2119\"},{\"id\":\"2127\"}],\"margin\":[0,0,0,0],\"name\":\"Row03161\"},\"id\":\"2118\",\"type\":\"Row\"},{\"attributes\":{\"months\":[0,4,8]},\"id\":\"2185\",\"type\":\"MonthsTicker\"},{\"attributes\":{\"axis\":{\"id\":\"2140\"},\"dimension\":1,\"grid_line_color\":null,\"ticker\":null},\"id\":\"2143\",\"type\":\"Grid\"},{\"attributes\":{},\"id\":\"2141\",\"type\":\"BasicTicker\"},{\"attributes\":{},\"id\":\"2206\",\"type\":\"UnionRenderers\"},{\"attributes\":{\"months\":[0,6]},\"id\":\"2186\",\"type\":\"MonthsTicker\"},{\"attributes\":{\"children\":[{\"id\":\"2120\"},{\"id\":\"2122\"}],\"margin\":[0,0,0,0],\"name\":\"Column03168\"},\"id\":\"2119\",\"type\":\"Column\"},{\"attributes\":{\"axis_label\":\"\",\"bounds\":\"auto\",\"formatter\":{\"id\":\"2160\"},\"major_label_orientation\":\"horizontal\",\"ticker\":{\"id\":\"2141\"}},\"id\":\"2140\",\"type\":\"LinearAxis\"},{\"attributes\":{},\"id\":\"2148\",\"type\":\"ResetTool\"},{\"attributes\":{\"end\":46.138964150000014,\"reset_end\":46.138964150000014,\"reset_start\":8.711394349999999,\"start\":8.711394349999999,\"tags\":[[[\"value\",\"value\",null]]]},\"id\":\"2124\",\"type\":\"Range1d\"},{\"attributes\":{\"data\":{\"Created\":{\"__ndarray__\":\"AACAzHhfd0IAAEAyy193QgAAwP1vYHdCAAAAL2dhd0IAAMCUuWF3QgAAgPoLYndCAABAYF5id0IAAADGsGJ3QgAAQPenY3dCAAAAXfpjd0IAAMDCTGR3QgAAgCifZHdCAABAjvFkd0IAAIC/6GV3QgAAQCU7ZndCAAAAi41md0IAAMDw32Z3QgAAgFYyZ3dCAADAhylod0IAAIDte2h3QgAAQFPOaHdCAAAAuSBpd0IAAABQamp3QgAAwLW8andCAACAGw9rd0IAAECBYWt3QgAAQBirbHdCAAAAfv1sd0IAAMDjT213QgAAgEmibXdCAABAr/Rtd0IAAIDg6253QgAAQEY+b3dCAAAArJBvd0IAAMAR4293QgAAgHc1cHdCAACADn9xd0IAAEB00XF3QgAAANojcndCAADAP3Zyd0I=\",\"dtype\":\"float64\",\"order\":\"little\",\"shape\":[40]},\"Variable\":[\"Predicted\",\"Predicted\",\"Predicted\",\"Predicted\",\"Predicted\",\"Predicted\",\"Predicted\",\"Predicted\",\"Predicted\",\"Predicted\",\"Predicted\",\"Predicted\",\"Predicted\",\"Predicted\",\"Predicted\",\"Predicted\",\"Predicted\",\"Predicted\",\"Predicted\",\"Predicted\",\"Predicted\",\"Predicted\",\"Predicted\",\"Predicted\",\"Predicted\",\"Predicted\",\"Predicted\",\"Predicted\",\"Predicted\",\"Predicted\",\"Predicted\",\"Predicted\",\"Predicted\",\"Predicted\",\"Predicted\",\"Predicted\",\"Predicted\",\"Predicted\",\"Predicted\",\"Predicted\"],\"value\":{\"__ndarray__\":\"mBqhn6mrJ0BH6dK/JKknQLjpz36kKChAw7rx7sggKUBlGeJYF9cpQAgJUb6g5SpAiusYV1xsK0Ci0R3EzoQsQNzWFp6XUi1A7KF9rOB/LUCLcf4mFEotQMLfL2ZLri1AZJXSM72ELUAf2PFfIJgtQFfQtMTK2CxAGtgqweIgLEDzr+WV6x0qQFu3Qe23HipAF56Xio2xKUBybD1DON4pQFw//WfN3ypA21IHeT14K0B2/BcIAqwsQIKTbeAO3C1AL8VVZd8NL0A7j4r/O5IwQCF3EaYoxzBAqg65GW6sMEAZq83/q54wQM+CUN7HKTBAdmuZDMfzL0C9AtGTMmkvQF6ezhWlzC5AKZ1IMNUcL0BIiPIFLaQvQL4R3bOu6S9AEcmQY+t1MEA0EwznGpoxQHnr/NtlszJAdsHgmjtuNEA=\",\"dtype\":\"float64\",\"order\":\"little\",\"shape\":[40]}},\"selected\":{\"id\":\"2192\"},\"selection_policy\":{\"id\":\"2206\"}},\"id\":\"2191\",\"type\":\"ColumnDataSource\"},{\"attributes\":{\"click_policy\":\"mute\",\"items\":[{\"id\":\"2190\"},{\"id\":\"2221\"}],\"location\":[0,0],\"title\":\"Variable\"},\"id\":\"2189\",\"type\":\"Legend\"},{\"attributes\":{\"line_color\":\"#ff7e0e\",\"line_width\":2,\"x\":{\"field\":\"Created\"},\"y\":{\"field\":\"value\"}},\"id\":\"2194\",\"type\":\"Line\"},{\"attributes\":{\"children\":[{\"id\":\"2121\"}],\"css_classes\":[\"panel-widget-box\"],\"margin\":[5,5,5,5],\"name\":\"WidgetBox03162\"},\"id\":\"2120\",\"type\":\"Column\"},{\"attributes\":{\"data_source\":{\"id\":\"2161\"},\"glyph\":{\"id\":\"2164\"},\"hover_glyph\":null,\"muted_glyph\":{\"id\":\"2166\"},\"nonselection_glyph\":{\"id\":\"2165\"},\"selection_glyph\":null,\"view\":{\"id\":\"2168\"}},\"id\":\"2167\",\"type\":\"GlyphRenderer\"},{\"attributes\":{\"overlay\":{\"id\":\"2149\"}},\"id\":\"2147\",\"type\":\"BoxZoomTool\"},{\"attributes\":{},\"id\":\"2174\",\"type\":\"UnionRenderers\"},{\"attributes\":{\"line_alpha\":0.2,\"line_color\":\"#1f77b3\",\"line_width\":2,\"x\":{\"field\":\"Created\"},\"y\":{\"field\":\"value\"}},\"id\":\"2166\",\"type\":\"Line\"},{\"attributes\":{},\"id\":\"2192\",\"type\":\"Selection\"},{\"attributes\":{},\"id\":\"2187\",\"type\":\"YearsTicker\"},{\"attributes\":{\"source\":{\"id\":\"2191\"}},\"id\":\"2198\",\"type\":\"CDSView\"},{\"attributes\":{\"client_comm_id\":\"7a2e651ebb6e473fa2212fef6b9b0dac\",\"comm_id\":\"bde6474377a04121a2caa729e840134c\",\"plot_id\":\"2118\"},\"id\":\"2490\",\"type\":\"panel.models.comm_manager.CommManager\"},{\"attributes\":{\"end\":1611273600000.0,\"reset_end\":1611273600000.0,\"reset_start\":1606176000000.0,\"start\":1606176000000.0,\"tags\":[[[\"Created\",\"Created\",null]]]},\"id\":\"2123\",\"type\":\"Range1d\"},{\"attributes\":{\"base\":60,\"mantissas\":[1,2,5,10,15,20,30],\"max_interval\":1800000.0,\"min_interval\":1000.0,\"num_minor_ticks\":0},\"id\":\"2177\",\"type\":\"AdaptiveTicker\"},{\"attributes\":{},\"id\":\"2158\",\"type\":\"DatetimeTickFormatter\"},{\"attributes\":{\"margin\":[5,5,5,5],\"name\":\"VSpacer03167\",\"sizing_mode\":\"stretch_height\"},\"id\":\"2122\",\"type\":\"Spacer\"},{\"attributes\":{\"below\":[{\"id\":\"2136\"}],\"center\":[{\"id\":\"2139\"},{\"id\":\"2143\"}],\"left\":[{\"id\":\"2140\"}],\"margin\":[5,5,5,5],\"min_border_bottom\":10,\"min_border_left\":10,\"min_border_right\":10,\"min_border_top\":10,\"plot_height\":400,\"plot_width\":900,\"renderers\":[{\"id\":\"2167\"},{\"id\":\"2197\"}],\"right\":[{\"id\":\"2189\"}],\"sizing_mode\":\"fixed\",\"title\":{\"id\":\"2128\"},\"toolbar\":{\"id\":\"2150\"},\"x_range\":{\"id\":\"2123\"},\"x_scale\":{\"id\":\"2132\"},\"y_range\":{\"id\":\"2124\"},\"y_scale\":{\"id\":\"2134\"}},\"id\":\"2127\",\"subtype\":\"Figure\",\"type\":\"Plot\"},{\"attributes\":{\"active_drag\":\"auto\",\"active_inspect\":\"auto\",\"active_multi\":null,\"active_scroll\":\"auto\",\"active_tap\":\"auto\",\"tools\":[{\"id\":\"2125\"},{\"id\":\"2144\"},{\"id\":\"2145\"},{\"id\":\"2146\"},{\"id\":\"2147\"},{\"id\":\"2148\"}]},\"id\":\"2150\",\"type\":\"Toolbar\"},{\"attributes\":{\"days\":[1,2,3,4,5,6,7,8,9,10,11,12,13,14,15,16,17,18,19,20,21,22,23,24,25,26,27,28,29,30,31]},\"id\":\"2179\",\"type\":\"DaysTicker\"},{\"attributes\":{\"label\":{\"value\":\"Real\"},\"renderers\":[{\"id\":\"2167\"}]},\"id\":\"2190\",\"type\":\"LegendItem\"},{\"attributes\":{},\"id\":\"2144\",\"type\":\"SaveTool\"},{\"attributes\":{\"mantissas\":[1,2,5],\"max_interval\":500.0,\"num_minor_ticks\":0},\"id\":\"2176\",\"type\":\"AdaptiveTicker\"},{\"attributes\":{\"label\":{\"value\":\"Predicted\"},\"renderers\":[{\"id\":\"2197\"}]},\"id\":\"2221\",\"type\":\"LegendItem\"},{\"attributes\":{},\"id\":\"2145\",\"type\":\"PanTool\"},{\"attributes\":{\"base\":24,\"mantissas\":[1,2,4,6,8,12],\"max_interval\":43200000.0,\"min_interval\":3600000.0,\"num_minor_ticks\":0},\"id\":\"2178\",\"type\":\"AdaptiveTicker\"},{\"attributes\":{\"bottom_units\":\"screen\",\"fill_alpha\":0.5,\"fill_color\":\"lightgrey\",\"left_units\":\"screen\",\"level\":\"overlay\",\"line_alpha\":1.0,\"line_color\":\"black\",\"line_dash\":[4,4],\"line_width\":2,\"right_units\":\"screen\",\"top_units\":\"screen\"},\"id\":\"2149\",\"type\":\"BoxAnnotation\"},{\"attributes\":{},\"id\":\"2146\",\"type\":\"WheelZoomTool\"},{\"attributes\":{\"line_alpha\":0.1,\"line_color\":\"#ff7e0e\",\"line_width\":2,\"x\":{\"field\":\"Created\"},\"y\":{\"field\":\"value\"}},\"id\":\"2195\",\"type\":\"Line\"},{\"attributes\":{\"days\":[1,4,7,10,13,16,19,22,25,28]},\"id\":\"2180\",\"type\":\"DaysTicker\"},{\"attributes\":{\"data_source\":{\"id\":\"2191\"},\"glyph\":{\"id\":\"2194\"},\"hover_glyph\":null,\"muted_glyph\":{\"id\":\"2196\"},\"nonselection_glyph\":{\"id\":\"2195\"},\"selection_glyph\":null,\"view\":{\"id\":\"2198\"}},\"id\":\"2197\",\"type\":\"GlyphRenderer\"},{\"attributes\":{},\"id\":\"2160\",\"type\":\"BasicTickFormatter\"},{\"attributes\":{},\"id\":\"2134\",\"type\":\"LinearScale\"},{\"attributes\":{\"source\":{\"id\":\"2161\"}},\"id\":\"2168\",\"type\":\"CDSView\"},{\"attributes\":{\"line_alpha\":0.2,\"line_color\":\"#ff7e0e\",\"line_width\":2,\"x\":{\"field\":\"Created\"},\"y\":{\"field\":\"value\"}},\"id\":\"2196\",\"type\":\"Line\"},{\"attributes\":{\"line_color\":\"#1f77b3\",\"line_width\":2,\"x\":{\"field\":\"Created\"},\"y\":{\"field\":\"value\"}},\"id\":\"2164\",\"type\":\"Line\"},{\"attributes\":{\"months\":[0,1,2,3,4,5,6,7,8,9,10,11]},\"id\":\"2183\",\"type\":\"MonthsTicker\"},{\"attributes\":{\"text\":\"Stock: GME\",\"text_color\":{\"value\":\"black\"},\"text_font_size\":{\"value\":\"12pt\"}},\"id\":\"2128\",\"type\":\"Title\"},{\"attributes\":{\"days\":[1,8,15,22]},\"id\":\"2181\",\"type\":\"DaysTicker\"},{\"attributes\":{\"days\":[1,15]},\"id\":\"2182\",\"type\":\"DaysTicker\"},{\"attributes\":{\"axis_label\":\"Created\",\"bounds\":\"auto\",\"formatter\":{\"id\":\"2158\"},\"major_label_orientation\":\"horizontal\",\"ticker\":{\"id\":\"2137\"}},\"id\":\"2136\",\"type\":\"DatetimeAxis\"},{\"attributes\":{\"months\":[0,2,4,6,8,10]},\"id\":\"2184\",\"type\":\"MonthsTicker\"},{\"attributes\":{},\"id\":\"2132\",\"type\":\"LinearScale\"},{\"attributes\":{\"margin\":[20,20,20,20],\"min_width\":250,\"options\":[\"GME\",\"NIO\",\"PLTR\",\"PLUG\",\"TSLA\"],\"title\":\"Stock\",\"value\":\"GME\",\"width\":250},\"id\":\"2121\",\"type\":\"Select\"},{\"attributes\":{\"data\":{\"Created\":{\"__ndarray__\":\"AACAzHhfd0IAAEAyy193QgAAwP1vYHdCAAAAL2dhd0IAAMCUuWF3QgAAgPoLYndCAABAYF5id0IAAADGsGJ3QgAAQPenY3dCAAAAXfpjd0IAAMDCTGR3QgAAgCifZHdCAABAjvFkd0IAAIC/6GV3QgAAQCU7ZndCAAAAi41md0IAAMDw32Z3QgAAgFYyZ3dCAADAhylod0IAAIDte2h3QgAAQFPOaHdCAAAAuSBpd0IAAABQamp3QgAAwLW8andCAACAGw9rd0IAAECBYWt3QgAAQBirbHdCAAAAfv1sd0IAAMDjT213QgAAgEmibXdCAABAr/Rtd0IAAIDg6253QgAAQEY+b3dCAAAArJBvd0IAAMAR4293QgAAgHc1cHdCAACADn9xd0IAAEB00XF3QgAAANojcndCAADAP3Zyd0I=\",\"dtype\":\"float64\",\"order\":\"little\",\"shape\":[40]},\"Variable\":[\"Real\",\"Real\",\"Real\",\"Real\",\"Real\",\"Real\",\"Real\",\"Real\",\"Real\",\"Real\",\"Real\",\"Real\",\"Real\",\"Real\",\"Real\",\"Real\",\"Real\",\"Real\",\"Real\",\"Real\",\"Real\",\"Real\",\"Real\",\"Real\",\"Real\",\"Real\",\"Real\",\"Real\",\"Real\",\"Real\",\"Real\",\"Real\",\"Real\",\"Real\",\"Real\",\"Real\",\"Real\",\"Real\",\"Real\",\"Real\"],\"value\":{\"__ndarray__\":\"zczMzMzMK0Bcj8L1KFwrQAAAAAAAgC1AzczMzMwMMEA2qz5XW5EwQCCF61G4ni9A16NwPQqXMEAfhetRuB4wQClcj8L16DBAUrgehetRMEDsUbgeheswQACze/KwUCtAPQrXo3A9LEAfhetRuJ4qQHE9CtejcClAPQrXo3C9K0AzMzMzM7MrQClcj8L1qC1Aw/UoXI9CL0AnwoanVwovQK5H4XoUbjNAFK5H4XqUNEAzMzMzMzM0QHsUrkfh+jRAH4XrUbheM0DD9Shcj0IzQI/C9ShczzJAPQrXo3A9MUBcj8L1KFwxQKRwPQrXYzJAH4XrUbgeMkCqglFJnbAxQK5H4XoU7jNAcT0K16PwM0BxPQrXo3A/QL1SliGO9UNAH4XrUbi+QUDhehSuR8FDQI/C9Shcj0NAxPUoXI+CRUA=\",\"dtype\":\"float64\",\"order\":\"little\",\"shape\":[40]}},\"selected\":{\"id\":\"2162\"},\"selection_policy\":{\"id\":\"2174\"}},\"id\":\"2161\",\"type\":\"ColumnDataSource\"},{\"attributes\":{\"axis\":{\"id\":\"2136\"},\"grid_line_color\":null,\"ticker\":null},\"id\":\"2139\",\"type\":\"Grid\"},{\"attributes\":{\"line_alpha\":0.1,\"line_color\":\"#1f77b3\",\"line_width\":2,\"x\":{\"field\":\"Created\"},\"y\":{\"field\":\"value\"}},\"id\":\"2165\",\"type\":\"Line\"},{\"attributes\":{},\"id\":\"2162\",\"type\":\"Selection\"},{\"attributes\":{\"num_minor_ticks\":5,\"tickers\":[{\"id\":\"2176\"},{\"id\":\"2177\"},{\"id\":\"2178\"},{\"id\":\"2179\"},{\"id\":\"2180\"},{\"id\":\"2181\"},{\"id\":\"2182\"},{\"id\":\"2183\"},{\"id\":\"2184\"},{\"id\":\"2185\"},{\"id\":\"2186\"},{\"id\":\"2187\"}]},\"id\":\"2137\",\"type\":\"DatetimeTicker\"},{\"attributes\":{\"callback\":null,\"formatters\":{\"@{Created}\":\"datetime\"},\"renderers\":[{\"id\":\"2167\"},{\"id\":\"2197\"}],\"tags\":[\"hv_created\"],\"tooltips\":[[\"Variable\",\"@{Variable}\"],[\"Created\",\"@{Created}\"],[\"value\",\"@{value}\"]]},\"id\":\"2125\",\"type\":\"HoverTool\"}],\"root_ids\":[\"2118\",\"2490\"]},\"title\":\"Bokeh Application\",\"version\":\"2.2.3\"}};\n",
       "    var render_items = [{\"docid\":\"a992d029-3627-4ddf-95d6-7b276b9f2f09\",\"root_ids\":[\"2118\"],\"roots\":{\"2118\":\"3a761bc7-56fd-4462-b4d2-a89c6c58bd6c\"}}];\n",
       "    root.Bokeh.embed.embed_items_notebook(docs_json, render_items);\n",
       "  }\n",
       "  if (root.Bokeh !== undefined && root.Bokeh.Panel !== undefined) {\n",
       "    embed_document(root);\n",
       "  } else {\n",
       "    var attempts = 0;\n",
       "    var timer = setInterval(function(root) {\n",
       "      if (root.Bokeh !== undefined && root.Bokeh.Panel !== undefined) {\n",
       "        clearInterval(timer);\n",
       "        embed_document(root);\n",
       "      } else if (document.readyState == \"complete\") {\n",
       "        attempts++;\n",
       "        if (attempts > 100) {\n",
       "          clearInterval(timer);\n",
       "          console.log(\"Bokeh: ERROR: Unable to run BokehJS code because BokehJS library is missing\");\n",
       "        }\n",
       "      }\n",
       "    }, 10, root)\n",
       "  }\n",
       "})(window);</script>"
      ],
      "text/plain": [
       "Row\n",
       "    [0] Column\n",
       "        [0] WidgetBox\n",
       "            [0] Select(margin=(20, 20, 20, 20), name='Stock', options=['GME', 'NIO', ...], value='GME', width=250)\n",
       "        [1] VSpacer()\n",
       "    [1] HoloViews(DynamicMap, widget_location='left_top')"
      ]
     },
     "execution_count": 17,
     "metadata": {
      "application/vnd.holoviews_exec.v0+json": {
       "id": "2118"
      }
     },
     "output_type": "execute_result"
    }
   ],
   "source": [
    "#Plotting model predictions vs actual (1-feature)\n",
    "df_one.hvplot.line(groupby='Stock', widget_location='left_top', width = 900, height = 400)"
   ]
  },
  {
   "cell_type": "code",
   "execution_count": 22,
   "metadata": {},
   "outputs": [
    {
     "data": {
      "application/vnd.holoviews_exec.v0+json": "",
      "text/html": [
       "<div id='3084'>\n",
       "\n",
       "\n",
       "\n",
       "\n",
       "\n",
       "  <div class=\"bk-root\" id=\"d5dc4f5f-082e-429f-8821-ea3209161adf\" data-root-id=\"3084\"></div>\n",
       "</div>\n",
       "<script type=\"application/javascript\">(function(root) {\n",
       "  function embed_document(root) {\n",
       "    var docs_json = {\"4aa44266-5533-4f95-9001-eeafeeec3ae8\":{\"roots\":{\"references\":[{\"attributes\":{\"children\":[{\"id\":\"3085\"},{\"id\":\"3103\"},{\"id\":\"3109\"}],\"margin\":[0,0,0,0],\"name\":\"Row04465\",\"tags\":[\"embedded\"]},\"id\":\"3084\",\"type\":\"Row\"},{\"attributes\":{\"columns\":[{\"id\":\"3090\"},{\"id\":\"3095\"},{\"id\":\"3100\"}],\"height\":300,\"reorderable\":false,\"source\":{\"id\":\"3086\"},\"view\":{\"id\":\"3104\"},\"width\":700},\"id\":\"3103\",\"type\":\"DataTable\"},{\"attributes\":{\"source\":{\"id\":\"3086\"}},\"id\":\"3104\",\"type\":\"CDSView\"},{\"attributes\":{},\"id\":\"3087\",\"type\":\"Selection\"},{\"attributes\":{},\"id\":\"3089\",\"type\":\"StringEditor\"},{\"attributes\":{},\"id\":\"3099\",\"type\":\"NumberEditor\"},{\"attributes\":{\"editor\":{\"id\":\"3089\"},\"field\":\"Symbol\",\"formatter\":{\"id\":\"3088\"},\"title\":\"Symbol\"},\"id\":\"3090\",\"type\":\"TableColumn\"},{\"attributes\":{\"margin\":[5,5,5,5],\"name\":\"HSpacer04469\",\"sizing_mode\":\"stretch_width\"},\"id\":\"3085\",\"type\":\"Spacer\"},{\"attributes\":{},\"id\":\"3088\",\"type\":\"StringFormatter\"},{\"attributes\":{\"format\":\"0,0.0[00000]\"},\"id\":\"3093\",\"type\":\"NumberFormatter\"},{\"attributes\":{\"editor\":{\"id\":\"3094\"},\"field\":\"MSE_left_parenthesis_Three_hyphen_minus_Feature_Model_right_parenthesis\",\"formatter\":{\"id\":\"3093\"},\"title\":\"MSE (Three-Feature Model)\"},\"id\":\"3095\",\"type\":\"TableColumn\"},{\"attributes\":{},\"id\":\"3105\",\"type\":\"UnionRenderers\"},{\"attributes\":{\"data\":{\"MSE_left_parenthesis_One_hyphen_minus_Feature_Model_right_parenthesis\":{\"__ndarray__\":\"AAAAIL9npz8AAACAIfaBPwAAAKDGTIc/AQAAgPypjT////8f3cVYPw==\",\"dtype\":\"float64\",\"order\":\"little\",\"shape\":[5]},\"MSE_left_parenthesis_Three_hyphen_minus_Feature_Model_right_parenthesis\":{\"__ndarray__\":\"AAAAoIii4z8AAACAinezPwAAAODjVIA/AAAAgFEo7T8AAADAnIFqPw==\",\"dtype\":\"float64\",\"order\":\"little\",\"shape\":[5]},\"Symbol\":[\"GME\",\"NIO\",\"PLTR\",\"PLUG\",\"TSLA\"]},\"selected\":{\"id\":\"3087\"},\"selection_policy\":{\"id\":\"3105\"}},\"id\":\"3086\",\"type\":\"ColumnDataSource\"},{\"attributes\":{\"margin\":[5,5,5,5],\"name\":\"HSpacer04470\",\"sizing_mode\":\"stretch_width\"},\"id\":\"3109\",\"type\":\"Spacer\"},{\"attributes\":{\"editor\":{\"id\":\"3099\"},\"field\":\"MSE_left_parenthesis_One_hyphen_minus_Feature_Model_right_parenthesis\",\"formatter\":{\"id\":\"3098\"},\"title\":\"MSE (One-Feature Model)\"},\"id\":\"3100\",\"type\":\"TableColumn\"},{\"attributes\":{},\"id\":\"3094\",\"type\":\"NumberEditor\"},{\"attributes\":{\"format\":\"0,0.0[00000]\"},\"id\":\"3098\",\"type\":\"NumberFormatter\"}],\"root_ids\":[\"3084\"]},\"title\":\"Bokeh Application\",\"version\":\"2.2.3\"}};\n",
       "    var render_items = [{\"docid\":\"4aa44266-5533-4f95-9001-eeafeeec3ae8\",\"root_ids\":[\"3084\"],\"roots\":{\"3084\":\"d5dc4f5f-082e-429f-8821-ea3209161adf\"}}];\n",
       "    root.Bokeh.embed.embed_items_notebook(docs_json, render_items);\n",
       "  }\n",
       "  if (root.Bokeh !== undefined && root.Bokeh.Panel !== undefined) {\n",
       "    embed_document(root);\n",
       "  } else {\n",
       "    var attempts = 0;\n",
       "    var timer = setInterval(function(root) {\n",
       "      if (root.Bokeh !== undefined && root.Bokeh.Panel !== undefined) {\n",
       "        clearInterval(timer);\n",
       "        embed_document(root);\n",
       "      } else if (document.readyState == \"complete\") {\n",
       "        attempts++;\n",
       "        if (attempts > 100) {\n",
       "          clearInterval(timer);\n",
       "          console.log(\"Bokeh: ERROR: Unable to run BokehJS code because BokehJS library is missing\");\n",
       "        }\n",
       "      }\n",
       "    }, 10, root)\n",
       "  }\n",
       "})(window);</script>"
      ],
      "text/plain": [
       ":Table   [Symbol,MSE (Three-Feature Model),MSE (One-Feature Model)]"
      ]
     },
     "execution_count": 22,
     "metadata": {
      "application/vnd.holoviews_exec.v0+json": {
       "id": "3084"
      }
     },
     "output_type": "execute_result"
    }
   ],
   "source": [
    "#PLotting combined MSEs from both models\n",
    "mse_diff.hvplot.table(columns=['Symbol', 'MSE (Three-Feature Model)', 'MSE (One-Feature Model)'], sortable=True, selectable=True)"
   ]
  },
  {
   "cell_type": "code",
   "execution_count": 19,
   "metadata": {},
   "outputs": [
    {
     "data": {
      "application/vnd.holoviews_exec.v0+json": "",
      "text/html": [
       "<div id='2601'>\n",
       "\n",
       "\n",
       "\n",
       "\n",
       "\n",
       "  <div class=\"bk-root\" id=\"baae5065-d0bb-40b9-871f-b1f16e938550\" data-root-id=\"2601\"></div>\n",
       "</div>\n",
       "<script type=\"application/javascript\">(function(root) {\n",
       "  function embed_document(root) {\n",
       "    var docs_json = {\"e9535eb3-1eba-489c-88e7-c534cf1c4f8b\":{\"roots\":{\"references\":[{\"attributes\":{\"days\":[1,15]},\"id\":\"2665\",\"type\":\"DaysTicker\"},{\"attributes\":{\"overlay\":{\"id\":\"2632\"}},\"id\":\"2630\",\"type\":\"BoxZoomTool\"},{\"attributes\":{},\"id\":\"2657\",\"type\":\"UnionRenderers\"},{\"attributes\":{},\"id\":\"2643\",\"type\":\"BasicTickFormatter\"},{\"attributes\":{},\"id\":\"2617\",\"type\":\"LinearScale\"},{\"attributes\":{\"line_alpha\":0.1,\"line_color\":\"#1f77b3\",\"line_width\":2,\"x\":{\"field\":\"Created\"},\"y\":{\"field\":\"value\"}},\"id\":\"2648\",\"type\":\"Line\"},{\"attributes\":{\"client_comm_id\":\"592f42fa259d473f82fc33f45541e432\",\"comm_id\":\"24687b362e3f4e9d8f4d168fa7e3e005\",\"plot_id\":\"2601\"},\"id\":\"2973\",\"type\":\"panel.models.comm_manager.CommManager\"},{\"attributes\":{},\"id\":\"2641\",\"type\":\"DatetimeTickFormatter\"},{\"attributes\":{\"months\":[0,2,4,6,8,10]},\"id\":\"2667\",\"type\":\"MonthsTicker\"},{\"attributes\":{\"text\":\"Stock: PLTR\",\"text_color\":{\"value\":\"black\"},\"text_font_size\":{\"value\":\"12pt\"}},\"id\":\"2611\",\"type\":\"Title\"},{\"attributes\":{\"months\":[0,4,8]},\"id\":\"2668\",\"type\":\"MonthsTicker\"},{\"attributes\":{\"children\":[{\"id\":\"2602\"},{\"id\":\"2610\"}],\"margin\":[0,0,0,0],\"name\":\"Row03797\"},\"id\":\"2601\",\"type\":\"Row\"},{\"attributes\":{\"axis_label\":\"Created\",\"bounds\":\"auto\",\"formatter\":{\"id\":\"2641\"},\"major_label_orientation\":\"horizontal\",\"ticker\":{\"id\":\"2620\"}},\"id\":\"2619\",\"type\":\"DatetimeAxis\"},{\"attributes\":{\"days\":[1,8,15,22]},\"id\":\"2664\",\"type\":\"DaysTicker\"},{\"attributes\":{\"bottom_units\":\"screen\",\"fill_alpha\":0.5,\"fill_color\":\"lightgrey\",\"left_units\":\"screen\",\"level\":\"overlay\",\"line_alpha\":1.0,\"line_color\":\"black\",\"line_dash\":[4,4],\"line_width\":2,\"right_units\":\"screen\",\"top_units\":\"screen\"},\"id\":\"2632\",\"type\":\"BoxAnnotation\"},{\"attributes\":{\"end\":2.8649490585327153,\"reset_end\":2.8649490585327153,\"reset_start\":-5.238227180480958,\"start\":-5.238227180480958,\"tags\":[[[\"value\",\"value\",null]]]},\"id\":\"2607\",\"type\":\"Range1d\"},{\"attributes\":{},\"id\":\"2615\",\"type\":\"LinearScale\"},{\"attributes\":{\"line_alpha\":0.1,\"line_color\":\"#ff7e0e\",\"line_width\":2,\"x\":{\"field\":\"Created\"},\"y\":{\"field\":\"value\"}},\"id\":\"2678\",\"type\":\"Line\"},{\"attributes\":{},\"id\":\"2675\",\"type\":\"Selection\"},{\"attributes\":{\"months\":[0,6]},\"id\":\"2669\",\"type\":\"MonthsTicker\"},{\"attributes\":{\"num_minor_ticks\":5,\"tickers\":[{\"id\":\"2659\"},{\"id\":\"2660\"},{\"id\":\"2661\"},{\"id\":\"2662\"},{\"id\":\"2663\"},{\"id\":\"2664\"},{\"id\":\"2665\"},{\"id\":\"2666\"},{\"id\":\"2667\"},{\"id\":\"2668\"},{\"id\":\"2669\"},{\"id\":\"2670\"}]},\"id\":\"2620\",\"type\":\"DatetimeTicker\"},{\"attributes\":{\"label\":{\"value\":\"One Difference\"},\"renderers\":[{\"id\":\"2680\"}]},\"id\":\"2704\",\"type\":\"LegendItem\"},{\"attributes\":{\"axis\":{\"id\":\"2623\"},\"dimension\":1,\"grid_line_color\":null,\"ticker\":null},\"id\":\"2626\",\"type\":\"Grid\"},{\"attributes\":{},\"id\":\"2645\",\"type\":\"Selection\"},{\"attributes\":{\"children\":[{\"id\":\"2603\"},{\"id\":\"2605\"}],\"margin\":[0,0,0,0],\"name\":\"Column03804\"},\"id\":\"2602\",\"type\":\"Column\"},{\"attributes\":{\"click_policy\":\"mute\",\"items\":[{\"id\":\"2673\"},{\"id\":\"2704\"}],\"location\":[0,0],\"title\":\"Variable\"},\"id\":\"2672\",\"type\":\"Legend\"},{\"attributes\":{\"axis\":{\"id\":\"2619\"},\"grid_line_color\":null,\"ticker\":null},\"id\":\"2622\",\"type\":\"Grid\"},{\"attributes\":{},\"id\":\"2631\",\"type\":\"ResetTool\"},{\"attributes\":{\"data_source\":{\"id\":\"2644\"},\"glyph\":{\"id\":\"2647\"},\"hover_glyph\":null,\"muted_glyph\":{\"id\":\"2649\"},\"nonselection_glyph\":{\"id\":\"2648\"},\"selection_glyph\":null,\"view\":{\"id\":\"2651\"}},\"id\":\"2650\",\"type\":\"GlyphRenderer\"},{\"attributes\":{},\"id\":\"2689\",\"type\":\"UnionRenderers\"},{\"attributes\":{\"below\":[{\"id\":\"2619\"}],\"center\":[{\"id\":\"2622\"},{\"id\":\"2626\"}],\"left\":[{\"id\":\"2623\"}],\"margin\":[5,5,5,5],\"min_border_bottom\":10,\"min_border_left\":10,\"min_border_right\":10,\"min_border_top\":10,\"plot_height\":400,\"plot_width\":900,\"renderers\":[{\"id\":\"2650\"},{\"id\":\"2680\"}],\"right\":[{\"id\":\"2672\"}],\"sizing_mode\":\"fixed\",\"title\":{\"id\":\"2611\"},\"toolbar\":{\"id\":\"2633\"},\"x_range\":{\"id\":\"2606\"},\"x_scale\":{\"id\":\"2615\"},\"y_range\":{\"id\":\"2607\"},\"y_scale\":{\"id\":\"2617\"}},\"id\":\"2610\",\"subtype\":\"Figure\",\"type\":\"Plot\"},{\"attributes\":{\"line_alpha\":0.2,\"line_color\":\"#1f77b3\",\"line_width\":2,\"x\":{\"field\":\"Created\"},\"y\":{\"field\":\"value\"}},\"id\":\"2649\",\"type\":\"Line\"},{\"attributes\":{},\"id\":\"2670\",\"type\":\"YearsTicker\"},{\"attributes\":{\"children\":[{\"id\":\"2604\"}],\"css_classes\":[\"panel-widget-box\"],\"margin\":[5,5,5,5],\"name\":\"WidgetBox03798\"},\"id\":\"2603\",\"type\":\"Column\"},{\"attributes\":{\"active_drag\":\"auto\",\"active_inspect\":\"auto\",\"active_multi\":null,\"active_scroll\":\"auto\",\"active_tap\":\"auto\",\"tools\":[{\"id\":\"2608\"},{\"id\":\"2627\"},{\"id\":\"2628\"},{\"id\":\"2629\"},{\"id\":\"2630\"},{\"id\":\"2631\"}]},\"id\":\"2633\",\"type\":\"Toolbar\"},{\"attributes\":{},\"id\":\"2624\",\"type\":\"BasicTicker\"},{\"attributes\":{\"axis_label\":\"\",\"bounds\":\"auto\",\"formatter\":{\"id\":\"2643\"},\"major_label_orientation\":\"horizontal\",\"ticker\":{\"id\":\"2624\"}},\"id\":\"2623\",\"type\":\"LinearAxis\"},{\"attributes\":{\"callback\":null,\"formatters\":{\"@{Created}\":\"datetime\"},\"renderers\":[{\"id\":\"2650\"},{\"id\":\"2680\"}],\"tags\":[\"hv_created\"],\"tooltips\":[[\"Variable\",\"@{Variable}\"],[\"Created\",\"@{Created}\"],[\"value\",\"@{value}\"]]},\"id\":\"2608\",\"type\":\"HoverTool\"},{\"attributes\":{\"base\":60,\"mantissas\":[1,2,5,10,15,20,30],\"max_interval\":1800000.0,\"min_interval\":1000.0,\"num_minor_ticks\":0},\"id\":\"2660\",\"type\":\"AdaptiveTicker\"},{\"attributes\":{\"end\":1611273600000.0,\"reset_end\":1611273600000.0,\"reset_start\":1608595200000.0,\"start\":1608595200000.0,\"tags\":[[[\"Created\",\"Created\",null]]]},\"id\":\"2606\",\"type\":\"Range1d\"},{\"attributes\":{\"margin\":[20,20,20,20],\"min_width\":250,\"options\":[\"PLTR\",\"GME\",\"NIO\",\"PLUG\",\"TSLA\"],\"title\":\"Stock\",\"value\":\"PLTR\",\"width\":250},\"id\":\"2604\",\"type\":\"Select\"},{\"attributes\":{\"margin\":[5,5,5,5],\"name\":\"VSpacer03803\",\"sizing_mode\":\"stretch_height\"},\"id\":\"2605\",\"type\":\"Spacer\"},{\"attributes\":{\"days\":[1,2,3,4,5,6,7,8,9,10,11,12,13,14,15,16,17,18,19,20,21,22,23,24,25,26,27,28,29,30,31]},\"id\":\"2662\",\"type\":\"DaysTicker\"},{\"attributes\":{\"data\":{\"Created\":{\"__ndarray__\":\"AACA7Xtod0IAAEBTzmh3QgAAALkgaXdCAAAAUGpqd0IAAMC1vGp3QgAAgBsPa3dCAABAgWFrd0IAAEAYq2x3QgAAAH79bHdCAADA409td0IAAIBJom13QgAAQK/0bXdCAACA4Otud0IAAEBGPm93QgAAAKyQb3dCAADAEeNvd0IAAIB3NXB3QgAAgA5/cXdCAABAdNFxd0IAAADaI3J3QgAAwD92cndC\",\"dtype\":\"float64\",\"order\":\"little\",\"shape\":[21]},\"Variable\":[\"Three Difference\",\"Three Difference\",\"Three Difference\",\"Three Difference\",\"Three Difference\",\"Three Difference\",\"Three Difference\",\"Three Difference\",\"Three Difference\",\"Three Difference\",\"Three Difference\",\"Three Difference\",\"Three Difference\",\"Three Difference\",\"Three Difference\",\"Three Difference\",\"Three Difference\",\"Three Difference\",\"Three Difference\",\"Three Difference\",\"Three Difference\"],\"value\":{\"__ndarray__\":\"2KNwPXmEAUCfcD0K9TT4P4jrUbiHCgBAwh6F67nA1j/wUbgeA/j+v8/MzMxPoAzAcD0K14GJBMCxR+F6Y44PwAcbnl6XhQjAIIXrUTDz5b9w61G4XrHxvwAAAACAKMc/YGZmZopV4T9gj8L1BkD0P+B6FK6TJfQ/4NajcLXC5D/B9ShcF9jev8EeheupaN+/4KNwPR554T8BVLgehRKYP/96FK6XRs8/\",\"dtype\":\"float64\",\"order\":\"little\",\"shape\":[21]}},\"selected\":{\"id\":\"2645\"},\"selection_policy\":{\"id\":\"2657\"}},\"id\":\"2644\",\"type\":\"ColumnDataSource\"},{\"attributes\":{\"data\":{\"Created\":{\"__ndarray__\":\"AACA7Xtod0IAAEBTzmh3QgAAALkgaXdCAAAAUGpqd0IAAMC1vGp3QgAAgBsPa3dCAABAgWFrd0IAAEAYq2x3QgAAAH79bHdCAADA409td0IAAIBJom13QgAAQK/0bXdCAACA4Otud0IAAEBGPm93QgAAAKyQb3dCAADAEeNvd0IAAIB3NXB3QgAAgA5/cXdCAABAdNFxd0IAAADaI3J3QgAAwD92cndC\",\"dtype\":\"float64\",\"order\":\"little\",\"shape\":[21]},\"Variable\":[\"One Difference\",\"One Difference\",\"One Difference\",\"One Difference\",\"One Difference\",\"One Difference\",\"One Difference\",\"One Difference\",\"One Difference\",\"One Difference\",\"One Difference\",\"One Difference\",\"One Difference\",\"One Difference\",\"One Difference\",\"One Difference\",\"One Difference\",\"One Difference\",\"One Difference\",\"One Difference\",\"One Difference\"],\"value\":{\"__ndarray__\":\"YI/C9ai06T9B4XoUchHiPxDXo3A3ufI/AIXrUdiqtr/4KFyPnbIBwNDMzMzhlA3AcD0K1zU2CcDYo3A9eUASwIQNT6/BuRDASeF6FCqpAcC59Shc8YEHwAAAAAAiafW/oJmZmQFj57//CdejsHW5vwApXI+yEMu/IClcj6Ik7b9wPQrXRbH/v7BH4Xooh/a/IFyPwj1k479gPQrXd7/qv6BwPQohK/C/\",\"dtype\":\"float64\",\"order\":\"little\",\"shape\":[21]}},\"selected\":{\"id\":\"2675\"},\"selection_policy\":{\"id\":\"2689\"}},\"id\":\"2674\",\"type\":\"ColumnDataSource\"},{\"attributes\":{\"label\":{\"value\":\"Three Difference\"},\"renderers\":[{\"id\":\"2650\"}]},\"id\":\"2673\",\"type\":\"LegendItem\"},{\"attributes\":{\"mantissas\":[1,2,5],\"max_interval\":500.0,\"num_minor_ticks\":0},\"id\":\"2659\",\"type\":\"AdaptiveTicker\"},{\"attributes\":{\"base\":24,\"mantissas\":[1,2,4,6,8,12],\"max_interval\":43200000.0,\"min_interval\":3600000.0,\"num_minor_ticks\":0},\"id\":\"2661\",\"type\":\"AdaptiveTicker\"},{\"attributes\":{\"line_alpha\":0.2,\"line_color\":\"#ff7e0e\",\"line_width\":2,\"x\":{\"field\":\"Created\"},\"y\":{\"field\":\"value\"}},\"id\":\"2679\",\"type\":\"Line\"},{\"attributes\":{\"source\":{\"id\":\"2674\"}},\"id\":\"2681\",\"type\":\"CDSView\"},{\"attributes\":{\"days\":[1,4,7,10,13,16,19,22,25,28]},\"id\":\"2663\",\"type\":\"DaysTicker\"},{\"attributes\":{\"data_source\":{\"id\":\"2674\"},\"glyph\":{\"id\":\"2677\"},\"hover_glyph\":null,\"muted_glyph\":{\"id\":\"2679\"},\"nonselection_glyph\":{\"id\":\"2678\"},\"selection_glyph\":null,\"view\":{\"id\":\"2681\"}},\"id\":\"2680\",\"type\":\"GlyphRenderer\"},{\"attributes\":{\"source\":{\"id\":\"2644\"}},\"id\":\"2651\",\"type\":\"CDSView\"},{\"attributes\":{},\"id\":\"2627\",\"type\":\"SaveTool\"},{\"attributes\":{\"line_color\":\"#1f77b3\",\"line_width\":2,\"x\":{\"field\":\"Created\"},\"y\":{\"field\":\"value\"}},\"id\":\"2647\",\"type\":\"Line\"},{\"attributes\":{},\"id\":\"2628\",\"type\":\"PanTool\"},{\"attributes\":{\"months\":[0,1,2,3,4,5,6,7,8,9,10,11]},\"id\":\"2666\",\"type\":\"MonthsTicker\"},{\"attributes\":{\"line_color\":\"#ff7e0e\",\"line_width\":2,\"x\":{\"field\":\"Created\"},\"y\":{\"field\":\"value\"}},\"id\":\"2677\",\"type\":\"Line\"},{\"attributes\":{},\"id\":\"2629\",\"type\":\"WheelZoomTool\"}],\"root_ids\":[\"2601\",\"2973\"]},\"title\":\"Bokeh Application\",\"version\":\"2.2.3\"}};\n",
       "    var render_items = [{\"docid\":\"e9535eb3-1eba-489c-88e7-c534cf1c4f8b\",\"root_ids\":[\"2601\"],\"roots\":{\"2601\":\"baae5065-d0bb-40b9-871f-b1f16e938550\"}}];\n",
       "    root.Bokeh.embed.embed_items_notebook(docs_json, render_items);\n",
       "  }\n",
       "  if (root.Bokeh !== undefined && root.Bokeh.Panel !== undefined) {\n",
       "    embed_document(root);\n",
       "  } else {\n",
       "    var attempts = 0;\n",
       "    var timer = setInterval(function(root) {\n",
       "      if (root.Bokeh !== undefined && root.Bokeh.Panel !== undefined) {\n",
       "        clearInterval(timer);\n",
       "        embed_document(root);\n",
       "      } else if (document.readyState == \"complete\") {\n",
       "        attempts++;\n",
       "        if (attempts > 100) {\n",
       "          clearInterval(timer);\n",
       "          console.log(\"Bokeh: ERROR: Unable to run BokehJS code because BokehJS library is missing\");\n",
       "        }\n",
       "      }\n",
       "    }, 10, root)\n",
       "  }\n",
       "})(window);</script>"
      ],
      "text/plain": [
       "Row\n",
       "    [0] Column\n",
       "        [0] WidgetBox\n",
       "            [0] Select(margin=(20, 20, 20, 20), name='Stock', options=['PLTR', 'GME', ...], value='PLTR', width=250)\n",
       "        [1] VSpacer()\n",
       "    [1] HoloViews(DynamicMap, widget_location='left_top')"
      ]
     },
     "execution_count": 19,
     "metadata": {
      "application/vnd.holoviews_exec.v0+json": {
       "id": "2601"
      }
     },
     "output_type": "execute_result"
    }
   ],
   "source": [
    "#Plotting the master model difference \n",
    "difference.hvplot.line(groupby='Stock', widget_location='left_top', width = 900, height = 400)"
   ]
  }
 ],
 "metadata": {
  "kernelspec": {
   "display_name": "Python [conda env:tensorflow]",
   "language": "python",
   "name": "conda-env-tensorflow-py"
  },
  "language_info": {
   "codemirror_mode": {
    "name": "ipython",
    "version": 3
   },
   "file_extension": ".py",
   "mimetype": "text/x-python",
   "name": "python",
   "nbconvert_exporter": "python",
   "pygments_lexer": "ipython3",
   "version": "3.7.9"
  }
 },
 "nbformat": 4,
 "nbformat_minor": 4
}
