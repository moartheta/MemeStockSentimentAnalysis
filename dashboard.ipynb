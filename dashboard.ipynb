{
 "cells": [
  {
   "cell_type": "code",
   "execution_count": 5,
   "metadata": {},
   "outputs": [],
   "source": [
    "import pandas\n",
    "import numpy as np\n",
    "import pandas as pd\n",
    "\n",
    "import model_functions\n",
    "\n",
    "import panel as pn\n",
    "\n",
    "pn.extension('plotly')\n",
    "import matplotlib.pyplot as plt\n",
    "import holoviews as hv\n",
    "from holoviews import opts\n",
    "import plotly.express as px\n",
    "import plotly.graph_objects as go\n",
    "from panel.interact import interact\n",
    "import hvplot.pandas\n",
    "from plotly.subplots import make_subplots"
   ]
  },
  {
   "cell_type": "code",
   "execution_count": 6,
   "metadata": {},
   "outputs": [],
   "source": [
    "# Import the CSVs\n",
    "gme_df = pd.read_csv('Data/MasterSentiment/master_sentiment_gme.csv', index_col=\"Created\", infer_datetime_format=True, parse_dates=True)\n",
    "nio_df = pd.read_csv('Data/MasterSentiment/master_sentiment_nio.csv', index_col=\"Created\", infer_datetime_format=True, parse_dates=True)\n",
    "pltr_df = pd.read_csv('Data/MasterSentiment/master_sentiment_pltr.csv', index_col=\"Created\", infer_datetime_format=True, parse_dates=True)\n",
    "plug_df = pd.read_csv('Data/MasterSentiment/master_sentiment_plug.csv', index_col=\"Created\", infer_datetime_format=True, parse_dates=True)\n",
    "tsla_df = pd.read_csv('Data/MasterSentiment/master_sentiment_tsla.csv', index_col=\"Created\", infer_datetime_format=True, parse_dates=True)\n",
    "gme_pvs = pd.read_csv('Data/MasterSentiment/VersusPrice/price_vs_sentiment_gme.csv', index_col= 0, infer_datetime_format=True, parse_dates=True)\n",
    "nio_pvs = pd.read_csv('Data/MasterSentiment/VersusPrice/price_vs_sentiment_nio.csv', index_col= 0, infer_datetime_format=True, parse_dates=True)\n",
    "pltr_pvs = pd.read_csv('Data/MasterSentiment/VersusPrice/price_vs_sentiment_pltr.csv', index_col= 0, infer_datetime_format=True, parse_dates=True)\n",
    "plug_pvs = pd.read_csv('Data/MasterSentiment/VersusPrice/price_vs_sentiment_plug.csv', index_col= 0, infer_datetime_format=True, parse_dates=True)\n",
    "tsla_pvs = pd.read_csv('Data/MasterSentiment/VersusPrice/price_vs_sentiment_tsla.csv', index_col= 0, infer_datetime_format=True, parse_dates=True)"
   ]
  },
  {
   "cell_type": "code",
   "execution_count": 7,
   "metadata": {},
   "outputs": [],
   "source": [
    "# Create Pandas dataframes\n",
    "gme_df[\"Stock\"] = \"GME\"\n",
    "nio_df[\"Stock\"] = \"NIO\"\n",
    "pltr_df[\"Stock\"] = \"PLTR\"\n",
    "plug_df[\"Stock\"] = \"PLUG\"\n",
    "tsla_df[\"Stock\"] = \"TSLA\""
   ]
  },
  {
   "cell_type": "code",
   "execution_count": 8,
   "metadata": {},
   "outputs": [],
   "source": [
    "# Define functions for plots to create a dashboard\n",
    "def gme_like():\n",
    "    gme_fig = go.Figure()\n",
    "    gme_fig.add_trace(go.Scatter(name = 'NLTK Score', x=gme_df.index, y = gme_df['NLTK_Compound']))\n",
    "    gme_fig.add_trace(go.Scatter(name = 'Blob Score', x=gme_df.index, y = gme_df['Blob Score']))\n",
    "    gme_fig.add_trace(go.Bar(name = 'Like Score', x=gme_df.index, y = gme_df['Like Score']))\n",
    "    gme_fig.update_layout(title=\"GME Sentiment Analysis\")\n",
    "    gme_like_plot = gme_fig\n",
    "    return gme_like_plot\n",
    "\n",
    "def nio_like():\n",
    "    nio_fig = go.Figure()\n",
    "    nio_fig.add_trace(go.Scatter(name = 'NLTK Score', x=nio_df.index, y = nio_df['NLTK_Compound']))\n",
    "    nio_fig.add_trace(go.Scatter(name = 'Blob Score', x=nio_df.index, y = nio_df['Blob Score']))\n",
    "    nio_fig.add_trace(go.Bar(name = 'Like Score', x=nio_df.index, y = nio_df['Like Score']))\n",
    "    nio_fig.update_layout(title=\"NIO Sentiment Analysis\")\n",
    "    nio_like_plot = nio_fig\n",
    "    return nio_like_plot\n",
    "\n",
    "def pltr_like():\n",
    "    pltr_fig = go.Figure()\n",
    "    pltr_fig.add_trace(go.Scatter(name = 'NLTK Score', x=pltr_df.index, y = pltr_df['NLTK_Compound']))\n",
    "    pltr_fig.add_trace(go.Scatter(name = 'Blob Score', x=pltr_df.index, y = pltr_df['Blob Score']))\n",
    "    pltr_fig.add_trace(go.Bar(name = 'Like Score', x=pltr_df.index, y = pltr_df['Like Score']))\n",
    "    pltr_fig.update_layout(title=\"PLTR Sentiment Analysis\")\n",
    "    pltr_like_plot = pltr_fig\n",
    "    return pltr_like_plot\n",
    "    \n",
    "def plug_like():\n",
    "    plug_fig = go.Figure()\n",
    "    plug_fig.add_trace(go.Scatter(name = 'NLTK Score', x=plug_df.index, y = plug_df['NLTK_Compound']))\n",
    "    plug_fig.add_trace(go.Scatter(name = 'Blob Score', x=plug_df.index, y = plug_df['Blob Score']))\n",
    "    plug_fig.add_trace(go.Bar(name = 'Like Score', x=plug_df.index, y = plug_df['Like Score']))\n",
    "    plug_fig.update_layout(title=\"PLUG Sentiment Analysis\")\n",
    "    plug_like_plot = plug_fig\n",
    "    return plug_like_plot\n",
    "\n",
    "def tsla_like():\n",
    "    tsla_fig = go.Figure()\n",
    "    tsla_fig.add_trace(go.Scatter(name = 'NLTK Score', x=tsla_df.index, y = tsla_df['NLTK_Compound']))\n",
    "    tsla_fig.add_trace(go.Scatter(name = 'Blob Score', x=tsla_df.index, y = tsla_df['Blob Score']))\n",
    "    tsla_fig.add_trace(go.Bar(name = 'Like Score', x=tsla_df.index, y = tsla_df['Like Score']))\n",
    "    tsla_fig.update_layout(title=\"TSLA Sentiment Analysis\")\n",
    "    tsla_like_plot = tsla_fig\n",
    "    return tsla_like_plot\n",
    "\n",
    "def gme_stpr():\n",
    "    gmepvs_fig = make_subplots(specs=[[{\"secondary_y\": True}]])\n",
    "    trace1 = go.Scatter(name = 'NLTK Score', x=gme_pvs.index, y = gme_pvs['NLTK_Compound'])\n",
    "    trace2 = go.Scatter(name = 'Blob Score', x=gme_pvs.index, y = gme_pvs['Blob Score'])\n",
    "    trace3 = go.Scatter(name = 'Price', x=gme_pvs.index, y = gme_pvs['GME'])\n",
    "    gmepvs_fig.add_trace(trace1, secondary_y=False)\n",
    "    gmepvs_fig.add_trace(trace2, secondary_y=False)\n",
    "    gmepvs_fig.add_trace(trace3, secondary_y=True)\n",
    "    gmepvs_fig.update_layout(title=\"GME Sentiment Analysis Vs. Price\", width = 1100, height=500)\n",
    "    gme_pvs_plot = gmepvs_fig\n",
    "    return gme_pvs_plot\n",
    "\n",
    "def nio_stpr():\n",
    "    niopvs_fig = make_subplots(specs=[[{\"secondary_y\": True}]])\n",
    "    trace1 = go.Scatter(name = 'NLTK Score', x=nio_pvs.index, y = nio_pvs['NLTK_Compound'])\n",
    "    trace2 = go.Scatter(name = 'Blob Score', x=nio_pvs.index, y = nio_pvs['Blob Score'])\n",
    "    trace3 = go.Scatter(name = 'Price', x=nio_pvs.index, y = nio_pvs['NIO'])\n",
    "    niopvs_fig.add_trace(trace1, secondary_y=False)\n",
    "    niopvs_fig.add_trace(trace2, secondary_y=False)\n",
    "    niopvs_fig.add_trace(trace3, secondary_y=True)\n",
    "    niopvs_fig.update_layout(title=\"NIO Sentiment Analysis Vs. Price\", width = 1100, height=500)\n",
    "    nio_pvs_plot = niopvs_fig\n",
    "    return nio_pvs_plot\n",
    "\n",
    "def pltr_stpr():\n",
    "    pltrpvs_fig = make_subplots(specs=[[{\"secondary_y\": True}]])\n",
    "    trace1 = go.Scatter(name = 'NLTK Score', x=pltr_pvs.index, y = pltr_pvs['NLTK_Compound'])\n",
    "    trace2 = go.Scatter(name = 'Blob Score', x=pltr_pvs.index, y = pltr_pvs['Blob Score'])\n",
    "    trace3 = go.Scatter(name = 'Price', x=pltr_pvs.index, y = pltr_pvs['PLTR'])\n",
    "    pltrpvs_fig.add_trace(trace1, secondary_y=False)\n",
    "    pltrpvs_fig.add_trace(trace2, secondary_y=False)\n",
    "    pltrpvs_fig.add_trace(trace3, secondary_y=True)\n",
    "    pltrpvs_fig.update_layout(title=\"PLTR Sentiment Analysis Vs. Price\", width = 1100, height=500)\n",
    "    pltr_pvs_plot = pltrpvs_fig\n",
    "    return pltr_pvs_plot\n",
    "    \n",
    "def plug_stpr():\n",
    "    plugpvs_fig = make_subplots(specs=[[{\"secondary_y\": True}]])\n",
    "    trace1 = go.Scatter(name = 'NLTK Score', x=plug_pvs.index, y = plug_pvs['NLTK_Compound'])\n",
    "    trace2 = go.Scatter(name = 'Blob Score', x=plug_pvs.index, y = plug_pvs['Blob Score'])\n",
    "    trace3 = go.Scatter(name = 'Price', x=plug_pvs.index, y = plug_pvs['PLUG'])\n",
    "    plugpvs_fig.add_trace(trace1, secondary_y=False)\n",
    "    plugpvs_fig.add_trace(trace2, secondary_y=False)\n",
    "    plugpvs_fig.add_trace(trace3, secondary_y=True)\n",
    "    plugpvs_fig.update_layout(title=\"PLUG Sentiment Analysis Vs. Price\", width = 1100, height=500)\n",
    "    plug_pvs_plot = plugpvs_fig\n",
    "    return plug_pvs_plot\n",
    "\n",
    "def tsla_stpr():\n",
    "    tslapvs_fig = make_subplots(specs=[[{\"secondary_y\": True}]])\n",
    "    trace1 = go.Scatter(name = 'NLTK Score', x=tsla_pvs.index, y = tsla_pvs['NLTK_Compound'])\n",
    "    trace2 = go.Scatter(name = 'Blob Score', x=tsla_pvs.index, y = tsla_pvs['Blob Score'])\n",
    "    trace3 = go.Scatter(name = 'Price', x=tsla_pvs.index, y = tsla_pvs['TSLA'])\n",
    "    tslapvs_fig.add_trace(trace1, secondary_y=False)\n",
    "    tslapvs_fig.add_trace(trace2, secondary_y=False)\n",
    "    tslapvs_fig.add_trace(trace3, secondary_y=True)\n",
    "    tslapvs_fig.update_layout(title=\"TSLA Sentiment Analysis Vs. Price\", width = 1100, height=500)\n",
    "    tsla_pvs_plot = tslapvs_fig\n",
    "    return tsla_pvs_plot\n"
   ]
  },
  {
   "cell_type": "code",
   "execution_count": 9,
   "metadata": {},
   "outputs": [],
   "source": [
    "# Create a title for the Dashboard\n",
    "title = pn.pane.Markdown(\n",
    "    \"\"\"\n",
    "##Sentiment analysis of Millenial Momemntum Stocks\n",
    "\"\"\",\n",
    "    width=800,\n",
    ")\n",
    "\n",
    "welcome = pn.pane.Markdown(\n",
    "    \"\"\"\n",
    "Welcome to our sentiment analysis using LSTM on 5 of the top Millenial Momemntum Stocks.\n",
    "\"\"\")\n",
    "\n",
    "# Create a tab layout for the Dashboard\n",
    "tabs = pn.Tabs(\n",
    "    (\"Sentiment Analysis - Sentiment Score vs Number of Likes\", pn.Column(gme_like(), nio_like(), pltr_like(), plug_like(), tsla_like())),\n",
    "    (\"Sentiment Analysis - Sentiment Score vs Stock Price\", pn.Column(gme_stpr(), nio_stpr(), pltr_stpr(), plug_stpr(), tsla_stpr())),\n",
    ")\n",
    "dashboard = pn.Column(pn.Row(title), tabs, width=900)"
   ]
  },
  {
   "cell_type": "code",
   "execution_count": 10,
   "metadata": {},
   "outputs": [
    {
     "name": "stdout",
     "output_type": "stream",
     "text": [
      "Launching server at http://localhost:58591\n"
     ]
    },
    {
     "data": {
      "text/plain": [
       "<bokeh.server.server.Server at 0x1a5b35d12b0>"
      ]
     },
     "execution_count": 10,
     "metadata": {},
     "output_type": "execute_result"
    }
   ],
   "source": [
    "dashboard.show()"
   ]
  },
  {
   "cell_type": "code",
   "execution_count": null,
   "metadata": {},
   "outputs": [],
   "source": []
  }
 ],
 "metadata": {
  "kernelspec": {
   "display_name": "Python 3",
   "language": "python",
   "name": "python3"
  },
  "language_info": {
   "codemirror_mode": {
    "name": "ipython",
    "version": 3
   },
   "file_extension": ".py",
   "mimetype": "text/x-python",
   "name": "python",
   "nbconvert_exporter": "python",
   "pygments_lexer": "ipython3",
   "version": "3.8.3"
  }
 },
 "nbformat": 4,
 "nbformat_minor": 4
}
